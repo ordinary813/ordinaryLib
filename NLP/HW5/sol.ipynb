{
 "cells": [
  {
   "cell_type": "markdown",
   "metadata": {},
   "source": [
    "### Part 1 + 2 - Bert"
   ]
  },
  {
   "cell_type": "code",
   "execution_count": null,
   "metadata": {},
   "outputs": [],
   "source": [
    "from datasets import load_dataset, load_from_disk\n",
    "import os\n",
    "\n",
    "dataset_path = 'imdb_subset'\n",
    "if os.path.exists(dataset_path):\n",
    "    subset = load_from_disk(dataset_path)\n",
    "else:\n",
    "    dataset = load_dataset('imdb')\n",
    "    subset = dataset['train'].shuffle(seed=42).select(range(500))\n",
    "    subset.save_to_disk('imdb_subset')\n",
    "\n",
    "dataset = subset"
   ]
  },
  {
   "cell_type": "code",
   "execution_count": null,
   "metadata": {},
   "outputs": [],
   "source": [
    "from transformers import BertTokenizer, BertForSequenceClassification\n",
    "\n",
    "model_name = 'bert-base-uncased'\n",
    "tokenizer = BertTokenizer.from_pretrained(model_name)\n",
    "model = BertForSequenceClassification.from_pretrained(model_name, num_labels=2)\n",
    "\n",
    "def tokenize_function(example):\n",
    "    return tokenizer(example[\"text\"], padding=\"max_length\", truncation=True)\n",
    "\n",
    "split_dataset = dataset.train_test_split(test_size=0.2, seed=42)\n",
    "train_dataset = split_dataset[\"train\"]\n",
    "test_dataset = split_dataset[\"test\"]\n",
    "\n",
    "# Tokenize the train and test datasets\n",
    "tokenized_train = train_dataset.map(tokenize_function, batched=True)\n",
    "tokenized_test = test_dataset.map(tokenize_function, batched=True)\n",
    "\n",
    "# Set the format for PyTorch\n",
    "tokenized_train.set_format(\"torch\", columns=[\"input_ids\", \"attention_mask\", \"label\"])\n",
    "tokenized_test.set_format(\"torch\", columns=[\"input_ids\", \"attention_mask\", \"label\"])\n",
    "\n",
    "# Confirm dataset sizes\n",
    "print(f\"Train size: {len(tokenized_train)}\")\n",
    "print(f\"Test size: {len(tokenized_test)}\")"
   ]
  },
  {
   "cell_type": "code",
   "execution_count": null,
   "metadata": {},
   "outputs": [],
   "source": [
    "from transformers import TrainingArguments\n",
    "\n",
    "training_args = TrainingArguments(\n",
    "    output_dir=\"./results\",               # Directory to save model checkpoints\n",
    "    evaluation_strategy=\"epoch\",          # Evaluate at the end of each epoch\n",
    "    learning_rate=2e-5,                   # Learning rate\n",
    "    per_device_train_batch_size=8,        # Batch size for training\n",
    "    per_device_eval_batch_size=8,         # Batch size for evaluation\n",
    "    num_train_epochs=5,                   # Number of epochs\n",
    "    weight_decay=0.01,                    # Weight decay\n",
    "    logging_dir=\"./logs\",                 # Directory to save logs\n",
    "    logging_steps=10,                     # Log every 10 steps\n",
    "    save_total_limit=2                    # Limit the number of saved checkpoints\n",
    ")"
   ]
  },
  {
   "cell_type": "code",
   "execution_count": null,
   "metadata": {},
   "outputs": [],
   "source": [
    "from transformers import Trainer\n",
    "import numpy as np\n",
    "from sklearn.metrics import accuracy_score\n",
    "\n",
    "def compute_metrics(eval_pred):\n",
    "    predictions, labels = eval_pred\n",
    "    preds = np.argmax(predictions, axis=1)  # Get the index of the max logit\n",
    "    acc = accuracy_score(labels, preds)\n",
    "    return {\"accuracy\": acc}\n",
    "\n",
    "\n",
    "trainer = Trainer(\n",
    "    model=model,                          # The pre-trained model to fine-tune\n",
    "    args=training_args,                   # Training arguments\n",
    "    train_dataset=tokenized_train,        # Training dataset\n",
    "    eval_dataset=tokenized_test,          # Evaluation dataset\n",
    "    tokenizer=tokenizer,                  # Tokenizer for data preprocessing\n",
    "    compute_metrics=compute_metrics       # Custom metrics function\n",
    ")"
   ]
  },
  {
   "cell_type": "code",
   "execution_count": null,
   "metadata": {},
   "outputs": [],
   "source": [
    "trainer.train()"
   ]
  },
  {
   "cell_type": "code",
   "execution_count": null,
   "metadata": {},
   "outputs": [],
   "source": [
    "results = trainer.evaluate()\n",
    "print(results)"
   ]
  },
  {
   "cell_type": "markdown",
   "metadata": {},
   "source": [
    "### Part 3 - GPT 2"
   ]
  },
  {
   "cell_type": "code",
   "execution_count": 7,
   "metadata": {},
   "outputs": [],
   "source": [
    "from transformers import GPT2LMHeadModel, GPT2Tokenizer, Trainer, TrainingArguments\n",
    "\n",
    "model = GPT2LMHeadModel.from_pretrained(\"gpt2\")\n",
    "tokenizer = GPT2Tokenizer.from_pretrained(\"gpt2\")\n",
    "\n",
    "def tokenize_reviews(dataset, tokenizer, max_length=150):\n",
    "    if tokenizer.pad_token is None:\n",
    "        tokenizer.pad_token = tokenizer.eos_token\n",
    "    def tokenize_function(examples):\n",
    "        return  tokenizer(examples['text'], padding=\"max_length\",\n",
    "                truncation=True, max_length=max_length)\n",
    "\n",
    "    tokenized_dataset = dataset.map(tokenize_function, batched=True)\n",
    "    tokenized_dataset = tokenized_dataset.rename_column(\"label\", \"labels\")\n",
    "    return tokenized_dataset"
   ]
  },
  {
   "cell_type": "code",
   "execution_count": null,
   "metadata": {},
   "outputs": [],
   "source": [
    "training_args = TrainingArguments(\n",
    "    output_dir=\"./gpt2-finetuned-results\",  # Where to store the model\n",
    "    evaluation_strategy=\"epoch\",           # Evaluate at each epoch\n",
    "    per_device_train_batch_size=4,         # Adjust to fit your memory\n",
    "    per_device_eval_batch_size=4,\n",
    "    learning_rate=5e-5,                    # Typical learning rate for fine-tuning\n",
    "    num_train_epochs=3,                    # Adjust as needed\n",
    "    weight_decay=0.01,                     # Helps reduce overfitting\n",
    "    logging_dir=\"./logs\",                  # Where to store logs\n",
    "    logging_steps=10,                      # Adjust for more or less logging\n",
    "    save_total_limit=2,                    # Keep only 2 checkpoints to save space\n",
    "    save_strategy=\"epoch\",                 # Save checkpoints each epoch\n",
    ")"
   ]
  },
  {
   "cell_type": "code",
   "execution_count": 11,
   "metadata": {},
   "outputs": [],
   "source": [
    "from transformers import DataCollatorForLanguageModeling\n",
    "\n",
    "trainer = Trainer(\n",
    "    model=model,\n",
    "    args=training_args,\n",
    "    train_dataset=tokenized_train,\n",
    "    eval_dataset=tokenized_test,\n",
    "    data_collator=DataCollatorForLanguageModeling(tokenizer=tokenizer, mlm=False),\n",
    ")"
   ]
  },
  {
   "cell_type": "code",
   "execution_count": null,
   "metadata": {},
   "outputs": [],
   "source": [
    "trainer.train()"
   ]
  }
 ],
 "metadata": {
  "kernelspec": {
   "display_name": "myenv",
   "language": "python",
   "name": "python3"
  },
  "language_info": {
   "codemirror_mode": {
    "name": "ipython",
    "version": 3
   },
   "file_extension": ".py",
   "mimetype": "text/x-python",
   "name": "python",
   "nbconvert_exporter": "python",
   "pygments_lexer": "ipython3",
   "version": "3.12.3"
  }
 },
 "nbformat": 4,
 "nbformat_minor": 2
}
