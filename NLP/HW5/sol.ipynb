{
 "cells": [
  {
   "cell_type": "markdown",
   "metadata": {},
   "source": [
    "### Part 1"
   ]
  },
  {
   "cell_type": "code",
   "execution_count": null,
   "metadata": {},
   "outputs": [],
   "source": [
    "from datasets import load_dataset, load_from_disk\n",
    "import os, torch\n",
    "\n",
    "device = torch.device(\"cuda\" if torch.cuda.is_available() else \"cpu\")\n",
    "\n",
    "dataset_path = 'imdb_subset'\n",
    "# if the path exists - load the dataset from disk, otherwise download it\n",
    "if os.path.exists(dataset_path):\n",
    "    subset = load_from_disk(dataset_path)\n",
    "else:\n",
    "    dataset = load_dataset('imdb')\n",
    "    subset = dataset['train'].shuffle(seed=42).select(range(500))\n",
    "    subset.save_to_disk('imdb_subset')\n",
    "\n",
    "dataset = subset\n",
    "dataset = dataset.rename_column(\"label\", \"labels\")"
   ]
  },
  {
   "cell_type": "markdown",
   "metadata": {},
   "source": [
    "### Part 2 - Bert"
   ]
  },
  {
   "cell_type": "code",
   "execution_count": null,
   "metadata": {},
   "outputs": [],
   "source": [
    "from transformers import BertTokenizer, BertForSequenceClassification\n",
    "\n",
    "model_name = 'bert-base-uncased'\n",
    "tokenizer = BertTokenizer.from_pretrained(model_name)\n",
    "model = BertForSequenceClassification.from_pretrained(model_name, num_labels=2)"
   ]
  },
  {
   "cell_type": "code",
   "execution_count": null,
   "metadata": {},
   "outputs": [],
   "source": [
    "def tokenize_function(example):\n",
    "    return tokenizer(example[\"text\"], padding=\"max_length\", truncation=True)\n",
    "\n",
    "# Train test split\n",
    "split_dataset = dataset.train_test_split(test_size=0.2, seed=42)\n",
    "train_dataset = split_dataset[\"train\"]\n",
    "test_dataset = split_dataset[\"test\"]\n",
    "\n",
    "# Train eval split\n",
    "split_dataset = train_dataset.train_test_split(test_size=0.4, seed=42)\n",
    "train_dataset = split_dataset[\"train\"]\n",
    "eval_dataset = split_dataset[\"test\"]\n",
    "\n",
    "# Apply the tokenization function to the datasets\n",
    "tokenized_train = train_dataset.map(tokenize_function, batched=True)\n",
    "tokenized_eval = eval_dataset.map(tokenize_function, batched=True)\n",
    "tokenized_test = test_dataset.map(tokenize_function, batched=True)\n",
    "\n",
    "# Set the format for PyTorch\n",
    "tokenized_train.set_format(\"torch\", columns=[\"input_ids\", \"attention_mask\", \"labels\"])\n",
    "tokenized_eval.set_format(\"torch\", columns=[\"input_ids\", \"attention_mask\", \"labels\"])\n",
    "tokenized_test.set_format(\"torch\", columns=[\"input_ids\", \"attention_mask\", \"labels\"])\n",
    "\n",
    "# Confirm dataset sizes\n",
    "print(f\"Train size: {len(tokenized_train)}\")\n",
    "print(f\"Eval size: {len(tokenized_eval)}\")\n",
    "print(f\"Test size: {len(tokenized_test)}\")"
   ]
  },
  {
   "cell_type": "code",
   "execution_count": null,
   "metadata": {},
   "outputs": [],
   "source": [
    "from transformers import TrainingArguments\n",
    "\n",
    "training_args = TrainingArguments(\n",
    "    output_dir=\"./results\",               # Directory to save model checkpoints\n",
    "    evaluation_strategy=\"epoch\",          # Evaluate at the end of each epoch\n",
    "    learning_rate=2e-5,                   # Learning rate\n",
    "    per_device_train_batch_size=8,        # Batch size for training\n",
    "    per_device_eval_batch_size=8,         # Batch size for evaluation\n",
    "    num_train_epochs=10,                  # Number of epochs\n",
    "    weight_decay=0.01,                    # Weight decay\n",
    "    logging_dir=\"./logs\",                 # Directory to save logs\n",
    "    logging_steps=10,                     # Log every 10 steps\n",
    "    save_total_limit=2                    # Limit the number of saved checkpoints\n",
    ")"
   ]
  },
  {
   "cell_type": "code",
   "execution_count": null,
   "metadata": {},
   "outputs": [],
   "source": [
    "from transformers import Trainer\n",
    "import numpy as np\n",
    "from sklearn.metrics import accuracy_score\n",
    "\n",
    "def compute_metrics(eval_pred):\n",
    "    predictions, labels = eval_pred\n",
    "    preds = np.argmax(predictions, axis=1)  # Get the index of the max logit\n",
    "    acc = accuracy_score(labels, preds)\n",
    "    return {\"accuracy\": acc}\n",
    "\n",
    "trainer = Trainer(\n",
    "    model=model,                          # The pre-trained model to fine-tune\n",
    "    args=training_args,                   # Training arguments\n",
    "    train_dataset=tokenized_train,        # Training dataset\n",
    "    eval_dataset=tokenized_eval,          # Evaluation dataset\n",
    "    tokenizer=tokenizer,                  # Tokenizer for data preprocessing\n",
    "    compute_metrics=compute_metrics       # Custom metrics function\n",
    ")\n",
    "\n",
    "model = model.to(device)"
   ]
  },
  {
   "cell_type": "code",
   "execution_count": null,
   "metadata": {},
   "outputs": [],
   "source": [
    "trainer.train()"
   ]
  },
  {
   "cell_type": "code",
   "execution_count": null,
   "metadata": {},
   "outputs": [],
   "source": [
    "# Make predictions on the test dataset\n",
    "predictions = trainer.predict(tokenized_test)\n",
    "\n",
    "# Extract predicted logits and labels\n",
    "logits = predictions.predictions\n",
    "predicted_labels = np.argmax(logits, axis=1)  # Get the indices of the max logits\n",
    "true_labels = predictions.label_ids"
   ]
  },
  {
   "cell_type": "code",
   "execution_count": null,
   "metadata": {},
   "outputs": [],
   "source": [
    "# Calculate accuracy on the test set\n",
    "test_accuracy = accuracy_score(true_labels, predicted_labels)\n",
    "print(f\"Test Accuracy: {test_accuracy * 100:.2f}%\")"
   ]
  },
  {
   "cell_type": "code",
   "execution_count": 6,
   "metadata": {},
   "outputs": [],
   "source": [
    "torch.cuda.empty_cache()"
   ]
  },
  {
   "cell_type": "markdown",
   "metadata": {},
   "source": [
    "### Part 3 - GPT 2"
   ]
  },
  {
   "cell_type": "code",
   "execution_count": 2,
   "metadata": {},
   "outputs": [],
   "source": [
    "from transformers import GPT2LMHeadModel, GPT2Tokenizer, Trainer, TrainingArguments, DataCollatorForLanguageModeling\n",
    "\n",
    "positive_reviews = dataset.filter(lambda example: example[\"labels\"] == 1).select(range(100))\n",
    "negative_reviews = dataset.filter(lambda example: example[\"labels\"] == 0).select(range(100))"
   ]
  },
  {
   "cell_type": "code",
   "execution_count": 3,
   "metadata": {},
   "outputs": [],
   "source": [
    "# Tokenize Reviews\n",
    "def tokenize_reviews(dataset, tokenizer, max_length=150):\n",
    "    if tokenizer.pad_token is None:\n",
    "        tokenizer.pad_token = tokenizer.eos_token\n",
    "\n",
    "    def tokenize_function(examples):\n",
    "        return tokenizer(\n",
    "            examples['text'],\n",
    "            padding=\"max_length\",\n",
    "            truncation=True,\n",
    "            max_length=max_length\n",
    "        )\n",
    "\n",
    "    tokenized_dataset = dataset.map(tokenize_function, batched=True)\n",
    "    return tokenized_dataset"
   ]
  },
  {
   "cell_type": "code",
   "execution_count": 7,
   "metadata": {},
   "outputs": [],
   "source": [
    "def train_save_GPT2(model, tokenizer, tokenized_dataset, prompt='The movie was'):\n",
    "    # Check which dataset we are training on\n",
    "    if tokenized_dataset[\"labels\"][0] == 0:\n",
    "        sentiment = \"negative\"\n",
    "    elif tokenized_dataset[\"labels\"][0] == 1:\n",
    "        sentiment = \"positive\"\n",
    "\n",
    "    training_args = TrainingArguments(\n",
    "        output_dir=f\"./gpt2-{sentiment}-results\",\n",
    "        num_train_epochs=5,\n",
    "        learning_rate=2e-5,\n",
    "        per_device_train_batch_size=4,  # batch size per device during training\n",
    "        per_device_eval_batch_size=4,   # batch size for evaluation\n",
    "        weight_decay=0.01,              # strength of weight decay\n",
    "        logging_dir='./logs',      # directory for storing logs\n",
    "        logging_steps=10,\n",
    "    )\n",
    "\n",
    "    data_collator = DataCollatorForLanguageModeling(\n",
    "        tokenizer=tokenizer,\n",
    "        mlm=False\n",
    "    )\n",
    "\n",
    "    train_test_split = tokenized_dataset.train_test_split(test_size=0.2)\n",
    "    train_dataset = train_test_split[\"train\"]\n",
    "    eval_dataset = train_test_split[\"test\"]\n",
    "    \n",
    "    # Create a Trainer instance\n",
    "    trainer = Trainer(\n",
    "        model=model,\n",
    "        args=training_args,\n",
    "        train_dataset=train_dataset,\n",
    "        eval_dataset=eval_dataset,\n",
    "        tokenizer=tokenizer,\n",
    "        data_collator=data_collator\n",
    "    )\n",
    "    \n",
    "    # Train the model\n",
    "    trainer.train()\n",
    "    results = trainer.evaluate()\n",
    "    print(f'Perplexity: {results[\"eval_loss\"]}')\n",
    "\n",
    "    # Save the model and tokenizer\n",
    "    save_directory = f\"./gpt2-{sentiment}-results\"\n",
    "    trainer.save_model(save_directory)\n",
    "    tokenizer.save_pretrained(save_directory)"
   ]
  },
  {
   "cell_type": "code",
   "execution_count": null,
   "metadata": {},
   "outputs": [],
   "source": [
    "gpt2_model = GPT2LMHeadModel.from_pretrained(\"gpt2\")\n",
    "gpt2_tokenizer = GPT2Tokenizer.from_pretrained(\"gpt2\")\n",
    "gpt2_tokenizer.pad_token = gpt2_tokenizer.eos_token\n",
    "\n",
    "tokenized_positive_reviews = tokenize_reviews(positive_reviews, gpt2_tokenizer)\n",
    "tokenized_negative_reviews = tokenize_reviews(negative_reviews, gpt2_tokenizer)"
   ]
  },
  {
   "cell_type": "code",
   "execution_count": null,
   "metadata": {},
   "outputs": [],
   "source": [
    "train_save_GPT2(gpt2_model, gpt2_tokenizer, tokenized_positive_reviews)"
   ]
  },
  {
   "cell_type": "code",
   "execution_count": null,
   "metadata": {},
   "outputs": [],
   "source": [
    "train_save_GPT2(gpt2_model, gpt2_tokenizer, tokenized_negative_reviews)"
   ]
  },
  {
   "cell_type": "markdown",
   "metadata": {},
   "source": [
    "### AFTER"
   ]
  },
  {
   "cell_type": "code",
   "execution_count": 10,
   "metadata": {},
   "outputs": [],
   "source": [
    "positive_model = GPT2LMHeadModel.from_pretrained(\"gpt2-positive-results\")\n",
    "positive_tokenizer = GPT2Tokenizer.from_pretrained(\"gpt2-positive-results\")\n",
    "\n",
    "negative_model = GPT2LMHeadModel.from_pretrained(\"gpt2-negative-results\")\n",
    "negative_tokenizer = GPT2Tokenizer.from_pretrained(\"gpt2-negative-results\")"
   ]
  },
  {
   "cell_type": "code",
   "execution_count": null,
   "metadata": {},
   "outputs": [],
   "source": [
    "# Parameters for text generation\n",
    "max_length = 150\n",
    "temperature = 0.7\n",
    "top_k = 50\n",
    "top_p = 0.9\n",
    "repetition_penalty = 1.2\n",
    "prompt = 'The movie was'\n",
    "\n",
    "input_ids_pos = positive_tokenizer.encode(prompt, return_tensors=\"pt\")\n",
    "attention_mask = input_ids_pos.ne(positive_tokenizer.pad_token_id) \n",
    "\n",
    "input_ids_neg = negative_tokenizer.encode(prompt, return_tensors=\"pt\")\n",
    "attention_mask = input_ids_neg.ne(negative_tokenizer.pad_token_id)\n",
    "\n",
    "def generate_reviews(model, tokenizer, num_reviews=5):\n",
    "    reviews = []\n",
    "    for _ in range(num_reviews):\n",
    "        input_ids = tokenizer.encode(prompt, return_tensors=\"pt\")\n",
    "        attention_mask = input_ids.ne(tokenizer.pad_token_id)\n",
    "        \n",
    "        with torch.no_grad():\n",
    "            output = model.generate(\n",
    "                input_ids,\n",
    "                attention_mask=attention_mask,\n",
    "                max_length=max_length,\n",
    "                temperature=temperature,\n",
    "                top_k=top_k,\n",
    "                top_p=top_p,\n",
    "                repetition_penalty=repetition_penalty,\n",
    "                do_sample=True,\n",
    "                num_return_sequences=1\n",
    "            )\n",
    "        review = tokenizer.decode(output[0], skip_special_tokens=True)\n",
    "        reviews.append(review)\n",
    "    return reviews\n",
    "\n",
    "positive_reviews = generate_reviews(positive_model, positive_tokenizer)\n",
    "negative_reviews = generate_reviews(negative_model, negative_tokenizer)\n",
    "\n",
    "with open('generated_reviews.txt', 'w') as file:\n",
    "    file.write(\"Reviews generated by positive model:\\n\")\n",
    "    for i, review in enumerate(positive_reviews, start=1):\n",
    "        file.write(f\"{i}. {review}\\n\")\n",
    "    file.write(\"\\nReviews generated by negative model:\\n\")\n",
    "    for i, review in enumerate(negative_reviews, start=1):\n",
    "        file.write(f\"{i}. {review}\\n\")"
   ]
  }
 ],
 "metadata": {
  "kernelspec": {
   "display_name": "myenv",
   "language": "python",
   "name": "python3"
  },
  "language_info": {
   "codemirror_mode": {
    "name": "ipython",
    "version": 3
   },
   "file_extension": ".py",
   "mimetype": "text/x-python",
   "name": "python",
   "nbconvert_exporter": "python",
   "pygments_lexer": "ipython3",
   "version": "3.12.3"
  }
 },
 "nbformat": 4,
 "nbformat_minor": 2
}
