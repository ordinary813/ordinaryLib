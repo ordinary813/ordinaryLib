{
 "cells": [
  {
   "cell_type": "code",
   "execution_count": 1,
   "metadata": {},
   "outputs": [],
   "source": [
    "from gensim.models import Word2Vec\n",
    "import numpy as np\n",
    "import pandas as pd\n",
    "import json\n",
    "import random\n",
    "from sklearn.metrics.pairwise import cosine_similarity\n",
    "from sklearn.neighbors import KNeighborsClassifier\n",
    "import re\n",
    "from sklearn.model_selection import cross_val_score\n",
    "from sklearn.metrics import classification_report"
   ]
  },
  {
   "cell_type": "code",
   "execution_count": 2,
   "metadata": {},
   "outputs": [],
   "source": [
    "corpus_file = 'knesset_corpus.jsonl'\n",
    "punctuations = '\",./<>?;:\\'[]{}\\\\|`~!@#$%^&*()-_=+'\n",
    "tokenized_sentences = []\n",
    "\n",
    "# Load the corpus into a list of tokenized sentences (list of lists)\n",
    "with open(corpus_file, 'r', encoding='utf-8') as f:\n",
    "    for line in f:\n",
    "        data = json.loads(line)\n",
    "        sentence_text = data.get('sentence_text', '')\n",
    "        if sentence_text:\n",
    "            tokenized_sentence = [\n",
    "                ''.join(char for char in word if char not in punctuations)      # Remove punctuation\n",
    "                for word in sentence_text.split() if not word.isdigit()         # Split by spaces + token is not a number\n",
    "            ]\n",
    "            tokenized_sentences.append([word for word in tokenized_sentence if word])"
   ]
  },
  {
   "cell_type": "code",
   "execution_count": 3,
   "metadata": {},
   "outputs": [],
   "source": [
    "# Fit a model using the sentences we tokenized and save it\n",
    "model = Word2Vec(sentences=tokenized_sentences, vector_size=75, window=5, min_count=1, workers=4)\n",
    "model.save(\"knesset_word2vec.model\")"
   ]
  },
  {
   "cell_type": "code",
   "execution_count": 4,
   "metadata": {},
   "outputs": [
    {
     "name": "stdout",
     "output_type": "stream",
     "text": [
      "[-1.9506583   1.3454547  -1.2159827  -3.889057   -1.1057194  -0.81507915\n",
      " -1.7378796  -0.0795204  -0.3953931  -0.4877878   1.7678379  -0.51411456\n",
      "  5.3083076   2.3485584   2.4182022   2.1773334  -2.697223   -4.7814136\n",
      "  5.8661256  -0.70973736 -5.5970674  -4.432134   -0.45512405  0.99072087\n",
      "  1.5593802   2.6893508  -5.2968063  -0.6368427  -1.5938474  -1.6603626\n",
      "  1.1326973   0.34424287  0.42367145 -3.5932908  -0.48731628  2.4617026\n",
      "  1.7808979   2.6835587  -3.2683408  -4.908159    0.69958025 -1.0144768\n",
      " -0.06972993  2.2278233  -1.2828878   2.0248656  -1.0384817  -4.0078053\n",
      " -1.0066732   3.1374154   1.9752761   2.4918654   2.23091    -2.9785476\n",
      " -0.2560912  -2.2183666  -0.66240823 -1.9589908  -1.2587492  -3.6300495\n",
      "  6.625241    3.6031227  -1.625532   -0.26394567  3.1224911  -3.394617\n",
      "  1.508584   -0.15600663  1.6483643   4.467002   -3.7147446   0.6162137\n",
      " -0.5476157  -3.6950758  -0.16228233]\n"
     ]
    }
   ],
   "source": [
    "word_vectors = model.wv\n",
    "print(word_vectors['ישראל'])"
   ]
  },
  {
   "cell_type": "markdown",
   "metadata": {},
   "source": [
    "1. Increasing the vector size allows us to capture more information about each word as it has more dimensionality.\n",
    "2. PROBLEMS IN THIS SPECIFIC CORPUS"
   ]
  },
  {
   "cell_type": "code",
   "execution_count": 5,
   "metadata": {},
   "outputs": [],
   "source": [
    "words_to_check = ['ישראל', 'גברת', 'ממשלה', 'חבר', 'בוקר', 'מים', 'אסור', 'רשות', 'זכויות']\n",
    "\n",
    "# We decided to utilize a dictionary to store the most similar words for each word\n",
    "similar_words = {}\n",
    "\n",
    "# Find the most similar words for each word\n",
    "for word in words_to_check:\n",
    "    if word in word_vectors:\n",
    "        # Calculate similarity between the target word and all other words in the vocabulary\n",
    "        similarity_scores = {other_word: word_vectors.similarity(word, other_word)\n",
    "                             for other_word in word_vectors.index_to_key if other_word != word}\n",
    "        \n",
    "        # Sort by the scores and pick the top 5\n",
    "        most_similar = sorted(similarity_scores.items(), key=lambda x: x[1], reverse=True)[:5]\n",
    "        similar_words[word] = most_similar\n",
    "\n",
    "with open('knesset_similar_words.txt', 'w', encoding='utf-8') as f:\n",
    "    for word, similar in similar_words.items():\n",
    "        # Format the top 5 for the current word\n",
    "        similar_str = ', '.join([f\"({sim_word}, {score:.4f})\" for sim_word, score in similar])\n",
    "        f.write(f\"{word}: {similar_str}\\n\")"
   ]
  },
  {
   "cell_type": "code",
   "execution_count": 6,
   "metadata": {},
   "outputs": [],
   "source": [
    "def average_sentence_embedding(sentence):\n",
    "    # Get the word embedding vectors for the sentence\n",
    "    vectors = [model.wv[word] for word in sentence if word in model.wv]\n",
    "    \n",
    "    if vectors:\n",
    "        return np.mean(vectors, axis=0)\n",
    "    else:\n",
    "        return np.zeros(model.vector_size)\n",
    "\n",
    "sentence_embeddings = []\n",
    "for sentence in tokenized_sentences:\n",
    "    sentence_embeddings.append(average_sentence_embedding(sentence))"
   ]
  },
  {
   "cell_type": "code",
   "execution_count": 7,
   "metadata": {},
   "outputs": [],
   "source": [
    "# The sentences we hand picked for this task, they seem to have a good structure\n",
    "# and it is possible to infer their meanings, they were also not too long and not too short\n",
    "selected_indices = [18,     22,     94,     3142,   3220, \n",
    "                    9277,   62100,  79100,  93123,  101293]\n",
    "\n",
    "# Calculate cosine similarity between sentence embeddings\n",
    "similar_sentences = {}\n",
    "for idx in selected_indices:\n",
    "    current_embedding = sentence_embeddings[idx].reshape(1, -1)\n",
    "    similarities = cosine_similarity(current_embedding, sentence_embeddings)\n",
    "    most_similar_idx = similarities.argsort()[0][-2]\n",
    "    similar_sentences[idx] = most_similar_idx\n",
    "\n",
    "# Load the original sentences with punctuations\n",
    "original_sentences = []\n",
    "with open(corpus_file, 'r', encoding='utf-8') as f:\n",
    "    for line in f:\n",
    "        data = json.loads(line)\n",
    "        original_sentences.append(data.get('sentence_text', ''))\n",
    "\n",
    "with open('knesset_similar_sentences.txt', 'w', encoding='utf-8') as f:\n",
    "    for idx, similar_idx in similar_sentences.items():\n",
    "        current_sentence = original_sentences[idx]\n",
    "        similar_sentence = original_sentences[similar_idx]\n",
    "        f.write(f\"{current_sentence}: most similar sentence: {similar_sentence}\\n\")"
   ]
  },
  {
   "cell_type": "code",
   "execution_count": null,
   "metadata": {},
   "outputs": [
    {
     "name": "stdout",
     "output_type": "stream",
     "text": [
      "בעוד מספר שלוש נתחיל את הנושא בנושא השבת החטופים .\n",
      "בתור יושבת ראש הנשיאות , ואני מוכנה להאריך את המסמך באותם תנאים .\n",
      "ממני טוב , אני מביע את הישיבה .\n",
      "שמחון , אנחנו נמשיך להודיע שחברינו ה יקר קיבל פיקוד .\n",
      "אין הצדקה להמשיך לעסוק ב נושא .\n"
     ]
    }
   ],
   "source": [
    "sentences_to_check = {\n",
    "    r'בעוד מספר דקות נתחיל את הדיון בנושא השבת החטופים .': ['דקות','הדיון'],\n",
    "    r'בתור יושבת ראש הוועדה , אני מוכנה להאריך את ההסכם באותם תנאים .': ['הוועדה','אני', 'ההסכם'],\n",
    "    r'בוקר טוב , אני פותח את הישיבה .': ['בוקר', 'פותח'],\n",
    "    r'שלום , אנחנו שמחים להודיע שחברינו ה יקר קיבל קידום .': ['שלום', 'שמחים', 'היקר','קידום'],\n",
    "    r'אין מניעה להמשיך לעסוק ב נושא .': ['מניעה']\n",
    "}\n",
    "\n",
    "def replace_with_similar_words(sentence_dict, model):\n",
    "    replaced_sentences = []\n",
    "    for sentence, words in sentence_dict.items():\n",
    "        new_sentence = sentence\n",
    "        for word in words:\n",
    "            if word in model.wv:\n",
    "                similar_word = model.wv.most_similar(word, topn=1)[0][0]\n",
    "                new_sentence = new_sentence.replace(word, similar_word)\n",
    "        replaced_sentences.append(new_sentence)\n",
    "    return replaced_sentences\n",
    "\n",
    "    # Replace words in the sentences\n",
    "replaced_sentences_with_prompts = replace_with_similar_words(sentences_to_check, model)\n",
    "for sentence in replaced_sentences_with_prompts:\n",
    "    print(sentence)"
   ]
  },
  {
   "cell_type": "markdown",
   "metadata": {},
   "source": [
    "### KNN Classifier"
   ]
  },
  {
   "cell_type": "code",
   "execution_count": 9,
   "metadata": {},
   "outputs": [],
   "source": [
    "class Speaker:\n",
    "    def __init__(self, file_path, speaker_name=None):\n",
    "        self.name = speaker_name\n",
    "        self.df = pd.read_json(file_path, lines=True)\n",
    "        if speaker_name:\n",
    "            self.df = self.df[self.df['speaker_name'].apply(self._matches_speaker_name)]\n",
    "    \n",
    "    def _matches_speaker_name(self, name_in_data):\n",
    "        if not self.name:\n",
    "            return False\n",
    "        \n",
    "        name_parts = self.name.split()\n",
    "        data_parts = name_in_data.split()\n",
    "        \n",
    "        # Handle case where name has more than 4 components\n",
    "        if len(name_parts) > 4 or len(data_parts) > 4:\n",
    "            return False\n",
    "        \n",
    "        # Iterate over all parts of the provided name\n",
    "        for i, part in enumerate(name_parts):\n",
    "            if i >= len(data_parts):  # Dataset name has fewer parts\n",
    "                return False\n",
    "            \n",
    "            # If it's an initial, match with any name starting with the same letter\n",
    "            if re.fullmatch(rf\"{re.escape(part[0])}['\\\"׳`]?\", part):\n",
    "                if not data_parts[i].startswith(part[0]):\n",
    "                    return False\n",
    "            # If it's a full name, ensure it matches fully\n",
    "            elif part != data_parts[i]:\n",
    "                return False\n",
    "        return True\n",
    "\n",
    "corpus_path = 'knesset_corpus.jsonl'\n",
    "df = pd.read_json(corpus_path, lines=True)\n",
    "\n",
    "def get_most_frequent_speakers(df):\n",
    "    speaker_counts = df['speaker_name'].value_counts()\n",
    "    most_frequent_speaker = speaker_counts.idxmax()\n",
    "    second_most_frequent_speaker = speaker_counts.index[1] if len(speaker_counts) > 1 else None\n",
    "    return most_frequent_speaker, second_most_frequent_speaker\n",
    "\n",
    "most_frequent_speaker, second_most_frequent_speaker = get_most_frequent_speakers(df)\n",
    "\n",
    "# Binary classification task\n",
    "speaker1Bin = Speaker(corpus_path, most_frequent_speaker)\n",
    "speaker2Bin = Speaker(corpus_path, second_most_frequent_speaker)\n",
    "\n",
    "def balance_dataframes(df1, df2):\n",
    "    min_len = min(len(df1), len(df2))\n",
    "    return df1.sample(min_len), df2.sample(min_len)\n",
    "\n",
    "speaker1Bin.df, speaker2Bin.df = balance_dataframes(speaker1Bin.df, speaker2Bin.df)"
   ]
  },
  {
   "cell_type": "code",
   "execution_count": 12,
   "metadata": {},
   "outputs": [
    {
     "name": "stdout",
     "output_type": "stream",
     "text": [
      "Cross-validated accuracy scores: [0.80549451 0.79317932 0.81188119 0.80968097 0.80528053]\n",
      "Mean accuracy: 80.51%\n"
     ]
    }
   ],
   "source": [
    "def average_sentence_embedding(sentence):\n",
    "    # Get the word embedding vectors for the sentence\n",
    "    vectors = [model.wv[word] for word in sentence if word in model.wv]\n",
    "    \n",
    "    if vectors:\n",
    "        return np.mean(vectors, axis=0)\n",
    "    else:\n",
    "        return np.zeros(model.vector_size)\n",
    "\n",
    "tokenized_sentences = []\n",
    "labels = []\n",
    "\n",
    "for bin_data in [speaker1Bin.df, speaker2Bin.df]:\n",
    "    for _, row in bin_data.iterrows():\n",
    "        sentence_text = row['sentence_text']\n",
    "        speaker_name = row['speaker_name']\n",
    "        if sentence_text:\n",
    "            tokenized_sentence = [\n",
    "                ''.join(char for char in word if char not in punctuations)  # Remove punctuation\n",
    "                for word in sentence_text.split() if not word.isdigit()     # Split by spaces + token is not a number\n",
    "            ]\n",
    "            tokenized_sentences.append([word for word in tokenized_sentence if word])\n",
    "            labels.append(1 if speaker_name == most_frequent_speaker else 0)\n",
    "\n",
    "sentence_embeddings = np.array([average_sentence_embedding(sentence) for sentence in tokenized_sentences])\n",
    "labels = np.array(labels)\n",
    "\n",
    "# Train the KNN classifier using cross-validation\n",
    "classifier = KNeighborsClassifier(n_neighbors=5)\n",
    "scores = cross_val_score(classifier, sentence_embeddings, labels, cv=5, scoring='accuracy')\n",
    "print(f\"Cross-validated accuracy scores: {scores}\")\n",
    "print(f\"Mean accuracy: {scores.mean() * 100:.2f}%\")"
   ]
  },
  {
   "cell_type": "code",
   "execution_count": 13,
   "metadata": {},
   "outputs": [
    {
     "name": "stdout",
     "output_type": "stream",
     "text": [
      "              precision    recall  f1-score   support\n",
      "\n",
      "           0       0.91      0.82      0.86      2273\n",
      "           1       0.84      0.92      0.88      2273\n",
      "\n",
      "    accuracy                           0.87      4546\n",
      "   macro avg       0.87      0.87      0.87      4546\n",
      "weighted avg       0.87      0.87      0.87      4546\n",
      "\n"
     ]
    }
   ],
   "source": [
    "print(classification_report(labels, classifier.fit(sentence_embeddings, labels).predict(sentence_embeddings)))"
   ]
  },
  {
   "cell_type": "markdown",
   "metadata": {},
   "source": [
    "### Bert"
   ]
  },
  {
   "cell_type": "code",
   "execution_count": 20,
   "metadata": {},
   "outputs": [],
   "source": [
    "original_sentences = []\n",
    "with open('original_sampled_sents.txt', 'r', encoding='utf-8') as f:\n",
    "    for line in f:\n",
    "        original_sentences.append(line)\n",
    "\n",
    "masked_sentences = []\n",
    "with open('masked_sampled_sents.txt', 'r', encoding='utf-8') as f:\n",
    "    for line in f:\n",
    "        masked_sentences.append(line.replace('*', 'MASK').strip())\n",
    "\n",
    "tokenized_masked_sentences = [sentence.split() for sentence in masked_sentences]"
   ]
  },
  {
   "cell_type": "code",
   "execution_count": 24,
   "metadata": {},
   "outputs": [],
   "source": [
    "from transformers import AutoModelForMaskedLM, AutoTokenizer\n",
    "import torch\n",
    "\n",
    "tokenizer = AutoTokenizer.from_pretrained('dicta-il/dictabert')\n",
    "model = AutoModelForMaskedLM.from_pretrained('dicta-il/dictabert')\n",
    "model.eval()\n",
    "\n",
    "with open('dictabert_results.txt', 'w') as file:\n",
    "    # Iterate over masked sentences and corresponding original sentences\n",
    "    for original_sentence, masked_sentence in zip(original_sentences, masked_sentences):\n",
    "        tokenized_sentence = masked_sentence.split()\n",
    "        generated_tokens = []  # List to store generated tokens\n",
    "        for i, token in enumerate(tokenized_sentence):\n",
    "            if token == '[MASK]':\n",
    "                inputs = tokenizer.encode(' '.join(tokenized_sentence), return_tensors='pt')\n",
    "                outputs = model(inputs)\n",
    "                predictions = outputs.logits[0, i, :]\n",
    "                most_similar = torch.topk(predictions, 1)[1]\n",
    "                generated_token = tokenizer.convert_ids_to_tokens(most_similar.item())\n",
    "                tokenized_sentence[i] = generated_token\n",
    "                generated_tokens.append(generated_token)\n",
    "        \n",
    "        dictaBERT_sentence = ' '.join(tokenized_sentence)\n",
    "        dictaBERT_tokens = ', '.join(generated_tokens)\n",
    "        \n",
    "        # Write combined output to the file\n",
    "        file.write(f\"original_sentence: {original_sentence.replace('\\n','')}\\n\")\n",
    "        file.write(f\"masked_sentence: {masked_sentence}\\n\")\n",
    "        file.write(f\"dictaBERT_sentence: {dictaBERT_sentence}\\n\")\n",
    "        file.write(f\"dictaBERT tokens: {dictaBERT_tokens}\\n\\n\")"
   ]
  }
 ],
 "metadata": {
  "kernelspec": {
   "display_name": "myenv",
   "language": "python",
   "name": "python3"
  },
  "language_info": {
   "codemirror_mode": {
    "name": "ipython",
    "version": 3
   },
   "file_extension": ".py",
   "mimetype": "text/x-python",
   "name": "python",
   "nbconvert_exporter": "python",
   "pygments_lexer": "ipython3",
   "version": "3.12.3"
  }
 },
 "nbformat": 4,
 "nbformat_minor": 2
}
