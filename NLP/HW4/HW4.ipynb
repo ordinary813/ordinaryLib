{
 "cells": [
  {
   "cell_type": "code",
   "execution_count": 1,
   "metadata": {},
   "outputs": [],
   "source": [
    "from gensim.models import Word2Vec\n",
    "import numpy as np\n",
    "import pandas as pd\n",
    "import json\n",
    "import random\n",
    "from sklearn.metrics.pairwise import cosine_similarity\n",
    "from sklearn.neighbors import KNeighborsClassifier\n",
    "import re\n",
    "from sklearn.model_selection import cross_val_score\n",
    "from sklearn.metrics import classification_report"
   ]
  },
  {
   "cell_type": "code",
   "execution_count": 2,
   "metadata": {},
   "outputs": [],
   "source": [
    "corpus_file = 'knesset_corpus.jsonl'\n",
    "punctuations = '\",./<>?;:\\'[]{}\\\\|`~!@#$%^&*()-_=+'\n",
    "tokenized_sentences = []\n",
    "\n",
    "# Load the corpus into a list of tokenized sentences (list of lists)\n",
    "with open(corpus_file, 'r', encoding='utf-8') as f:\n",
    "    for line in f:\n",
    "        data = json.loads(line)\n",
    "        sentence_text = data.get('sentence_text', '')\n",
    "        if sentence_text:\n",
    "            tokenized_sentence = [\n",
    "                ''.join(char for char in word if char not in punctuations)      # Remove punctuation\n",
    "                for word in sentence_text.split() if not word.isdigit()         # Split by spaces + token is not a number\n",
    "            ]\n",
    "            tokenized_sentences.append([word for word in tokenized_sentence if word])"
   ]
  },
  {
   "cell_type": "code",
   "execution_count": 3,
   "metadata": {},
   "outputs": [],
   "source": [
    "# Fit a model using the sentences we tokenized and save it\n",
    "model = Word2Vec(sentences=tokenized_sentences, vector_size=75, window=5, min_count=1, workers=4)\n",
    "model.save(\"knesset_word2vec.model\")"
   ]
  },
  {
   "cell_type": "code",
   "execution_count": 4,
   "metadata": {},
   "outputs": [
    {
     "name": "stdout",
     "output_type": "stream",
     "text": [
      "[-1.169255   -0.16793862 -2.0645444  -1.804288   -1.3457613   0.64175487\n",
      " -2.0476382   0.25816572  1.2085469  -0.503395    0.5615394   0.41585433\n",
      "  4.2621164   2.3613327   2.3503318   1.3850614  -2.84321    -5.2625837\n",
      "  5.4438844   0.4587705  -5.7069845  -4.0692124  -2.0300946   0.24550441\n",
      "  1.0338215   1.4490489  -5.5016985  -1.462781   -2.3541327  -0.56446946\n",
      "  2.6635463   1.3847193  -0.434488   -3.8004498  -0.7828321   1.9544717\n",
      "  1.5978425   2.8863485  -4.243268   -3.8361502   1.0992993   0.24070765\n",
      "  0.01129832  2.3179395  -1.6477921   0.7794569  -0.70139813 -3.9775765\n",
      " -0.92505395  5.6658187   3.2278452   1.9135427   2.2281106  -2.7181847\n",
      " -0.29920474 -2.4613624   0.4050948  -0.16124117  0.02799423 -3.6544554\n",
      "  7.354597    2.6827607  -1.7322657  -1.0658965   3.650017   -3.4236054\n",
      "  2.962219    2.0569234   4.4817      3.7506545  -2.7776325  -0.01020103\n",
      " -0.6548142  -3.4621594  -0.63355035]\n"
     ]
    }
   ],
   "source": [
    "word_vectors = model.wv\n",
    "print(word_vectors['ישראל'])"
   ]
  },
  {
   "cell_type": "markdown",
   "metadata": {},
   "source": [
    "1. Increasing the vector size allows us to capture more information about each word as it has more dimensionality.\n",
    "2. PROBLEMS IN THIS SPECIFIC CORPUS"
   ]
  },
  {
   "cell_type": "code",
   "execution_count": 5,
   "metadata": {},
   "outputs": [],
   "source": [
    "words_to_check = ['ישראל', 'גברת', 'ממשלה', 'חבר', 'בוקר', 'מים', 'אסור', 'רשות', 'זכויות']\n",
    "\n",
    "# We decided to utilize a dictionary to store the most similar words for each word\n",
    "similar_words = {}\n",
    "\n",
    "# Find the most similar words for each word\n",
    "for word in words_to_check:\n",
    "    if word in word_vectors:\n",
    "        # Calculate similarity between the target word and all other words in the vocabulary\n",
    "        similarity_scores = {other_word: word_vectors.similarity(word, other_word)\n",
    "                             for other_word in word_vectors.index_to_key if other_word != word}\n",
    "        \n",
    "        # Sort by the scores and pick the top 5\n",
    "        most_similar = sorted(similarity_scores.items(), key=lambda x: x[1], reverse=True)[:5]\n",
    "        similar_words[word] = most_similar\n",
    "\n",
    "with open('knesset_similar_words.txt', 'w', encoding='utf-8') as f:\n",
    "    for word, similar in similar_words.items():\n",
    "        # Format the top 5 for the current word\n",
    "        similar_str = ', '.join([f\"({sim_word}, {score:.4f})\" for sim_word, score in similar])\n",
    "        f.write(f\"{word}: {similar_str}\\n\")"
   ]
  },
  {
   "cell_type": "code",
   "execution_count": 6,
   "metadata": {},
   "outputs": [],
   "source": [
    "def average_sentence_embedding(sentence):\n",
    "    # Get the word embedding vectors for the sentence\n",
    "    vectors = [model.wv[word] for word in sentence if word in model.wv]\n",
    "    \n",
    "    if vectors:\n",
    "        return np.mean(vectors, axis=0)\n",
    "    else:\n",
    "        return np.zeros(model.vector_size)\n",
    "\n",
    "sentence_embeddings = []\n",
    "for sentence in tokenized_sentences:\n",
    "    sentence_embeddings.append(average_sentence_embedding(sentence))"
   ]
  },
  {
   "cell_type": "code",
   "execution_count": 8,
   "metadata": {},
   "outputs": [],
   "source": [
    "# The sentences we hand picked for this task, they seem to have a good structure\n",
    "# and it is possible to infer their meanings, they were also not too long and not too short\n",
    "selected_indices = [18,     22,     94,     3142,   3220, \n",
    "                    9277,   62100,  79100,  93123,  101293]\n",
    "\n",
    "# Calculate cosine similarity between sentence embeddings\n",
    "similar_sentences = {}\n",
    "for idx in selected_indices:\n",
    "    current_embedding = sentence_embeddings[idx].reshape(1, -1)\n",
    "    similarities = cosine_similarity(current_embedding, sentence_embeddings)\n",
    "    most_similar_idx = similarities.argsort()[0][-2]\n",
    "    similar_sentences[idx] = most_similar_idx\n",
    "\n",
    "# Load the original sentences with punctuations\n",
    "original_sentences = []\n",
    "with open(corpus_file, 'r', encoding='utf-8') as f:\n",
    "    for line in f:\n",
    "        data = json.loads(line)\n",
    "        original_sentences.append(data.get('sentence_text', ''))\n",
    "\n",
    "with open('knesset_similar_sentences.txt', 'w', encoding='utf-8') as f:\n",
    "    for idx, similar_idx in similar_sentences.items():\n",
    "        current_sentence = original_sentences[idx]\n",
    "        similar_sentence = original_sentences[similar_idx]\n",
    "        f.write(f\"{current_sentence}: most similar sentence: {similar_sentence}\\n\")"
   ]
  },
  {
   "cell_type": "markdown",
   "metadata": {},
   "source": [
    "### STOPPED HERE"
   ]
  },
  {
   "cell_type": "code",
   "execution_count": 9,
   "metadata": {},
   "outputs": [
    {
     "name": "stdout",
     "output_type": "stream",
     "text": [
      "בעוד מספר הדקות נתחיל את הנושא בנושא השבת החטופים .\n",
      "בתור יושבת ראש הקואליציה , ואני מוכנה להאריך את המסמך באותם תנאים .\n",
      "ולי טוב , אני מפנה את הישיבה .\n",
      "שמחון , אנחנו משתדלים להודיע שחברינו ה יקר קיבל באגף .\n",
      "אין אינטגרציה להמשיך לעסוק ב נושא .\n"
     ]
    }
   ],
   "source": [
    "sentences_to_check = {\n",
    "    r'בעוד מספר דקות נתחיל את הדיון בנושא השבת החטופים .': ['דקות','הדיון'],\n",
    "    r'בתור יושבת ראש הוועדה , אני מוכנה להאריך את ההסכם באותם תנאים .': ['הוועדה','אני', 'ההסכם'],\n",
    "    r'בוקר טוב , אני פותח את הישיבה .': ['בוקר', 'פותח'],\n",
    "    r'שלום , אנחנו שמחים להודיע שחברינו ה יקר קיבל קידום .': ['שלום', 'שמחים', 'היקר','קידום'],\n",
    "    r'אין מניעה להמשיך לעסוק ב נושא .': ['מניעה']\n",
    "}\n",
    "\n",
    "prompts = {\n",
    "    r'בעוד מספר דקות נתחיל את הדיון בנושא השבת החטופים .': ['רבים','הרבה', 'מספר'],\n",
    "    r'בתור יושבת ראש הוועדה , אני מוכנה להאריך את ההסכם באותם תנאים .': ['הראש','היושבת'],\n",
    "    r'בוקר טוב , אני פותח את הישיבה .': ['זמן'],\n",
    "    r'שלום , אנחנו שמחים להודיע שחברינו ה יקר קיבל קידום .': ['פותח'],\n",
    "    r'אין מניעה להמשיך לעסוק ב נושא .': []\n",
    "}\n",
    "\n",
    "def replace_with_similar_words(sentence_dict, model):\n",
    "    replaced_sentences = []\n",
    "    for sentence, words in sentence_dict.items():\n",
    "        new_sentence = sentence\n",
    "        for word in words:\n",
    "            if word in model.wv:\n",
    "                similar_word = model.wv.most_similar(word, topn=1)[0][0]\n",
    "                new_sentence = new_sentence.replace(word, similar_word)\n",
    "        replaced_sentences.append(new_sentence)\n",
    "    return replaced_sentences\n",
    "\n",
    "    # Replace words in the sentences\n",
    "replaced_sentences_with_prompts = replace_with_similar_words(sentences_to_check, model)\n",
    "for sentence in replaced_sentences_with_prompts:\n",
    "    print(sentence)"
   ]
  },
  {
   "cell_type": "markdown",
   "metadata": {},
   "source": [
    "### KNN Classifier"
   ]
  },
  {
   "cell_type": "markdown",
   "metadata": {},
   "source": [
    "Copied code from HW3"
   ]
  },
  {
   "cell_type": "code",
   "execution_count": 10,
   "metadata": {},
   "outputs": [],
   "source": [
    "class Speaker:\n",
    "    def __init__(self, file_path, speaker_name=None):\n",
    "        self.name = speaker_name\n",
    "        self.df = pd.read_json(file_path, lines=True)\n",
    "        if speaker_name:\n",
    "            self.df = self.df[self.df['speaker_name'].apply(self._matches_speaker_name)]\n",
    "    \n",
    "    def _matches_speaker_name(self, name_in_data):\n",
    "        if not self.name:\n",
    "            return False\n",
    "        \n",
    "        name_parts = self.name.split()\n",
    "        data_parts = name_in_data.split()\n",
    "        \n",
    "        # Handle case where name has more than 4 components\n",
    "        if len(name_parts) > 4 or len(data_parts) > 4:\n",
    "            return False\n",
    "        \n",
    "        # Iterate over all parts of the provided name\n",
    "        for i, part in enumerate(name_parts):\n",
    "            if i >= len(data_parts):  # Dataset name has fewer parts\n",
    "                return False\n",
    "            \n",
    "            # If it's an initial, match with any name starting with the same letter\n",
    "            if re.fullmatch(rf\"{re.escape(part[0])}['\\\"׳`]?\", part):\n",
    "                if not data_parts[i].startswith(part[0]):\n",
    "                    return False\n",
    "            # If it's a full name, ensure it matches fully\n",
    "            elif part != data_parts[i]:\n",
    "                return False\n",
    "        return True\n",
    "\n",
    "corpus_path = 'knesset_corpus.jsonl'\n",
    "df = pd.read_json(corpus_path, lines=True)\n",
    "\n",
    "def get_most_frequent_speakers(df):\n",
    "    speaker_counts = df['speaker_name'].value_counts()\n",
    "    most_frequent_speaker = speaker_counts.idxmax()\n",
    "    second_most_frequent_speaker = speaker_counts.index[1] if len(speaker_counts) > 1 else None\n",
    "    return most_frequent_speaker, second_most_frequent_speaker\n",
    "\n",
    "most_frequent_speaker, second_most_frequent_speaker = get_most_frequent_speakers(df)\n",
    "\n",
    "# Binary classification task\n",
    "speaker1Bin = Speaker(corpus_path, most_frequent_speaker)\n",
    "speaker2Bin = Speaker(corpus_path, second_most_frequent_speaker)\n",
    "\n",
    "def balance_dataframes(df1, df2):\n",
    "    min_len = min(len(df1), len(df2))\n",
    "    return df1.sample(min_len), df2.sample(min_len)\n",
    "\n",
    "speaker1Bin.df, speaker2Bin.df = balance_dataframes(speaker1Bin.df, speaker2Bin.df)"
   ]
  },
  {
   "cell_type": "code",
   "execution_count": 11,
   "metadata": {},
   "outputs": [
    {
     "name": "stdout",
     "output_type": "stream",
     "text": [
      "Cross-validated accuracy scores: [0.95883898 0.96753159 0.96834669 0.97038446 0.97065616]\n",
      "Mean accuracy: 96.72%\n"
     ]
    }
   ],
   "source": [
    "# Prepare the data for KNN classifier using word2vec embeddings\n",
    "def get_sentence_embedding(sentence, model):\n",
    "    vectors = [model.wv[word] for word in sentence if word in model.wv]\n",
    "    if vectors:\n",
    "        return np.mean(vectors, axis=0)\n",
    "    else:\n",
    "        return np.zeros(model.vector_size)\n",
    "\n",
    "# Use the sentence embeddings we created\n",
    "sentence_embeddings = np.array(sentence_embeddings)\n",
    "labels = np.array([1 if label == most_frequent_speaker else 0 for label in df['speaker_name']])\n",
    "\n",
    "# Train the KNN classifier using cross-validation\n",
    "classifier = KNeighborsClassifier(n_neighbors=5)\n",
    "scores = cross_val_score(classifier, sentence_embeddings, labels, cv=5, scoring='accuracy')\n",
    "print(f\"Cross-validated accuracy scores: {scores}\")\n",
    "print(f\"Mean accuracy: {scores.mean() * 100:.2f}%\")"
   ]
  },
  {
   "cell_type": "code",
   "execution_count": 12,
   "metadata": {},
   "outputs": [
    {
     "name": "stdout",
     "output_type": "stream",
     "text": [
      "              precision    recall  f1-score   support\n",
      "\n",
      "           0       0.97      1.00      0.99    107270\n",
      "           1       0.70      0.12      0.20      3146\n",
      "\n",
      "    accuracy                           0.97    110416\n",
      "   macro avg       0.84      0.56      0.60    110416\n",
      "weighted avg       0.97      0.97      0.96    110416\n",
      "\n"
     ]
    }
   ],
   "source": [
    "print(classification_report(labels, classifier.fit(sentence_embeddings, labels).predict(sentence_embeddings)))"
   ]
  },
  {
   "cell_type": "markdown",
   "metadata": {},
   "source": [
    "### Bert"
   ]
  },
  {
   "cell_type": "code",
   "execution_count": 13,
   "metadata": {},
   "outputs": [],
   "source": [
    "original_sentences = []\n",
    "with open('original_sampled_sents.txt', 'r', encoding='utf-8') as f:\n",
    "    for line in f:\n",
    "        original_sentences.append(line)\n",
    "\n",
    "masked_sentences = []\n",
    "with open('masked_sampled_sents.txt', 'r', encoding='utf-8') as f:\n",
    "    for line in f:\n",
    "        masked_sentences.append(line.replace('*', 'MASK').strip())\n",
    "\n",
    "tokenized_masked_sentences = [sentence.split() for sentence in masked_sentences]"
   ]
  },
  {
   "cell_type": "code",
   "execution_count": 14,
   "metadata": {},
   "outputs": [
    {
     "name": "stderr",
     "output_type": "stream",
     "text": [
      "/home/ordinary/ordinaryLib/myenv/lib/python3.12/site-packages/tqdm/auto.py:21: TqdmWarning: IProgress not found. Please update jupyter and ipywidgets. See https://ipywidgets.readthedocs.io/en/stable/user_install.html\n",
      "  from .autonotebook import tqdm as notebook_tqdm\n",
      "BertForMaskedLM has generative capabilities, as `prepare_inputs_for_generation` is explicitly overwritten. However, it doesn't directly inherit from `GenerationMixin`. From 👉v4.50👈 onwards, `PreTrainedModel` will NOT inherit from `GenerationMixin`, and this model will lose the ability to call `generate` and other related functions.\n",
      "  - If you're using `trust_remote_code=True`, you can get rid of this warning by loading the model with an auto class. See https://huggingface.co/docs/transformers/en/model_doc/auto#auto-classes\n",
      "  - If you are the owner of the model architecture code, please modify your model class such that it inherits from `GenerationMixin` (after `PreTrainedModel`, otherwise you'll get an exception).\n",
      "  - If you are not the owner of the model architecture class, please contact the model code owner to update it.\n"
     ]
    },
    {
     "name": "stdout",
     "output_type": "stream",
     "text": [
      ". מדבר על מקרה שאתה יכול להשעות אותו עד שיחכו .\n",
      ". אל תיתן 1 , 000 שקל יותר .\n",
      "הם הם שיש להם תאריך , והם הצביעו על השלבים שהם שהם לעבור עד סוף יוני , כדי שלשיחות היזומות יהיה פתרון סוחף .\n",
      ". , זה היה שימוש לרעה .\n",
      "אם אתם אתם לדון כאופוזיציה - - -\n",
      "התקציב קוצץ מ - - ל - 15 מיליון , למען הדיוק .\n",
      "אנחנו מסתכלים על זה מעט אחרת , אנחנו מקבלים מקבלים ומתאימים לו מענה .\n",
      "העובדים שעובדים היום במתנ \" ס , נמצא , מנהל המתנ \" ס , ס היה גם קודם לכן , יכול להעיד מקבלים את שכרם ב - 1 לחודש , לא ב - 10 - לא ב - 09 - ולא ב - 20 לחודש 20 כך כמו שהיה קודם לכן , מקבלים ב - 1 לחודש את לחודש .\n",
      "אף אף עדיין לא חותם .\n",
      "זאת אידיאולוגיה של הפרטה הפרטה .\n"
     ]
    }
   ],
   "source": [
    "from transformers import AutoModelForMaskedLM, AutoTokenizer\n",
    "import torch\n",
    "\n",
    "tokenizer = AutoTokenizer.from_pretrained('dicta-il/dictabert')\n",
    "model = AutoModelForMaskedLM.from_pretrained('dicta-il/dictabert')\n",
    "\n",
    "model.eval()\n",
    "\n",
    "for sentence in masked_sentences:\n",
    "    tokenized_sentence = sentence.split()\n",
    "    for i, token in enumerate(tokenized_sentence):\n",
    "        if token == '[MASK]':\n",
    "            output = model(tokenizer.encode(' '.join(tokenized_sentence[:i]), return_tensors='pt'))\n",
    "            most_similar = torch.topk(output.logits[0, i, :], 1)[1]\n",
    "            tokenized_sentence[i] = tokenizer.convert_ids_to_tokens(most_similar)[0]\n",
    "    total_sentence = ' '.join(tokenized_sentence)\n",
    "    print(total_sentence)"
   ]
  }
 ],
 "metadata": {
  "kernelspec": {
   "display_name": "myenv",
   "language": "python",
   "name": "python3"
  },
  "language_info": {
   "codemirror_mode": {
    "name": "ipython",
    "version": 3
   },
   "file_extension": ".py",
   "mimetype": "text/x-python",
   "name": "python",
   "nbconvert_exporter": "python",
   "pygments_lexer": "ipython3",
   "version": "3.12.3"
  }
 },
 "nbformat": 4,
 "nbformat_minor": 2
}
