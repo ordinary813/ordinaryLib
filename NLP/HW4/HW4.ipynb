{
 "cells": [
  {
   "cell_type": "code",
   "execution_count": 12,
   "metadata": {},
   "outputs": [],
   "source": [
    "from gensim.models import Word2Vec\n",
    "import numpy as np\n",
    "import pandas as pd\n",
    "import json\n",
    "import random\n",
    "from sklearn.metrics.pairwise import cosine_similarity\n",
    "from sklearn.neighbors import KNeighborsClassifier\n",
    "import re\n",
    "from sklearn.model_selection import cross_val_score\n",
    "from sklearn.metrics import classification_report"
   ]
  },
  {
   "cell_type": "code",
   "execution_count": 2,
   "metadata": {},
   "outputs": [],
   "source": [
    "corpus_file = 'knesset_corpus.jsonl'\n",
    "tokenized_sentences = []\n",
    "punctuations = '\",./<>?;:\\'[]{}\\\\|`~!@#$%^&*()-_=+'\n",
    "\n",
    "# Load the corpus\n",
    "with open(corpus_file, 'r', encoding='utf-8') as f:\n",
    "    for line in f:\n",
    "        data = json.loads(line)\n",
    "        sentence_text = data.get('sentence_text', '')\n",
    "        if sentence_text:\n",
    "            tokenized_sentence = [\n",
    "                ''.join(char for char in word if char not in punctuations)      # Remove punctuation\n",
    "                for word in sentence_text.split() if not word.isdigit()         # Split by spaces\n",
    "            ]\n",
    "\n",
    "            tokenized_sentences.append([word for word in tokenized_sentence if word])"
   ]
  },
  {
   "cell_type": "code",
   "execution_count": 3,
   "metadata": {},
   "outputs": [],
   "source": [
    "model = Word2Vec(sentences=tokenized_sentences, vector_size=50, window=5, min_count=1, workers=4)\n",
    "model.save(\"knesset_word2vec.model\")"
   ]
  },
  {
   "cell_type": "code",
   "execution_count": null,
   "metadata": {},
   "outputs": [],
   "source": [
    "word_vectors = model.wv\n",
    "print(word_vectors['ישראל'])"
   ]
  },
  {
   "cell_type": "markdown",
   "metadata": {},
   "source": [
    "1. Increasing the vector size allows us to capture more information about each word as it has more dimensionality.\n",
    "2. PROBLEMS IN THIS SPECIFIC CORPUS"
   ]
  },
  {
   "cell_type": "code",
   "execution_count": 5,
   "metadata": {},
   "outputs": [],
   "source": [
    "words_to_check = ['ישראל', 'גברת', 'ממשלה', 'חבר', 'בוקר', 'מים', 'אסור', 'רשות', 'זכויות']\n",
    "\n",
    "# We decided to utilize a dictionary to store the most similar words for each word\n",
    "similar_words = {}\n",
    "\n",
    "# Find the most similar words for each word\n",
    "for word in words_to_check:\n",
    "    if word in word_vectors:\n",
    "        similar_words[word] = word_vectors.most_similar(word, topn=5)\n",
    "\n",
    "# Save the results to a file in the correct format\n",
    "with open('knesset_similar_words.txt', 'w', encoding='utf-8') as f:\n",
    "    for word, similar in similar_words.items():\n",
    "        similar_str = ', '.join([f\"({sim_word}, {score:.4f})\" for sim_word, score in similar])\n",
    "        f.write(f\"{word}: {similar_str}\\n\")"
   ]
  },
  {
   "cell_type": "code",
   "execution_count": 6,
   "metadata": {},
   "outputs": [],
   "source": [
    "def average_sentence_embedding(sentence):\n",
    "    # Get the word embedding vectors\n",
    "    vectors = [model.wv[word] for word in sentence if word in model.wv]\n",
    "    \n",
    "    if vectors:\n",
    "        return np.mean(vectors, axis=0)     # Compute the mean of the vectors\n",
    "    else:\n",
    "        return np.zeros(model.vector_size)\n",
    "\n",
    "sentence_embeddings = []\n",
    "for sentence in tokenized_sentences:\n",
    "    sentence_embeddings.append(average_sentence_embedding(sentence))"
   ]
  },
  {
   "cell_type": "code",
   "execution_count": 7,
   "metadata": {},
   "outputs": [],
   "source": [
    "# We decided to sample 10 random indices instead of choosing on our own\n",
    "random_indices = [i for i in range(len(tokenized_sentences)) if len(tokenized_sentences[i]) >= 4]\n",
    "random_indices = random.sample(random_indices, 10)\n",
    "\n",
    "# Calculate cosine similarity between sentence embeddings\n",
    "similar_sentences = {}\n",
    "for idx in random_indices:\n",
    "    current_embedding = sentence_embeddings[idx].reshape(1, -1)\n",
    "    similarities = cosine_similarity(current_embedding, sentence_embeddings)\n",
    "    most_similar_idx = similarities.argsort()[0][-2]\n",
    "    similar_sentences[idx] = most_similar_idx\n",
    "\n",
    "# Load the original sentences with punctuations\n",
    "original_sentences = []\n",
    "with open(corpus_file, 'r', encoding='utf-8') as f:\n",
    "    for line in f:\n",
    "        data = json.loads(line)\n",
    "        original_sentences.append(data.get('sentence_text', ''))\n",
    "\n",
    "with open('knesset_similar_sentences.txt', 'w', encoding='utf-8') as f:\n",
    "    for idx, similar_idx in similar_sentences.items():\n",
    "        current_sentence = original_sentences[idx]\n",
    "        similar_sentence = original_sentences[similar_idx]\n",
    "        f.write(f\"{current_sentence}: most similar sentence: {similar_sentence}\\n\")"
   ]
  },
  {
   "cell_type": "code",
   "execution_count": null,
   "metadata": {},
   "outputs": [],
   "source": [
    "sentences_to_check = {\n",
    "    r'בעוד מספר דקות נתחיל את הדיון בנושא השבת החטופים .': ['דקות','הדיון'],\n",
    "    r'בתור יושבת ראש הוועדה , אני מוכנה להאריך את ההסכם באותם תנאים .': ['הוועדה','אני', 'ההסכם'],\n",
    "    r'בוקר טוב , אני פותח את הישיבה .': ['בוקר', 'פותח'],\n",
    "    r'שלום , אנחנו שמחים להודיע שחברינו ה יקר קיבל קידום .': ['שלום', 'שמחים', 'היקר','קידום'],\n",
    "    r'אין מניעה להמשיך לעסוק ב נושא .': ['מניעה']\n",
    "}\n",
    "\n",
    "prompts = {\n",
    "    r'בעוד מספר דקות נתחיל את הדיון בנושא השבת החטופים .': ['רבים','הרבה', 'מספר'],\n",
    "    r'בתור יושבת ראש הוועדה , אני מוכנה להאריך את ההסכם באותם תנאים .': ['הראש','היושבת'],\n",
    "    r'בוקר טוב , אני פותח את הישיבה .': ['זמן'],\n",
    "    r'שלום , אנחנו שמחים להודיע שחברינו ה יקר קיבל קידום .': ['פותח'],\n",
    "    r'אין מניעה להמשיך לעסוק ב נושא .': []\n",
    "}\n",
    "\n",
    "def replace_with_similar_words(sentence_dict, model):\n",
    "    replaced_sentences = []\n",
    "    for sentence, words in sentence_dict.items():\n",
    "        new_sentence = sentence\n",
    "        for word in words:\n",
    "            if word in model.wv:\n",
    "                similar_word = model.wv.most_similar(word, topn=1)[0][0]\n",
    "                new_sentence = new_sentence.replace(word, similar_word)\n",
    "        replaced_sentences.append(new_sentence)\n",
    "    return replaced_sentences\n",
    "\n",
    "    # Replace words in the sentences\n",
    "replaced_sentences_with_prompts = replace_with_similar_words(sentences_to_check, model)\n",
    "for sentence in replaced_sentences_with_prompts:\n",
    "    print(sentence)"
   ]
  },
  {
   "cell_type": "markdown",
   "metadata": {},
   "source": [
    "### KNN Classifier"
   ]
  },
  {
   "cell_type": "markdown",
   "metadata": {},
   "source": [
    "Copied code from HW3"
   ]
  },
  {
   "cell_type": "code",
   "execution_count": 9,
   "metadata": {},
   "outputs": [],
   "source": [
    "class Speaker:\n",
    "    def __init__(self, file_path, speaker_name=None):\n",
    "        self.name = speaker_name\n",
    "        self.df = pd.read_json(file_path, lines=True)\n",
    "        if speaker_name:\n",
    "            self.df = self.df[self.df['speaker_name'].apply(self._matches_speaker_name)]\n",
    "    \n",
    "    def _matches_speaker_name(self, name_in_data):\n",
    "        if not self.name:\n",
    "            return False\n",
    "        \n",
    "        name_parts = self.name.split()\n",
    "        data_parts = name_in_data.split()\n",
    "        \n",
    "        # Handle case where name has more than 4 components\n",
    "        if len(name_parts) > 4 or len(data_parts) > 4:\n",
    "            return False\n",
    "        \n",
    "        # Iterate over all parts of the provided name\n",
    "        for i, part in enumerate(name_parts):\n",
    "            if i >= len(data_parts):  # Dataset name has fewer parts\n",
    "                return False\n",
    "            \n",
    "            # If it's an initial, match with any name starting with the same letter\n",
    "            if re.fullmatch(rf\"{re.escape(part[0])}['\\\"׳`]?\", part):\n",
    "                if not data_parts[i].startswith(part[0]):\n",
    "                    return False\n",
    "            # If it's a full name, ensure it matches fully\n",
    "            elif part != data_parts[i]:\n",
    "                return False\n",
    "        return True\n",
    "\n",
    "corpus_path = 'knesset_corpus.jsonl'\n",
    "df = pd.read_json(corpus_path, lines=True)\n",
    "\n",
    "def get_most_frequent_speakers(df):\n",
    "    speaker_counts = df['speaker_name'].value_counts()\n",
    "    most_frequent_speaker = speaker_counts.idxmax()\n",
    "    second_most_frequent_speaker = speaker_counts.index[1] if len(speaker_counts) > 1 else None\n",
    "    return most_frequent_speaker, second_most_frequent_speaker\n",
    "\n",
    "most_frequent_speaker, second_most_frequent_speaker = get_most_frequent_speakers(df)\n",
    "\n",
    "# Binary classification task\n",
    "speaker1Bin = Speaker(corpus_path, most_frequent_speaker)\n",
    "speaker2Bin = Speaker(corpus_path, second_most_frequent_speaker)\n",
    "\n",
    "def balance_dataframes(df1, df2):\n",
    "    min_len = min(len(df1), len(df2))\n",
    "    return df1.sample(min_len), df2.sample(min_len)\n",
    "\n",
    "speaker1Bin.df, speaker2Bin.df = balance_dataframes(speaker1Bin.df, speaker2Bin.df)"
   ]
  },
  {
   "cell_type": "code",
   "execution_count": null,
   "metadata": {},
   "outputs": [],
   "source": [
    "# Prepare the data for KNN classifier using word2vec embeddings\n",
    "def get_sentence_embedding(sentence, model):\n",
    "    vectors = [model.wv[word] for word in sentence if word in model.wv]\n",
    "    if vectors:\n",
    "        return np.mean(vectors, axis=0)\n",
    "    else:\n",
    "        return np.zeros(model.vector_size)\n",
    "\n",
    "# Use the sentence embeddings we created\n",
    "sentence_embeddings = np.array(sentence_embeddings)\n",
    "labels = np.array([1 if label == most_frequent_speaker else 0 for label in df['speaker_name']])\n",
    "\n",
    "# Train the KNN classifier using cross-validation\n",
    "classifier = KNeighborsClassifier(n_neighbors=5)\n",
    "scores = cross_val_score(classifier, sentence_embeddings, labels, cv=5, scoring='accuracy')\n",
    "print(f\"Cross-validated accuracy scores: {scores}\")\n",
    "print(f\"Mean accuracy: {scores.mean() * 100:.2f}%\")"
   ]
  },
  {
   "cell_type": "code",
   "execution_count": null,
   "metadata": {},
   "outputs": [],
   "source": [
    "print(classification_report(labels, classifier.fit(sentence_embeddings, labels).predict(sentence_embeddings)))"
   ]
  },
  {
   "cell_type": "markdown",
   "metadata": {},
   "source": [
    "### Bert"
   ]
  },
  {
   "cell_type": "code",
   "execution_count": 1,
   "metadata": {},
   "outputs": [],
   "source": [
    "original_sentences = []\n",
    "with open('original_sampled_sents.txt', 'r', encoding='utf-8') as f:\n",
    "    for line in f:\n",
    "        original_sentences.append(line)\n",
    "\n",
    "masked_sentences = []\n",
    "with open('masked_sampled_sents.txt', 'r', encoding='utf-8') as f:\n",
    "    for line in f:\n",
    "        masked_sentences.append(line.replace('*', 'MASK').strip())\n",
    "\n",
    "tokenized_masked_sentences = [sentence.split() for sentence in masked_sentences]"
   ]
  },
  {
   "cell_type": "code",
   "execution_count": null,
   "metadata": {},
   "outputs": [],
   "source": [
    "from transformers import AutoModelForMaskedLM, AutoTokenizer\n",
    "import torch\n",
    "\n",
    "tokenizer = AutoTokenizer.from_pretrained('dicta-il/dictabert')\n",
    "model = AutoModelForMaskedLM.from_pretrained('dicta-il/dictabert')\n",
    "\n",
    "model.eval()\n",
    "\n",
    "for sentence in masked_sentences:\n",
    "    tokenized_sentence = sentence.split()\n",
    "    for i, token in enumerate(tokenized_sentence):\n",
    "        if token == '[MASK]':\n",
    "            output = model(tokenizer.encode(' '.join(tokenized_sentence[:i]), return_tensors='pt'))\n",
    "            most_similar = torch.topk(output.logits[0, i, :], 1)[1]\n",
    "            tokenized_sentence[i] = tokenizer.convert_ids_to_tokens(most_similar)[0]\n",
    "    total_sentence = ' '.join(tokenized_sentence)\n",
    "    print(total_sentence)"
   ]
  }
 ],
 "metadata": {
  "kernelspec": {
   "display_name": "myenv",
   "language": "python",
   "name": "python3"
  },
  "language_info": {
   "codemirror_mode": {
    "name": "ipython",
    "version": 3
   },
   "file_extension": ".py",
   "mimetype": "text/x-python",
   "name": "python",
   "nbconvert_exporter": "python",
   "pygments_lexer": "ipython3",
   "version": "3.12.3"
  }
 },
 "nbformat": 4,
 "nbformat_minor": 2
}
