{
 "cells": [
  {
   "cell_type": "code",
   "execution_count": 3,
   "metadata": {},
   "outputs": [],
   "source": [
    "from docx import Document\n",
    "import os\n",
    "import re\n",
    "import json"
   ]
  },
  {
   "cell_type": "code",
   "execution_count": 2,
   "metadata": {},
   "outputs": [],
   "source": [
    "def process_docx(file_path, output_dir):\n",
    "    # Extract the base name of the input file (without the path)\n",
    "    file_name = os.path.basename(file_path)\n",
    "    # Change the extension from .docx to .txt for the output file\n",
    "    output_text_file = os.path.join(output_dir, file_name.replace('.docx', '.txt'))\n",
    "\n",
    "    # Process the document and write to the output file\n",
    "    document = Document(file_path)\n",
    "    with open(output_text_file, 'w', encoding='utf-8') as f:\n",
    "        for para in document.paragraphs:\n",
    "            if para.text.strip():  # Write non-empty paragraphs\n",
    "                f.write(para.text + '\\n')\n",
    "\n",
    "\n",
    "def process_all_docx_in_directory(directory_path):\n",
    "    output_dir = 'output'\n",
    "    if not os.path.exists(output_dir):\n",
    "        os.makedirs(output_dir)\n",
    "\n",
    "    for file_name in os.listdir(directory_path):\n",
    "        if file_name.endswith('.docx'):\n",
    "            file_path = os.path.join(directory_path, file_name)\n",
    "            process_docx(file_path, output_dir)\n",
    "            print(f'Processed: {file_path}')"
   ]
  },
  {
   "cell_type": "code",
   "execution_count": null,
   "metadata": {},
   "outputs": [],
   "source": [
    "dir = 'protocols'\n",
    "output_file = 'out.txt'\n",
    "process_all_docx_in_directory(dir)"
   ]
  },
  {
   "cell_type": "code",
   "execution_count": null,
   "metadata": {},
   "outputs": [],
   "source": [
    "# metadata of a file\n",
    "def parse_metadata(file_path):\n",
    "    with open(file_path, 'r', encoding='utf-8') as f:\n",
    "        lines = f.readlines()\n",
    "    \n",
    "    # Extract name_protocol\n",
    "    name_protocol = file_path.split('/')[-1]  # extract file name\n",
    "    \n",
    "    # Extract number_knesset and type_protocol from the header\n",
    "    number_knesset = None\n",
    "    type_protocol = None\n",
    "    number_protocol = None\n",
    "\n",
    "    for line in lines[:10]:\n",
    "        if \"פרוטוקול מס'\" in line:\n",
    "            match = re.search(r\"פרוטוקול מס'\\s*(\\d+)\", line)\n",
    "            if match:\n",
    "                number_protocol = match.group(1)\n",
    "    \n",
    "    return name_protocol, number_knesset, type_protocol, number_protocol\n",
    "\n",
    "def process_sentences(file_path):\n",
    "    \"\"\"\n",
    "    Process the file to extract sentences and associate them with speakers.\n",
    "    \"\"\"\n",
    "    with open(file_path, 'r', encoding='utf-8') as f:\n",
    "        lines = f.readlines()\n",
    "    \n",
    "    sentences = []\n",
    "    current_speaker = None\n",
    "\n",
    "    for line in lines:\n",
    "        line = line.strip()\n",
    "        if not line:\n",
    "            continue\n",
    "        \n",
    "        # Check for speaker lines (heuristic: contains \":\" at the start)\n",
    "        if line.startswith(\"<< דובר\") or line.startswith(\"<< יור\") or line.startswith(\"<< אורח\"):\n",
    "            match = re.search(r'>> (.*?): <<', line)\n",
    "            if match:\n",
    "                current_speaker = match.group(1)\n",
    "        else:\n",
    "            # Tokenize sentences\n",
    "            for sentence in re.split(r'(?<!\\w\\.\\w.)(?<![A-Z][a-z]\\.)(?<=\\.|\\?)\\s', line):\n",
    "                if sentence.strip():\n",
    "                    sentences.append((current_speaker, sentence.strip()))\n",
    "\n",
    "    return sentences\n",
    "\n",
    "def save_to_jsonl(file_path, output_file):\n",
    "    \"\"\"\n",
    "    Save the extracted data to a JSONL file.\n",
    "    \"\"\"\n",
    "    name_protocol, number_knesset, type_protocol, number_protocol = parse_metadata(file_path)\n",
    "    sentences = process_sentences(file_path)\n",
    "\n",
    "    with open(output_file, 'w', encoding='utf-8') as f:\n",
    "        for speaker, sentence in sentences:\n",
    "            json_line = {\n",
    "                \"name_protocol\": name_protocol,\n",
    "                \"number_knesset\": number_knesset,\n",
    "                \"type_protocol\": type_protocol,\n",
    "                \"number_protocol\": number_protocol,\n",
    "                \"name_speaker\": speaker,\n",
    "                \"text_sentence\": sentence\n",
    "            }\n",
    "            json.dump(json_line, f, ensure_ascii=False)\n",
    "            f.write('\\n')\n",
    "\n",
    "file_path = 'output/25_ptv_3841247.txt'\n",
    "output_file = 'corpus.jsonl'\n",
    "save_to_jsonl(file_path, output_file)\n",
    "print(f\"Processed and saved to {output_file}\")\n"
   ]
  },
  {
   "cell_type": "code",
   "execution_count": 9,
   "metadata": {},
   "outputs": [],
   "source": [
    "class Protocol:\n",
    "    def __init__(self, knesset_num, type, protocol_num):\n",
    "        self.knesset_num = knesset_num\n",
    "        self.type = type\n",
    "        self.protocol_num = protocol_num"
   ]
  },
  {
   "cell_type": "code",
   "execution_count": 24,
   "metadata": {},
   "outputs": [
    {
     "data": {
      "text/plain": [
       "['25', 'committee', '33']"
      ]
     },
     "execution_count": 24,
     "metadata": {},
     "output_type": "execute_result"
    }
   ],
   "source": [
    "file_path = 'output/25_ptv_3841247.txt'\n",
    "filename = file_path.split('/')[-1]\n",
    "data = []\n",
    "\n",
    "# knesset num\n",
    "number_knesset = filename.split('_')[0]\n",
    "data.append(number_knesset)\n",
    "\n",
    "# type\n",
    "if filename.split('_')[1][2] == 'm':\n",
    "    type_protocol = 'plenary'\n",
    "elif filename.split('_')[1][2] == 'v':\n",
    "    type_protocol = 'committee'\n",
    "data.append(type_protocol)\n",
    "\n",
    "# protocol number\n",
    "number_protocol = None\n",
    "\n",
    "with open(file_path, 'r', encoding='utf-8') as f:\n",
    "    lines = f.readlines()\n",
    "\n",
    "for line in lines[:10]:\n",
    "    if \"פרוטוקול מס'\" in line:\n",
    "        match = re.search(r\"פרוטוקול מס'\\s*(\\d+)\", line)\n",
    "        if match:\n",
    "            number_protocol = match.group(1)\n",
    "data.append(number_protocol)\n",
    "\n",
    "data"
   ]
  }
 ],
 "metadata": {
  "kernelspec": {
   "display_name": "Python 3",
   "language": "python",
   "name": "python3"
  },
  "language_info": {
   "codemirror_mode": {
    "name": "ipython",
    "version": 3
   },
   "file_extension": ".py",
   "mimetype": "text/x-python",
   "name": "python",
   "nbconvert_exporter": "python",
   "pygments_lexer": "ipython3",
   "version": "3.10.6"
  }
 },
 "nbformat": 4,
 "nbformat_minor": 2
}
