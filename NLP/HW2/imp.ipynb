{
 "cells": [
  {
   "cell_type": "code",
   "execution_count": null,
   "metadata": {},
   "outputs": [],
   "source": [
    "from docx import Document\n",
    "import pandas as pd\n",
    "import os\n",
    "import re\n",
    "import json"
   ]
  },
  {
   "cell_type": "code",
   "execution_count": null,
   "metadata": {},
   "outputs": [],
   "source": [
    "class Plenary_Trigram_LM:\n",
    "\n",
    "    def __init__(self, corpus_path):\n",
    "        self.corpus = self.load_corpus(corpus_path)\n",
    "\n",
    "    # Input: file path to the corpus\n",
    "    # Output: a dataframe containing the corpus\n",
    "    def load_corpus(self, file_path):\n",
    "        data = []\n",
    "    \n",
    "        if file_path.endswith(\".jsonl\"):\n",
    "            with open(file_path, 'r', encoding='utf-8') as file:\n",
    "                for line in file:\n",
    "                    entry = json.loads(line.strip())\n",
    "\n",
    "                    # only add plenary protocols\n",
    "                    if entry.get('protocol_type') == 'plenary':\n",
    "                        data.append(entry)\n",
    "            \n",
    "            df = pd.DataFrame(data)\n",
    "            return df\n",
    "        else:\n",
    "            print(\"File path is not a jsonl. Terminating.\")\n",
    "            exit()\n",
    "    \n",
    "    # Input: tokenized sentence\n",
    "    # Output: log likelihood of the setnence in the corpus\n",
    "    # def calculate_prob_of_sentence(sentence):\n"
   ]
  },
  {
   "cell_type": "code",
   "execution_count": null,
   "metadata": {},
   "outputs": [],
   "source": [
    "pl_df = Plenary_Trigram_LM(\"knesset_corpus.jsonl\")\n",
    "print()"
   ]
  }
 ],
 "metadata": {
  "kernelspec": {
   "display_name": "Python 3",
   "language": "python",
   "name": "python3"
  },
  "language_info": {
   "codemirror_mode": {
    "name": "ipython",
    "version": 3
   },
   "file_extension": ".py",
   "mimetype": "text/x-python",
   "name": "python",
   "nbconvert_exporter": "python",
   "pygments_lexer": "ipython3",
   "version": "3.10.6"
  }
 },
 "nbformat": 4,
 "nbformat_minor": 2
}
