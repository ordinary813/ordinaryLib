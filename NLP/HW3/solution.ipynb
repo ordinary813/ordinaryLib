{
 "cells": [
  {
   "cell_type": "code",
   "execution_count": 1,
   "metadata": {},
   "outputs": [],
   "source": [
    "import pandas as pd\n",
    "import numpy as np\n",
    "import re\n",
    "import random\n",
    "from sklearn.feature_extraction.text import CountVectorizer\n",
    "from sklearn.model_selection import cross_val_score\n",
    "from sklearn.neighbors import KNeighborsClassifier\n",
    "from sklearn.linear_model import LogisticRegression\n",
    "from sklearn.preprocessing import StandardScaler\n",
    "from sklearn.pipeline import Pipeline\n",
    "from sklearn.model_selection import train_test_split\n",
    "from sklearn.metrics import accuracy_score\n",
    "from scipy.sparse import vstack\n",
    "\n",
    "random.seed(42)\n",
    "np.random.seed(42)"
   ]
  },
  {
   "cell_type": "markdown",
   "metadata": {},
   "source": [
    "### Step 1 - Determining Most Common Speakers"
   ]
  },
  {
   "cell_type": "code",
   "execution_count": 2,
   "metadata": {},
   "outputs": [],
   "source": [
    "class Speaker:\n",
    "    def __init__(self, file_path, speaker_name=None):\n",
    "        self.name = speaker_name\n",
    "        self.df = pd.read_json(file_path, lines=True)\n",
    "        if speaker_name:\n",
    "            self.df = self.df[self.df['speaker_name'].apply(self._matches_speaker_name)]\n",
    "    \n",
    "    def _matches_speaker_name(self, name_in_data):\n",
    "        if not self.name:\n",
    "            return False\n",
    "        \n",
    "        name_parts = self.name.split()\n",
    "        data_parts = name_in_data.split()\n",
    "        \n",
    "        # Handle case where name has more than 4 components\n",
    "        if len(name_parts) > 4 or len(data_parts) > 4:\n",
    "            return False\n",
    "        \n",
    "        # Iterate over all parts of the provided name\n",
    "        for i, part in enumerate(name_parts):\n",
    "            if i >= len(data_parts):  # Dataset name has fewer parts\n",
    "                return False\n",
    "            \n",
    "            # If it's an initial, match with any name starting with the same letter\n",
    "            if re.fullmatch(rf\"{re.escape(part[0])}['\\\"׳`]?\", part):\n",
    "                if not data_parts[i].startswith(part[0]):\n",
    "                    return False\n",
    "            # If it's a full name, ensure it matches fully\n",
    "            elif part != data_parts[i]:\n",
    "                return False\n",
    "        return True\n",
    "\n",
    "corpus_path = 'knesset_corpus.jsonl'\n",
    "df = pd.read_json(corpus_path, lines=True)"
   ]
  },
  {
   "cell_type": "markdown",
   "metadata": {},
   "source": [
    "#### Binary"
   ]
  },
  {
   "cell_type": "code",
   "execution_count": null,
   "metadata": {},
   "outputs": [],
   "source": [
    "def get_most_frequent_speakers(df):\n",
    "    speaker_counts = df['speaker_name'].value_counts()\n",
    "    most_frequent_speaker = speaker_counts.idxmax()\n",
    "    second_most_frequent_speaker = speaker_counts.index[1] if len(speaker_counts) > 1 else None\n",
    "    return most_frequent_speaker, second_most_frequent_speaker\n",
    "\n",
    "most_frequent_speaker, second_most_frequent_speaker = get_most_frequent_speakers(df)\n",
    "\n",
    "# Binary classification task\n",
    "speaker1Bin = Speaker(corpus_path, most_frequent_speaker)\n",
    "speaker2Bin = Speaker(corpus_path, second_most_frequent_speaker)\n",
    "\n",
    "print(f\"Speaker 1: {most_frequent_speaker} ({len(speaker1Bin.df)} speeches)\")\n",
    "print(f\"Speaker 2: {second_most_frequent_speaker} ({len(speaker2Bin.df)} speeches)\")"
   ]
  },
  {
   "cell_type": "markdown",
   "metadata": {},
   "source": [
    "#### Multi-Class"
   ]
  },
  {
   "cell_type": "code",
   "execution_count": null,
   "metadata": {},
   "outputs": [],
   "source": [
    "# Multi-class classification task\n",
    "speaker1Mult = Speaker(corpus_path, most_frequent_speaker)\n",
    "speaker2Mult = Speaker(corpus_path, second_most_frequent_speaker)\n",
    "\n",
    "# setting 'other' class\n",
    "speaker3_df = pd.read_json(corpus_path, lines=True)\n",
    "speaker3_df = speaker3_df[~speaker3_df['speaker_name'].isin([most_frequent_speaker, second_most_frequent_speaker])]\n",
    "speakerOtherMult = Speaker(corpus_path)\n",
    "speakerOtherMult.df = speaker3_df\n",
    "\n",
    "print(f\"Speaker 1: {most_frequent_speaker} ({len(speaker1Mult.df)} speeches)\")\n",
    "print(f\"Speaker 2: {second_most_frequent_speaker} ({len(speaker2Mult.df)} speeches)\")\n",
    "print(f\"Speaker 3: Other ({len(speakerOtherMult.df)} speeches)\")"
   ]
  },
  {
   "cell_type": "markdown",
   "metadata": {},
   "source": [
    "### Step 2 - Balance Dataframes"
   ]
  },
  {
   "cell_type": "markdown",
   "metadata": {},
   "source": [
    "#### Binary"
   ]
  },
  {
   "cell_type": "code",
   "execution_count": 5,
   "metadata": {},
   "outputs": [],
   "source": [
    "def balance_dataframes(df1, df2):\n",
    "    min_len = min(len(df1), len(df2))\n",
    "    return df1.sample(min_len), df2.sample(min_len)\n",
    "\n",
    "speaker1Bin.df, speaker2Bin.df = balance_dataframes(speaker1Bin.df, speaker2Bin.df)"
   ]
  },
  {
   "cell_type": "markdown",
   "metadata": {},
   "source": [
    "#### Multi-Class"
   ]
  },
  {
   "cell_type": "code",
   "execution_count": 6,
   "metadata": {},
   "outputs": [],
   "source": [
    "def balance_three_dataframes(df1, df2, df3):\n",
    "    min_len = min(len(df1), len(df2), len(df3))\n",
    "    return df1.sample(min_len), df2.sample(min_len), df3.sample(min_len)\n",
    "\n",
    "speaker1Mult.df, speaker2Mult.df, speakerOtherMult.df = balance_three_dataframes(speaker1Mult.df, speaker2Mult.df, speakerOtherMult.df)"
   ]
  },
  {
   "cell_type": "markdown",
   "metadata": {},
   "source": [
    "### Step 3 - Vectorization"
   ]
  },
  {
   "cell_type": "code",
   "execution_count": 7,
   "metadata": {},
   "outputs": [],
   "source": [
    "combined_sentences_df = pd.concat([\n",
    "    speaker1Bin.df['sentence_text'], \n",
    "    speaker2Bin.df['sentence_text'], \n",
    "    speakerOtherMult.df['sentence_text']\n",
    "], ignore_index=True)"
   ]
  },
  {
   "cell_type": "markdown",
   "metadata": {},
   "source": [
    "#### Bag of Words"
   ]
  },
  {
   "cell_type": "code",
   "execution_count": null,
   "metadata": {},
   "outputs": [],
   "source": [
    "# initialize vectorizers with the same vocabulary for all tasks\n",
    "vectorizer_bow = CountVectorizer()\n",
    "vectorizer_bow.fit(combined_sentences_df)"
   ]
  },
  {
   "cell_type": "code",
   "execution_count": null,
   "metadata": {},
   "outputs": [],
   "source": [
    "def create_bag_of_words(df, vectorizer=None):\n",
    "    bow_matrix = vectorizer.transform(df['sentence_text'])\n",
    "    return bow_matrix, vectorizer.get_feature_names_out()\n",
    "\n",
    "# Create Bag of Words\n",
    "bow_speaker1_bin, feature_names1_bin = create_bag_of_words(speaker1Bin.df, vectorizer_bow)\n",
    "bow_speaker2_bin, feature_names2_bin = create_bag_of_words(speaker2Bin.df, vectorizer_bow)\n",
    "bow_speaker_other, feature_names_other = create_bag_of_words(speakerOtherMult.df, vectorizer_bow)\n",
    "\n",
    "# Print shapes of the matrices\n",
    "print(\"Bag of Words:\")\n",
    "print(f\"Speaker 1: {bow_speaker1_bin.shape}\")\n",
    "print(f\"Speaker 2: {bow_speaker2_bin.shape}\")\n",
    "print(f\"Other: {bow_speaker_other.shape}\\n\")"
   ]
  },
  {
   "cell_type": "markdown",
   "metadata": {},
   "source": [
    "#### Custom Features"
   ]
  },
  {
   "cell_type": "code",
   "execution_count": null,
   "metadata": {},
   "outputs": [],
   "source": [
    "# initialize vectorizers with the same vocabulary for all tasks\n",
    "vectorizer_custom = CountVectorizer(ngram_range=(2, 5))\n",
    "vectorizer_custom.fit(combined_sentences_df)"
   ]
  },
  {
   "cell_type": "code",
   "execution_count": null,
   "metadata": {},
   "outputs": [],
   "source": [
    "def create_ngram_bag(df, vectorizer=None):\n",
    "    bow_matrix = vectorizer.transform(df['sentence_text'])\n",
    "    return bow_matrix, vectorizer.get_feature_names_out()\n",
    "\n",
    "# Create ngram bags\n",
    "custom_speaker1_bin, custom_feature_names1_bin = create_ngram_bag(speaker1Bin.df, vectorizer_custom)\n",
    "custom_speaker2_bin, custom_feature_names2_bin = create_ngram_bag(speaker2Bin.df, vectorizer_custom)\n",
    "custom_speaker_other_bin, custom_feature_names_other_bin = create_ngram_bag(speakerOtherMult.df, vectorizer_custom)\n",
    "\n",
    "# Print shapes of the matrices\n",
    "print(\"Custom Vector:\")\n",
    "print(f\"Speaker 1: {custom_speaker1_bin.shape}\")\n",
    "print(f\"Speaker 2: {custom_speaker2_bin.shape}\")\n",
    "print(f\"Other: {custom_speaker_other_bin.shape}\\n\")"
   ]
  },
  {
   "cell_type": "markdown",
   "metadata": {},
   "source": [
    "### Step 4 - Training"
   ]
  },
  {
   "cell_type": "markdown",
   "metadata": {},
   "source": [
    "#### Bag of Words"
   ]
  },
  {
   "cell_type": "code",
   "execution_count": 12,
   "metadata": {},
   "outputs": [],
   "source": [
    "def train_BoW(bow_matrix, labels, classifier_type='logistic'):\n",
    "    if classifier_type == 'logistic':\n",
    "        classifier = LogisticRegression(max_iter=1000, random_state=42)\n",
    "    elif classifier_type == 'knn':\n",
    "        classifier = KNeighborsClassifier(n_neighbors=5)\n",
    "    \n",
    "    # 5-fold cross-validation\n",
    "    scores = cross_val_score(classifier, bow_matrix, labels, cv=5, scoring='accuracy')\n",
    "    \n",
    "    print(f\"{classifier_type} model 5-fold Cross-Validation Accuracy: {np.mean(scores) * 100:.2f}%\")\n",
    "    \n",
    "    classifier.fit(bow_matrix, labels)\n",
    "    \n",
    "    return classifier\n",
    "\n",
    "# Binary classification\n",
    "combined_bow_matrix_bin = vstack([bow_speaker1_bin, bow_speaker2_bin])\n",
    "labels_bin = np.concatenate([\n",
    "    np.ones(bow_speaker1_bin.shape[0]),         # Label speaker1 as 1\n",
    "    np.full(bow_speaker2_bin.shape[0], 2)       # Label speaker2 as 2\n",
    "])\n",
    "\n",
    "# Multi-class classification\n",
    "combined_bow_matrix_mult = vstack([bow_speaker1_bin, bow_speaker2_bin, bow_speaker_other])\n",
    "labels_mult = np.concatenate([\n",
    "    np.full(bow_speaker1_bin.shape[0], 1),      # Label speaker1 as 1\n",
    "    np.full(bow_speaker2_bin.shape[0], 2),      # Label speaker2 as 2\n",
    "    np.full(bow_speaker_other.shape[0], 3)      # Label speakerOther as 3\n",
    "])"
   ]
  },
  {
   "cell_type": "code",
   "execution_count": null,
   "metadata": {},
   "outputs": [],
   "source": [
    "print(\"Binary Classification BoW:\")\n",
    "model_logistic_bin = train_BoW(combined_bow_matrix_bin, labels_bin, 'logistic')\n",
    "model_knn_bin = train_BoW(combined_bow_matrix_bin, labels_bin, 'knn')"
   ]
  },
  {
   "cell_type": "code",
   "execution_count": null,
   "metadata": {},
   "outputs": [],
   "source": [
    "print(\"\\nMulti-class Classification BoW:\")\n",
    "model_logistic_mult = train_BoW(combined_bow_matrix_mult, labels_mult, 'logistic')\n",
    "model_knn_mult = train_BoW(combined_bow_matrix_mult, labels_mult, 'knn')"
   ]
  },
  {
   "cell_type": "markdown",
   "metadata": {},
   "source": [
    "#### Custom Features"
   ]
  },
  {
   "cell_type": "code",
   "execution_count": 15,
   "metadata": {},
   "outputs": [],
   "source": [
    "def train_ngram_bag(ngram_bag_matrix, labels, classifier_type='logistic'):\n",
    "    if classifier_type == 'logistic':\n",
    "        classifier = LogisticRegression(max_iter=1000, random_state=42)\n",
    "    elif classifier_type == 'knn':\n",
    "        classifier = KNeighborsClassifier(n_neighbors=5)\n",
    "    \n",
    "    # 5-fold cross-validation\n",
    "    scores = cross_val_score(classifier, ngram_bag_matrix, labels, cv=5, scoring='accuracy')\n",
    "    \n",
    "    print(f\"{classifier_type} model 5-fold Cross-Validation Accuracy: {np.mean(scores) * 100:.2f}%\")\n",
    "    \n",
    "    classifier.fit(ngram_bag_matrix, labels)\n",
    "    \n",
    "    return classifier\n",
    "\n",
    "# Binary classification\n",
    "combined_ngram_bag_matrix_bin = vstack([custom_speaker1_bin, custom_speaker2_bin])\n",
    "custom_labels_bin = np.concatenate([\n",
    "    np.ones(bow_speaker1_bin.shape[0]),         # Label speaker1 as 1\n",
    "    np.full(bow_speaker2_bin.shape[0], 2)       # Label speaker2 as 2\n",
    "])\n",
    "\n",
    "# Multi-class classification\n",
    "combined_ngram_bag_matrix_mult = vstack([custom_speaker1_bin, custom_speaker2_bin, custom_speaker_other_bin])\n",
    "custom_labels_mult = np.concatenate([\n",
    "    np.full(bow_speaker1_bin.shape[0], 1),      # Label speaker1 as 1\n",
    "    np.full(bow_speaker2_bin.shape[0], 2),      # Label speaker2 as 2\n",
    "    np.full(bow_speaker_other.shape[0], 3)      # Label speakerOther as 3\n",
    "])"
   ]
  },
  {
   "cell_type": "code",
   "execution_count": null,
   "metadata": {},
   "outputs": [],
   "source": [
    "print(\"Binary Classification Custom Vector:\")\n",
    "model_logistic_bin_custom = train_ngram_bag(combined_ngram_bag_matrix_bin, custom_labels_bin, 'logistic')\n",
    "model_knn_bin_custom = train_ngram_bag(combined_ngram_bag_matrix_bin, custom_labels_bin, 'knn')"
   ]
  },
  {
   "cell_type": "code",
   "execution_count": null,
   "metadata": {},
   "outputs": [],
   "source": [
    "print(\"\\nMulti-class Classification Custom Vector:\")\n",
    "model_logistic_mult_custom = train_ngram_bag(combined_ngram_bag_matrix_mult, custom_labels_mult, 'logistic')\n",
    "model_knn_mult_custom = train_ngram_bag(combined_ngram_bag_matrix_mult, custom_labels_mult, 'knn')"
   ]
  },
  {
   "cell_type": "markdown",
   "metadata": {},
   "source": [
    "### Testing"
   ]
  },
  {
   "cell_type": "code",
   "execution_count": 18,
   "metadata": {},
   "outputs": [],
   "source": [
    "# File paths\n",
    "file_path = 'knesset_sentences.txt'\n",
    "output_file_path = 'classified_sentences.txt'\n",
    "\n",
    "label_to_class = {\n",
    "        1: \"first\", \n",
    "        2: \"second\",\n",
    "        3: \"other\"\n",
    "    }\n",
    "\n",
    "# Load sentences\n",
    "with open(file_path, 'r', encoding='utf-8') as f:\n",
    "    sentences = f.readlines()"
   ]
  },
  {
   "cell_type": "markdown",
   "metadata": {},
   "source": [
    "#### Bag of Words"
   ]
  },
  {
   "cell_type": "code",
   "execution_count": null,
   "metadata": {},
   "outputs": [],
   "source": [
    "test_bow = vectorizer_bow.transform(sentences)\n",
    "logistic_predictions_mult = model_logistic_mult.predict(test_bow)\n",
    "\n",
    "for i, sentence in enumerate(sentences):\n",
    "    print(f\"Sentence {i+1}: {sentence}{label_to_class[logistic_predictions_mult[i]]}\")"
   ]
  },
  {
   "cell_type": "markdown",
   "metadata": {},
   "source": [
    "#### Custom Features"
   ]
  },
  {
   "cell_type": "code",
   "execution_count": null,
   "metadata": {},
   "outputs": [],
   "source": [
    "test_custom = vectorizer_custom.transform(sentences)\n",
    "logistic_predictions_mult_custom = model_logistic_mult_custom.predict(test_custom)\n",
    "\n",
    "for i, sentence in enumerate(sentences):\n",
    "    print(f\"Sentence {i+1}: {sentence}{label_to_class[logistic_predictions_mult_custom[i]]}\")"
   ]
  }
 ],
 "metadata": {
  "kernelspec": {
   "display_name": "myvenv",
   "language": "python",
   "name": "python3"
  },
  "language_info": {
   "codemirror_mode": {
    "name": "ipython",
    "version": 3
   },
   "file_extension": ".py",
   "mimetype": "text/x-python",
   "name": "python",
   "nbconvert_exporter": "python",
   "pygments_lexer": "ipython3",
   "version": "3.12.3"
  }
 },
 "nbformat": 4,
 "nbformat_minor": 2
}
