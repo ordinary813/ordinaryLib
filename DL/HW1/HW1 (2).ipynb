{
  "cells": [
    {
      "cell_type": "markdown",
      "metadata": {
        "id": "sDQau7ffY-wm"
      },
      "source": [
        "# Homework 1 - Deep Learning Winter 2024\n",
        "TA: Jerry Abu Ayoub\n",
        "\n",
        "<font color='aqua'>\n",
        "Student 1: Or Dinar 207035809\n",
        "</font>\n",
        "<br>\n",
        "<font color='aqua'>\n",
        "Student 2: Ramiz Srour 314855446\n",
        "</font>"
      ]
    },
    {
      "cell_type": "markdown",
      "metadata": {
        "id": "SAuX5G00ZJsT"
      },
      "source": [
        "## Libraries and Drive"
      ]
    },
    {
      "cell_type": "code",
      "execution_count": 1,
      "metadata": {
        "id": "kXKm1CVRYz2z"
      },
      "outputs": [],
      "source": [
        "import torch\n",
        "import torch.nn as nn\n",
        "import torch.optim as optim\n",
        "import torch.nn.functional as F\n",
        "from torch.utils.data import DataLoader, Subset, random_split\n",
        "import pandas as pd\n",
        "import numpy as np\n",
        "import os\n",
        "import matplotlib.pyplot as plt\n",
        "import torchvision\n",
        "import torchvision.transforms as transforms\n",
        "from sklearn.model_selection import train_test_split\n",
        "from sklearn.preprocessing import StandardScaler, LabelEncoder"
      ]
    },
    {
      "cell_type": "code",
      "execution_count": 2,
      "metadata": {
        "id": "eI5qgXBCFFal"
      },
      "outputs": [],
      "source": [
        "transform = transforms.Compose([\n",
        "    transforms.ToTensor(),                  # convert transforms to tensors\n",
        "    transforms.Normalize((0.5,), (0.5,))    # normalization\n",
        "])\n",
        "\n",
        "# training set\n",
        "train_dataset = torchvision.datasets.FashionMNIST(\n",
        "    root='./data',\n",
        "    train=True,\n",
        "    transform=transform,\n",
        "    download=True\n",
        ")\n",
        "\n",
        "# test set\n",
        "test_dataset = torchvision.datasets.FashionMNIST(\n",
        "    root='./data',\n",
        "    train=False,\n",
        "    transform=transform,\n",
        "    download=True\n",
        ")\n",
        "\n",
        "# Define the labels to keep\n",
        "labels_to_keep = [0, 1, 2, 3]\n",
        "\n",
        "# Filter the training set\n",
        "train_indices = torch.isin(train_dataset.targets, torch.tensor(labels_to_keep))\n",
        "X_train, y_train = train_dataset.data[train_indices], train_dataset.targets[train_indices]\n",
        "\n",
        "# Filter the test set\n",
        "test_indices = torch.isin(test_dataset.targets, torch.tensor(labels_to_keep))\n",
        "X_test, y_test = test_dataset.data[test_indices], test_dataset.targets[test_indices]"
      ]
    },
    {
      "cell_type": "code",
      "execution_count": 3,
      "metadata": {
        "id": "Q-eVO9gAGbj9"
      },
      "outputs": [],
      "source": [
        "class Network1(nn.Module):\n",
        "    def __init__(self, input_size=784, output_size=10):\n",
        "        super(Network1, self).__init__()\n",
        "        self.fc1 = nn.Linear(input_size, output_size)  # First layer\n",
        "\n",
        "    def forward(self, x):\n",
        "        x = self.fc1(x)\n",
        "        return x"
      ]
    },
    {
      "cell_type": "code",
      "execution_count": 4,
      "metadata": {},
      "outputs": [
        {
          "name": "stdout",
          "output_type": "stream",
          "text": [
            "Number of parameters in model 1: 7850\n"
          ]
        }
      ],
      "source": [
        "model1 = Network1()\n",
        "param_count1 = sum(p.numel() for p in model1.parameters() if p.requires_grad)\n",
        "print(f'Number of parameters in model 1: {param_count1}')"
      ]
    },
    {
      "cell_type": "code",
      "execution_count": 5,
      "metadata": {
        "id": "TGnqGs_2IkRb"
      },
      "outputs": [],
      "source": [
        "X_train = X_train.float()\n",
        "X_train = X_train.view(X_train.size(0), -1)\n",
        "\n",
        "X_test = X_test.float()\n",
        "X_test = X_test.view(X_test.size(0), -1)\n",
        "\n",
        "y_train = y_train.long()\n",
        "y_test = y_test.long()"
      ]
    },
    {
      "cell_type": "code",
      "execution_count": 6,
      "metadata": {
        "id": "7rKfcGSOJlcI"
      },
      "outputs": [],
      "source": [
        "criterion = nn.CrossEntropyLoss()\n",
        "optimizer = optim.Adam(model1.parameters(), lr=0.001)"
      ]
    },
    {
      "cell_type": "code",
      "execution_count": 7,
      "metadata": {
        "colab": {
          "base_uri": "https://localhost:8080/"
        },
        "id": "dmJ1E24sH2Tw",
        "outputId": "1b23548c-4955-43eb-e100-ff7ba964149a"
      },
      "outputs": [
        {
          "name": "stdout",
          "output_type": "stream",
          "text": [
            "Epoch [1/150], Loss: 15.6429\n",
            "Epoch [11/150], Loss: 1.4968\n",
            "Epoch [21/150], Loss: 0.9672\n",
            "Epoch [31/150], Loss: 0.6532\n",
            "Epoch [41/150], Loss: 0.5705\n",
            "Epoch [51/150], Loss: 0.5950\n",
            "Epoch [61/150], Loss: 0.9023\n",
            "Epoch [71/150], Loss: 0.5457\n",
            "Epoch [81/150], Loss: 0.4569\n",
            "Epoch [91/150], Loss: 0.6009\n",
            "Epoch [101/150], Loss: 0.4058\n",
            "Epoch [111/150], Loss: 0.4268\n",
            "Epoch [121/150], Loss: 0.4885\n",
            "Epoch [131/150], Loss: 0.3463\n",
            "Epoch [141/150], Loss: 0.7104\n",
            "Training complete\n"
          ]
        }
      ],
      "source": [
        "from torch.utils.data import DataLoader, TensorDataset\n",
        "\n",
        "# Create a DataLoader for the training set\n",
        "batch_size = 1024  # Define your batch size\n",
        "train_dataset = TensorDataset(X_train, y_train)\n",
        "train_loader = DataLoader(train_dataset, batch_size=batch_size, shuffle=True)\n",
        "\n",
        "# Training loop\n",
        "num_epochs = 150\n",
        "\n",
        "for epoch in range(num_epochs):\n",
        "    model1.train()\n",
        "    epoch_loss = 0.0\n",
        "\n",
        "    for batch_X, batch_y in train_loader:\n",
        "        # Forward pass\n",
        "        outputs = model1(batch_X)\n",
        "        loss = criterion(outputs, batch_y)\n",
        "\n",
        "        # Backward pass and optimization\n",
        "        optimizer.zero_grad()\n",
        "        loss.backward()\n",
        "        optimizer.step()\n",
        "\n",
        "        # Accumulate loss for the epoch\n",
        "        epoch_loss += loss.item()\n",
        "\n",
        "    if epoch % 10 == 0:\n",
        "        print(f'Epoch [{epoch+1}/{num_epochs}], Loss: {epoch_loss/len(train_loader):.4f}')\n",
        "\n",
        "print(\"Training complete\")\n"
      ]
    },
    {
      "cell_type": "code",
      "execution_count": 8,
      "metadata": {
        "colab": {
          "base_uri": "https://localhost:8080/"
        },
        "id": "x11irfmmJH4v",
        "outputId": "e0f04a6e-c074-4607-b2f4-218ac0be2f3c"
      },
      "outputs": [
        {
          "name": "stdout",
          "output_type": "stream",
          "text": [
            "Test Accuracy: 90.25%\n"
          ]
        }
      ],
      "source": [
        "model1.eval()\n",
        "\n",
        "# disable gradient calculation\n",
        "with torch.no_grad():\n",
        "    outputs = model1(X_test)\n",
        "\n",
        "    _, predictions = torch.max(outputs, 1)\n",
        "\n",
        "    correct = (predictions == y_test).sum().item()\n",
        "    total = y_test.size(0)\n",
        "    accuracy = correct / total\n",
        "\n",
        "print(f\"Test Accuracy: {accuracy * 100:.2f}%\")\n"
      ]
    }
  ],
  "metadata": {
    "accelerator": "GPU",
    "colab": {
      "collapsed_sections": [
        "8Oy5l8qUaXte"
      ],
      "gpuType": "T4",
      "provenance": []
    },
    "kernelspec": {
      "display_name": "myvenv",
      "language": "python",
      "name": "python3"
    },
    "language_info": {
      "codemirror_mode": {
        "name": "ipython",
        "version": 3
      },
      "file_extension": ".py",
      "mimetype": "text/x-python",
      "name": "python",
      "nbconvert_exporter": "python",
      "pygments_lexer": "ipython3",
      "version": "3.12.3"
    }
  },
  "nbformat": 4,
  "nbformat_minor": 0
}
