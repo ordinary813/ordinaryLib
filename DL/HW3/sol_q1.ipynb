{
 "cells": [
  {
   "cell_type": "code",
   "execution_count": 1,
   "metadata": {},
   "outputs": [],
   "source": [
    "import torch\n",
    "import torch.nn as nn\n",
    "import torch.optim as optim\n",
    "from torch.utils.data import DataLoader, Dataset\n",
    "\n",
    "import matplotlib.pyplot as plt\n",
    "import numpy as np\n",
    "import random\n",
    "import pandas as pd\n",
    "import re\n",
    "import regex\n",
    "from collections import Counter\n",
    "\n",
    "import matplotlib.pyplot as plt\n",
    "\n",
    "from wordcloud import WordCloud"
   ]
  },
  {
   "cell_type": "markdown",
   "metadata": {},
   "source": [
    "### Data observation"
   ]
  },
  {
   "cell_type": "markdown",
   "metadata": {},
   "source": [
    "> Retrieve the song data from the file provided"
   ]
  },
  {
   "cell_type": "code",
   "execution_count": 2,
   "metadata": {},
   "outputs": [
    {
     "data": {
      "application/vnd.microsoft.datawrangler.viewer.v0+json": {
       "columns": [
        {
         "name": "index",
         "rawType": "int64",
         "type": "integer"
        },
        {
         "name": "Artist",
         "rawType": "object",
         "type": "string"
        },
        {
         "name": "Title",
         "rawType": "object",
         "type": "string"
        },
        {
         "name": "Lyrics",
         "rawType": "object",
         "type": "string"
        }
       ],
       "conversionMethod": "pd.DataFrame",
       "ref": "e7897283-513f-49a4-b168-5ace9c4e2225",
       "rows": [
        [
         "0",
         "Taylor Swift",
         "cardigan",
         "Vintage tee, brand new phone\nHigh heels on cobblestones\nWhen you are young, they assume you know nothing\nSequin smile, black lipstick\nSensual politics\nWhen you are young, they assume you know nothing\n\nBut I knew you\nDancin' in your Levi's\nDrunk under a streetlight, I\nI knew you\nHand under my sweatshirt\nBaby, kiss it better, I\n\nAnd when I felt like I was an old cardigan\nUnder someone's bed\nYou put me on and said I was your favorite\n\nA friend to all is a friend to none\nChase two girls, lose the one\nWhen you are young, they assume you know nothing\nBut I knew you\nPlaying hide-and-seek and\nGiving me your weekends, I\nI knew you\nYour heartbeat on the High Line\nOnce in twenty lifetimes, I\n\nAnd when I felt like I was an old cardigan\nUnder someone's bed\nYou put me on and said I was your favorite\n\nTo kiss in cars and downtown bars\nWas all we needed\nYou drew stars around my scars\nBut now I'm bleedin'\n\n'Cause I knew you\nSteppin' on the last train\nMarked me like a bloodstain, I\nI knew you\nTried to change the ending\nPeter losing Wendy, I\nI knew you\nLeavin' like a father\nRunning like water, I\nAnd when you are young, they assume you know nothing\nBut I knew you'd linger like a tattoo kiss\nI knew you'd haunt all of my what-ifs\nThe smell of smoke would hang around this long\n'Cause I knew everything when I was young\nI knew I'd curse you for the longest time\nChasin' shadows in the grocery line\nI knew you'd miss me once the thrill expired\nAnd you'd be standin' in my front porch light\nAnd I knew you'd come back to me\nYou'd come back to me\nAnd you'd come back to me\nAnd you'd come back\n\nAnd when I felt like I was an old cardigan\nUnder someone's bed\nYou put me on and said I was your favorite142EmbedShare URLCopyEmbedCopy"
        ],
        [
         "1",
         "Taylor Swift",
         "exile",
         "I can see you standing, honey\nWith his arms around your body\nLaughin', but the joke's not funny at all\nAnd it took you five whole minutes\nTo pack us up and leave me with it\nHoldin' all this love out here in the hall\n\nI think I've seen this film before\nAnd I didn't like the ending\nYou're not my homeland anymore\nSo what am I defending now?\nYou were my town, now I'm in exile, seein' you out\nI think I've seen this film before\n\nOoh, ooh, ooh\n\nI can see you starin', honey\nLike he's just your understudy\nLike you'd get your knuckles bloody for me\nSecond, third, and hundredth chances\nBalancin' on breaking branches\nThose eyes add insult to injury\nI think I've seen this film before\nAnd I didn't like the ending\nI'm not your problem anymore\nSo who am I offending now?\nYou were my crown, now I'm in exile, seein' you out\nI think I've seen this film before\nSo I'm leaving out the side door\nSo step right out, there is no amount\nOf crying I can do for you\nAll this time\nWe always walked a very thin line\nYou didn't even hear me out (You didn't even hear me out)\nYou never gave a warning sign (I gave so many signs)\nAll this time\nI never learned to read your mind (Never learned to read my mind)\nI couldn't turn things around (You never turned things around)\n'Cause you never gave a warning sign (I gave so many signs)\nSo many signs, so many signs\nYou didn't even see the signs\n\nI think I've seen this film before\nAnd I didn't like the ending\nYou're not my homeland anymore\nSo what am I defending now?\nYou were my town, now I'm in exile, seein' you out\nI think I've seen this film before\nSo I'm leavin' out the side door\nSo step right out, there is no amount\nOf crying I can do for you\nAll this time\nWe always walked a very thin line\nYou didn't even hear me out (Didn't even hear me out)\nYou never gave a warning sign (I gave so many signs)\nAll this time\nI never learned to read your mind (Never learned to read my mind)\nI couldn't turn things around (You never turned things around)\n'Cause you never gave a warning sign (I gave so many signs)\nYou never gave a warning sign (All this time)\n(So many times) I never learned to read your mind\n(So many signs) I couldn't turn things around (I couldn't turn things around)\n'Cause you never gave a warning sign (You never gave a warning sign)\nYou never gave a warning sign\nAh, ah93EmbedShare URLCopyEmbedCopy"
        ],
        [
         "2",
         "Taylor Swift",
         "Lover",
         "We could leave the Christmas lights up 'til January\nAnd this is our place, we make the rules\nAnd there's a dazzling haze, a mysterious way about you, dear\nHave I known you twenty seconds or twenty years?\n\nCan I go where you go?\nCan we always be this close?\nForever and ever, ah\nTake me out, and take me home\nYou're my, my, my, my lover\n\nWe could let our friends crash in the living room\nThis is our place, we make the call\nAnd I'm highly suspicious that everyone who sees you wants you\nI've loved you three summers now, honey, but I want 'em all\n\nCan I go where you go?\nCan we always be this close?\nForever and ever, ah\nTake me out, and take me home (Forever and ever)\nYou're my, my, my, my lover\nLadies and gentlemen, will you please stand?\nWith every guitar string scar on my hand\nI take this magnetic force of a man to be my lover\nMy heart's been borrowed and yours has been blue\nAll's well that ends well to end up with you\nSwear to be overdramatic and true to my lover\nAnd you'll save all your dirtiest jokes for me\nAnd at every table, I'll save you a seat, lover\n\nCan I go where you go?\nCan we always be this close?\nForever and ever, ah\nTake me out, and take me home (Forever and ever)\nYou're my, my, my, my\nOh, you're my, my, my, my\nDarling, you're my, my, my, my lover108EmbedShare URLCopyEmbedCopy"
        ],
        [
         "3",
         "Taylor Swift",
         "the 1",
         "I'm doing good, I'm on some new shit\nBeen saying \"yes\" instead of \"no\"\nI thought I saw you at the bus stop, I didn't though\nI hit the ground running each night\nI hit the Sunday matinée\nYou know the greatest films of all time were never made\n\nI guess you never know, never know\nAnd if you wanted me, you really should've showed\nAnd if you never bleed, you're never gonna grow\nAnd it's alright now\n\nBut we were something, don't you think so?\nRoaring twenties, tossing pennies in the pool\nAnd if my wishes came true\nIt would've been you\nIn my defense, I have none\nFor never leaving well enough alone\nBut it would've been fun\nIf you would've been the one\n(Ooh)\n\nI have this dream you're doing cool shit\nHaving adventures on your own\nYou meet some woman on the internet and take her home\nWe never painted by the numbers, baby\nBut we were making it count\nYou know the greatest loves of all time are over now\nI guess you never know, never know\nAnd it's another day waking up alone\n\nBut we were something, don't you think so?\nRoaring twenties, tossing pennies in the pool\nAnd if my wishes came true\nIt would've been you\nIn my defense, I have none\nFor never leaving well enough alone\nBut it would've been fun\nIf you would've been the one\n\nI, I, I persist and resist the temptation to ask you\nIf one thing had been different\nWould everything be different today?\n\nWe were something, don't you think so?\nRosé flowing with your chosen family\nAnd it would've been sweet\nIf it could've been me\nIn my defense, I have none\nFor digging up the grave another time\nBut it would've been fun\nIf you would've been the one\n(Ooh)81EmbedShare URLCopyEmbedCopy"
        ],
        [
         "4",
         "Taylor Swift",
         "Look What You Made Me Do",
         "I don't like your little games\nDon't like your tilted stage\nThe role you made me play\nOf the fool, no, I don't like you\nI don't like your perfect crime\nHow you laugh when you lie\nYou said the gun was mine\nIsn't cool, no, I don't like you (Oh)\n\nBut I got smarter, I got harder in the nick of time\nHoney, I rose up from the dead, I do it all the time\nI've got a list of names and yours is in red, underlined\nI check it once, then I check it twice, oh!\n\nOoh, look what you made me do\nLook what you made me do\nLook what you just made me do\nLook what you just made me—\nOoh, look what you made me do\nLook what you made me do\nLook what you just made me do\nLook what you just made me do\nI don't like your kingdom keys\nThey once belonged to me\nYou asked me for a place to sleep\nLocked me out and threw a feast (What?)\nThe world moves on, another day, another drama, drama\nBut not for me, not for me, all I think about is karma\nAnd then the world moves on, but one thing's for sure\nMaybe I got mine, but you'll all get yours\n\nBut I got smarter, I got harder in the nick of time\nHoney, I rose up from the dead, I do it all the time\nI've got a list of names and yours is in red, underlined\nI check it once, then I check it twice, oh!\n\nOoh, look what you made me do\nLook what you made me do\nLook what you just made me do\nLook what you just made me—\nOoh, look what you made me do\nLook what you made me do\nLook what you just made me do\nLook what you just made me do\nI don't trust nobody and nobody trusts me\nI'll be the actress starring in your bad dreams\nI don't trust nobody and nobody trusts me\nI'll be the actress starring in your bad dreams\nI don't trust nobody and nobody trusts me\nI'll be the actress starring in your bad dreams\nI don't trust nobody and nobody trusts me\nI'll be the actress starring in your bad dreams\n(Ooh, look what you made me do\nLook what you made me do\nLook what you just made me do\nLook what you just made me—\nOoh, look what you made me do\nLook what you made me do\nLook what you just made me—)\n\"I'm sorry, the old Taylor can't come to the phone right now\n\"Why? Oh, 'cause she's dead!\" (Oh)\n\nOoh, look what you made me do\nLook what you made me do\nLook what you just made me do\nLook what you just made me—\nOoh, look what you made me do\nLook what you made me do\nLook what you just made me do\nLook what you just made me do\nOoh, look what you made me do\nLook what you made me do\nLook what you just made me do\nLook what you just made me—\nOoh, look what you made me do\nLook what you made me do\nLook what you just made me do\nLook what you just made me do215EmbedShare URLCopyEmbedCopy"
        ]
       ],
       "shape": {
        "columns": 3,
        "rows": 5
       }
      },
      "text/html": [
       "<div>\n",
       "<style scoped>\n",
       "    .dataframe tbody tr th:only-of-type {\n",
       "        vertical-align: middle;\n",
       "    }\n",
       "\n",
       "    .dataframe tbody tr th {\n",
       "        vertical-align: top;\n",
       "    }\n",
       "\n",
       "    .dataframe thead th {\n",
       "        text-align: right;\n",
       "    }\n",
       "</style>\n",
       "<table border=\"1\" class=\"dataframe\">\n",
       "  <thead>\n",
       "    <tr style=\"text-align: right;\">\n",
       "      <th></th>\n",
       "      <th>Artist</th>\n",
       "      <th>Title</th>\n",
       "      <th>Lyrics</th>\n",
       "    </tr>\n",
       "  </thead>\n",
       "  <tbody>\n",
       "    <tr>\n",
       "      <th>0</th>\n",
       "      <td>Taylor Swift</td>\n",
       "      <td>cardigan</td>\n",
       "      <td>Vintage tee, brand new phone\\nHigh heels on co...</td>\n",
       "    </tr>\n",
       "    <tr>\n",
       "      <th>1</th>\n",
       "      <td>Taylor Swift</td>\n",
       "      <td>exile</td>\n",
       "      <td>I can see you standing, honey\\nWith his arms a...</td>\n",
       "    </tr>\n",
       "    <tr>\n",
       "      <th>2</th>\n",
       "      <td>Taylor Swift</td>\n",
       "      <td>Lover</td>\n",
       "      <td>We could leave the Christmas lights up 'til Ja...</td>\n",
       "    </tr>\n",
       "    <tr>\n",
       "      <th>3</th>\n",
       "      <td>Taylor Swift</td>\n",
       "      <td>the 1</td>\n",
       "      <td>I'm doing good, I'm on some new shit\\nBeen say...</td>\n",
       "    </tr>\n",
       "    <tr>\n",
       "      <th>4</th>\n",
       "      <td>Taylor Swift</td>\n",
       "      <td>Look What You Made Me Do</td>\n",
       "      <td>I don't like your little games\\nDon't like you...</td>\n",
       "    </tr>\n",
       "  </tbody>\n",
       "</table>\n",
       "</div>"
      ],
      "text/plain": [
       "         Artist                     Title  \\\n",
       "0  Taylor Swift                  cardigan   \n",
       "1  Taylor Swift                     exile   \n",
       "2  Taylor Swift                     Lover   \n",
       "3  Taylor Swift                     the 1   \n",
       "4  Taylor Swift  Look What You Made Me Do   \n",
       "\n",
       "                                              Lyrics  \n",
       "0  Vintage tee, brand new phone\\nHigh heels on co...  \n",
       "1  I can see you standing, honey\\nWith his arms a...  \n",
       "2  We could leave the Christmas lights up 'til Ja...  \n",
       "3  I'm doing good, I'm on some new shit\\nBeen say...  \n",
       "4  I don't like your little games\\nDon't like you...  "
      ]
     },
     "execution_count": 2,
     "metadata": {},
     "output_type": "execute_result"
    }
   ],
   "source": [
    "songs_df = pd.read_csv('Songs.csv', header = 0)\n",
    "songs_df.head(5)"
   ]
  },
  {
   "cell_type": "markdown",
   "metadata": {},
   "source": [
    "> Each entry ends with something like '1EmbedShare URLCopyEmbedCopy', so we removed those appearances from the lyrics."
   ]
  },
  {
   "cell_type": "code",
   "execution_count": 3,
   "metadata": {},
   "outputs": [],
   "source": [
    "songs_df['Lyrics'] = songs_df['Lyrics'].str.replace(r'\\d+EmbedShare URLCopyEmbedCopy$', \"\", regex=True)"
   ]
  },
  {
   "cell_type": "markdown",
   "metadata": {},
   "source": [
    "> Show all unique artists in the dataset"
   ]
  },
  {
   "cell_type": "code",
   "execution_count": 4,
   "metadata": {},
   "outputs": [
    {
     "name": "stdout",
     "output_type": "stream",
     "text": [
      "Taylor Swift: 50 Songs\n",
      "Billie Eilish: 50 Songs\n",
      "The Beatles: 35 Songs\n",
      "David Bowie: 50 Songs\n",
      "Billy Joel: 50 Songs\n",
      "Ed Sheeran: 20 Songs\n",
      "Eric Clapton: 50 Songs\n",
      "Bruce Springsteen: 40 Songs\n",
      "Vance Joy: 30 Songs\n",
      "Lana Del Rey: 30 Songs\n",
      "Bryan Adams: 30 Songs\n",
      "Leonard Cohen: 50 Songs\n",
      "Nat King Cole: 30 Songs\n",
      "​twenty one pilots: 30 Songs\n",
      "Ray LaMontagne: 30 Songs\n",
      "Bob Dylan: 20 Songs\n",
      "John Denver: 30 Songs\n",
      "Frank Sinatra: 30 Songs\n",
      "Queen: 30 Songs\n",
      "Elton John: 30 Songs\n",
      "George Michael: 30 Songs\n"
     ]
    }
   ],
   "source": [
    "for artist in songs_df['Artist'].unique():\n",
    "    print(f'{artist}: {songs_df[songs_df['Artist'] == artist].shape[0]} Songs')"
   ]
  },
  {
   "cell_type": "markdown",
   "metadata": {},
   "source": [
    "> The dataset's size."
   ]
  },
  {
   "cell_type": "code",
   "execution_count": 5,
   "metadata": {},
   "outputs": [
    {
     "name": "stdout",
     "output_type": "stream",
     "text": [
      "The dataset contains 745 entries for songs.\n"
     ]
    }
   ],
   "source": [
    "print(f'The dataset contains {len(songs_df)} entries for songs.')"
   ]
  },
  {
   "cell_type": "markdown",
   "metadata": {},
   "source": [
    "> The dataset contains 3 duplicates so we will need to take care of that."
   ]
  },
  {
   "cell_type": "code",
   "execution_count": 6,
   "metadata": {},
   "outputs": [
    {
     "name": "stdout",
     "output_type": "stream",
     "text": [
      "The dataset contains 742 unique songs.\n"
     ]
    }
   ],
   "source": [
    "print(f'The dataset contains {len(songs_df['Title'].unique())} unique songs.')"
   ]
  },
  {
   "cell_type": "markdown",
   "metadata": {},
   "source": [
    "> Cleanup of duplicates"
   ]
  },
  {
   "cell_type": "code",
   "execution_count": 7,
   "metadata": {},
   "outputs": [],
   "source": [
    "songs_df = songs_df.drop_duplicates(subset='Title')"
   ]
  },
  {
   "cell_type": "code",
   "execution_count": 8,
   "metadata": {},
   "outputs": [
    {
     "name": "stdout",
     "output_type": "stream",
     "text": [
      "Taylor Swift: 50 Songs\n",
      "Billie Eilish: 50 Songs\n",
      "The Beatles: 35 Songs\n",
      "David Bowie: 50 Songs\n",
      "Billy Joel: 50 Songs\n",
      "Ed Sheeran: 20 Songs\n",
      "Eric Clapton: 50 Songs\n",
      "Bruce Springsteen: 40 Songs\n",
      "Vance Joy: 30 Songs\n",
      "Lana Del Rey: 30 Songs\n",
      "Bryan Adams: 30 Songs\n",
      "Leonard Cohen: 50 Songs\n",
      "Nat King Cole: 29 Songs\n",
      "​twenty one pilots: 29 Songs\n",
      "Ray LaMontagne: 30 Songs\n",
      "Bob Dylan: 20 Songs\n",
      "John Denver: 30 Songs\n",
      "Frank Sinatra: 29 Songs\n",
      "Queen: 30 Songs\n",
      "Elton John: 30 Songs\n",
      "George Michael: 30 Songs\n"
     ]
    }
   ],
   "source": [
    "for artist in songs_df['Artist'].unique():\n",
    "    print(f'{artist}: {songs_df[songs_df['Artist'] == artist].shape[0]} Songs')"
   ]
  },
  {
   "cell_type": "markdown",
   "metadata": {},
   "source": [
    "> Average song length (characters & words)"
   ]
  },
  {
   "cell_type": "code",
   "execution_count": 9,
   "metadata": {},
   "outputs": [
    {
     "name": "stdout",
     "output_type": "stream",
     "text": [
      "The average number of words in a song is 275.94\n",
      "The average number of characters in a song is 1388.24\n"
     ]
    }
   ],
   "source": [
    "lengths = songs_df['Lyrics'].apply(lambda x: len(x.split()))\n",
    "avg_words = lengths.sum() / songs_df['Lyrics'].nunique()\n",
    "\n",
    "char_lengths = songs_df['Lyrics'].apply(lambda x: len(x))\n",
    "avg_chars = char_lengths.sum() / songs_df['Lyrics'].nunique()\n",
    "\n",
    "print(f'The average number of words in a song is {avg_words:.2f}')\n",
    "print(f'The average number of characters in a song is {avg_chars:.2f}')"
   ]
  },
  {
   "cell_type": "markdown",
   "metadata": {},
   "source": [
    "> Word Cloud"
   ]
  },
  {
   "cell_type": "markdown",
   "metadata": {},
   "source": [
    "> First we checked for abnormal characters we wanted to remove"
   ]
  },
  {
   "cell_type": "code",
   "execution_count": 10,
   "metadata": {},
   "outputs": [],
   "source": [
    "# Combine all lyrics into one large text\n",
    "all_lyrics = \" \".join(songs_df[\"Lyrics\"].dropna())\n",
    "\n",
    "# Clean the text (remove punctuation, convert to lowercase)\n",
    "all_lyrics = re.sub(r\"[^\\w\\s]\", \"\", all_lyrics.lower())"
   ]
  },
  {
   "cell_type": "code",
   "execution_count": 11,
   "metadata": {},
   "outputs": [
    {
     "name": "stdout",
     "output_type": "stream",
     "text": [
      "{'d', 'è', 'à', 'z', 's', '\\n', 'é', 'م', '4', 'k', 'b', 'q', 'i', 'ê', '7', 'و', 'g', 'ö', '6', 'h', '\\u2005', 'ç', 'ŏ', 'w', 'ä', 'n', '1', '5', 'ñ', '\\u200a', 'f', '\\u205f', 'm', 'x', 'r', 'j', 'س', '2', 'c', 'е', 'a', ' ', 't', 'ü', '9', 'ó', '0', 'ë', 'o', 'y', 'u', 'v', 'ا', 'á', 'e', '8', 'l', 'ã', 'í', '3', 'ل', 'p'}\n"
     ]
    }
   ],
   "source": [
    "print(set(all_lyrics))"
   ]
  },
  {
   "cell_type": "markdown",
   "metadata": {},
   "source": [
    "> Tokenize and remove words that contain characters that are not latin or digits"
   ]
  },
  {
   "cell_type": "code",
   "execution_count": 12,
   "metadata": {},
   "outputs": [],
   "source": [
    "# Tokenization and cleaning\n",
    "words = all_lyrics.split()\n",
    "\n",
    "# \\p{L} matches any letter in any language\n",
    "# \\p{N} matches any numeric character\n",
    "words = [word for word in words if regex.fullmatch(r\"[\\p{Latin}\\p{N}]+\", word)]"
   ]
  },
  {
   "cell_type": "markdown",
   "metadata": {},
   "source": [
    "> Set up the WordCloud"
   ]
  },
  {
   "cell_type": "code",
   "execution_count": 13,
   "metadata": {},
   "outputs": [
    {
     "name": "stdout",
     "output_type": "stream",
     "text": [
      "The 3 most common words are:\n",
      "the: 8124 appearances\n",
      "you: 7105 appearances\n",
      "i: 6872 appearances\n"
     ]
    },
    {
     "data": {
      "image/png": "[encoded data removed]",
      "text/plain": [
       "<Figure size 1000x500 with 1 Axes>"
      ]
     },
     "metadata": {},
     "output_type": "display_data"
    }
   ],
   "source": [
    "# Retrieve word frequencies\n",
    "word_counts = Counter(words)\n",
    "\n",
    "# 3 most common words\n",
    "print(\"The 3 most common words are:\")\n",
    "for word, count in word_counts.most_common(3):\n",
    "    print(f\"{word}: {count} appearances\")\n",
    "\n",
    "# Definition of wordCloud\n",
    "wordcloud = WordCloud(width=800, height=400, background_color=\"white\", colormap='plasma', max_words=50).generate_from_frequencies(word_counts)\n",
    "\n",
    "plt.figure(figsize=(10, 5))\n",
    "plt.imshow(wordcloud, interpolation=\"bilinear\")\n",
    "plt.axis(\"off\")\n",
    "plt.show()"
   ]
  },
  {
   "cell_type": "markdown",
   "metadata": {},
   "source": [
    "### Preprocessing"
   ]
  },
  {
   "cell_type": "markdown",
   "metadata": {},
   "source": [
    "> Build a corpus and encode it for training"
   ]
  },
  {
   "cell_type": "code",
   "execution_count": 14,
   "metadata": {},
   "outputs": [
    {
     "name": "stdout",
     "output_type": "stream",
     "text": [
      "Vocabulary Size: 9062\n"
     ]
    }
   ],
   "source": [
    "lyrics = songs_df[\"Lyrics\"].dropna().str.lower()\n",
    "\n",
    "# Remove words with unwanted characters\n",
    "tokenized_lyrics = [\n",
    "    [word if word != '\\n' else '<newline>' for word in regex.findall(r\"[\\p{Latin}\\p{N}]+|\\n\", lyric)]\n",
    "    for lyric in lyrics\n",
    "]\n",
    "\n",
    "# Build vocabulary\n",
    "word_counts = Counter(word for song in tokenized_lyrics for word in song)\n",
    "word_to_index = {word: i + 1 for i, (word, _) in enumerate(word_counts.items())}\n",
    "index_to_word = {i: word for word, i in word_to_index.items()}\n",
    "\n",
    "# Vocabulary size\n",
    "vocab_size = len(word_to_index) + 1  # Adding 1 for padding if needed\n",
    "\n",
    "print(f\"Vocabulary Size: {vocab_size}\")"
   ]
  },
  {
   "cell_type": "markdown",
   "metadata": {},
   "source": [
    "> We printed the filtered characters, only words with these characters are considered"
   ]
  },
  {
   "cell_type": "code",
   "execution_count": 15,
   "metadata": {},
   "outputs": [
    {
     "name": "stdout",
     "output_type": "stream",
     "text": [
      "['0', '1', '2', '3', '4', '5', '6', '7', '8', '9', '<', '>', 'a', 'b', 'c', 'd', 'e', 'f', 'g', 'h', 'i', 'j', 'k', 'l', 'm', 'n', 'o', 'p', 'q', 'r', 's', 't', 'u', 'v', 'w', 'x', 'y', 'z', 'à', 'á', 'ã', 'ä', 'ç', 'è', 'é', 'ê', 'ë', 'í', 'ñ', 'ó', 'ö', 'ü', 'ŏ']\n"
     ]
    }
   ],
   "source": [
    "all_chars = \"\".join(word for lyric in tokenized_lyrics for word in lyric)\n",
    "print(sorted(set(all_chars)))"
   ]
  },
  {
   "cell_type": "code",
   "execution_count": 16,
   "metadata": {},
   "outputs": [
    {
     "name": "stdout",
     "output_type": "stream",
     "text": [
      "Dataset Size: 251120\n"
     ]
    }
   ],
   "source": [
    "# Convert lyrics to numerical sequences, instead of words it is now numbers (indices)\n",
    "encoded_sequences = [[word_to_index[word] for word in song if word in word_to_index] for song in tokenized_lyrics]\n",
    "\n",
    "# Set sequence length (choose a reasonable length)\n",
    "# This is the number of words that the model will use to predict the next word\n",
    "SEQ_LENGTH = 20\n",
    "\n",
    "# Create input-target pairs\n",
    "input_sequences = []\n",
    "targets = []\n",
    "\n",
    "# Construct all sequences and their targets\n",
    "for song in encoded_sequences:\n",
    "    for i in range(1, len(song)):\n",
    "        n_gram_sequence = song[:i+1]                        # Create sequence up to current word\n",
    "        if len(n_gram_sequence) >= 2:                       # Ensure sequence has at least one input and one target\n",
    "            input_sequences.append(n_gram_sequence[:-1])    # All but last word (input)\n",
    "            targets.append(n_gram_sequence[-1])             # Last word (target)\n",
    "\n",
    "# Pad sequences to the same length (max length)\n",
    "# we use 0 for padding since the indices start from 1\n",
    "max_seq_length = SEQ_LENGTH\n",
    "padded_sequences = [([0] * (max_seq_length - len(seq)) + seq)[-max_seq_length:] for seq in input_sequences]\n",
    "\n",
    "# Convert to tensors\n",
    "X = torch.tensor(padded_sequences, dtype=torch.long)\n",
    "y = torch.tensor(targets, dtype=torch.long)\n",
    "\n",
    "class SongLyricsDataset(Dataset):\n",
    "    def __init__(self, X, y):\n",
    "        self.X = X\n",
    "        self.y = y\n",
    "\n",
    "    def __len__(self):\n",
    "        return len(self.X)\n",
    "\n",
    "    def __getitem__(self, idx):\n",
    "        return self.X[idx], self.y[idx]\n",
    "\n",
    "# Create DataLoader\n",
    "dataset = SongLyricsDataset(X, y)\n",
    "data_loader = DataLoader(dataset, batch_size=64, shuffle=True)\n",
    "\n",
    "print(f\"Dataset Size: {len(dataset)}\")"
   ]
  },
  {
   "cell_type": "code",
   "execution_count": 17,
   "metadata": {},
   "outputs": [
    {
     "data": {
      "text/plain": [
       "LyricsLSTM(\n",
       "  (embedding): Embedding(9062, 256)\n",
       "  (lstm): LSTM(256, 256, num_layers=4, batch_first=True)\n",
       "  (fc): Linear(in_features=256, out_features=9062, bias=True)\n",
       ")"
      ]
     },
     "execution_count": 17,
     "metadata": {},
     "output_type": "execute_result"
    }
   ],
   "source": [
    "class LyricsLSTM(nn.Module):\n",
    "    def __init__(self, vocab_size, embedding_dim=256, hidden_dim=256, num_layers=4):\n",
    "        super(LyricsLSTM, self).__init__()\n",
    "        self.embedding = nn.Embedding(vocab_size, embedding_dim)\n",
    "        self.lstm = nn.LSTM(embedding_dim, hidden_dim, num_layers, batch_first=True)\n",
    "        self.fc = nn.Linear(hidden_dim, vocab_size)\n",
    "\n",
    "    def forward(self, x):\n",
    "        x = self.embedding(x)\n",
    "        lstm_out, _ = self.lstm(x)\n",
    "        out = self.fc(lstm_out[:, -1, :])  # Get output from last LSTM step\n",
    "        return out\n",
    "\n",
    "# Model setup\n",
    "model = LyricsLSTM(vocab_size)\n",
    "criterion = nn.CrossEntropyLoss()\n",
    "optimizer = optim.Adam(model.parameters(), lr=0.001)\n",
    "\n",
    "# GPU utilization\n",
    "device = torch.device(\"cuda\" if torch.cuda.is_available() else \"cpu\")\n",
    "model.to(device)"
   ]
  },
  {
   "cell_type": "markdown",
   "metadata": {},
   "source": [
    "> Train for 100 Epochs as requested"
   ]
  },
  {
   "cell_type": "code",
   "execution_count": 18,
   "metadata": {},
   "outputs": [
    {
     "name": "stdout",
     "output_type": "stream",
     "text": [
      "Epoch 1/100, Loss: 5.4859\n",
      "Epoch 6/100, Loss: 3.0935\n",
      "Epoch 11/100, Loss: 2.0846\n",
      "Epoch 16/100, Loss: 1.5107\n",
      "Epoch 21/100, Loss: 1.1578\n",
      "Epoch 26/100, Loss: 0.9334\n",
      "Epoch 31/100, Loss: 0.7931\n",
      "Epoch 36/100, Loss: 0.6947\n",
      "Epoch 41/100, Loss: 0.6369\n",
      "Epoch 46/100, Loss: 0.5942\n",
      "Epoch 51/100, Loss: 0.5582\n",
      "Epoch 56/100, Loss: 0.5445\n",
      "Epoch 61/100, Loss: 0.5248\n",
      "Epoch 66/100, Loss: 0.5118\n",
      "Epoch 71/100, Loss: 0.5026\n",
      "Epoch 76/100, Loss: 0.4896\n",
      "Epoch 81/100, Loss: 0.4851\n",
      "Epoch 86/100, Loss: 0.4779\n",
      "Epoch 91/100, Loss: 0.4758\n",
      "Epoch 96/100, Loss: 0.4749\n"
     ]
    }
   ],
   "source": [
    "EPOCHS = 100\n",
    "\n",
    "train_losses = []\n",
    "\n",
    "for epoch in range(EPOCHS):\n",
    "    model.train()\n",
    "    total_loss = 0\n",
    "\n",
    "    for batch_X, batch_y in data_loader:\n",
    "        batch_X, batch_y = batch_X.to(device), batch_y.to(device)\n",
    "\n",
    "        optimizer.zero_grad()\n",
    "        predictions = model(batch_X)\n",
    "        loss = criterion(predictions, batch_y)\n",
    "        loss.backward()\n",
    "        optimizer.step()\n",
    "\n",
    "        total_loss += loss.item()\n",
    "\n",
    "    avg_loss = total_loss / len(data_loader)\n",
    "    train_losses.append(avg_loss)  # Save the average loss for this epoch\n",
    "    if epoch%5 == 0:\n",
    "        print(f\"Epoch {epoch+1}/{EPOCHS}, Loss: {total_loss/len(data_loader):.4f}\")\n"
   ]
  },
  {
   "cell_type": "markdown",
   "metadata": {},
   "source": [
    "#### Optional save/load"
   ]
  },
  {
   "cell_type": "markdown",
   "metadata": {},
   "source": [
    "> Save the model after training (Optional)"
   ]
  },
  {
   "cell_type": "code",
   "execution_count": 19,
   "metadata": {},
   "outputs": [],
   "source": [
    "torch.save(model.state_dict(), 'lyrics_lstm_weights.pth')"
   ]
  },
  {
   "cell_type": "markdown",
   "metadata": {},
   "source": [
    "> Load the model (Optional)"
   ]
  },
  {
   "cell_type": "code",
   "execution_count": null,
   "metadata": {},
   "outputs": [],
   "source": [
    "model = LyricsLSTM(vocab_size)\n",
    "model.load_state_dict(torch.load('lyrics_lstm_weights.pth'))\n",
    "model.eval()"
   ]
  },
  {
   "cell_type": "markdown",
   "metadata": {},
   "source": [
    "#### Visualization"
   ]
  },
  {
   "cell_type": "markdown",
   "metadata": {},
   "source": [
    "> Plot the training loss"
   ]
  },
  {
   "cell_type": "code",
   "execution_count": 20,
   "metadata": {},
   "outputs": [
    {
     "data": {
      "image/png": "[encoded data removed]",
      "text/plain": [
       "<Figure size 800x500 with 1 Axes>"
      ]
     },
     "metadata": {},
     "output_type": "display_data"
    }
   ],
   "source": [
    "# Plotting the training loss after training completes\n",
    "plt.figure(figsize=(8, 5))\n",
    "plt.plot(range(1, EPOCHS + 1), train_losses, marker='o', label='Training Loss')\n",
    "plt.title('Training Loss over Epochs')\n",
    "plt.xlabel('Epoch')\n",
    "plt.ylabel('Loss')\n",
    "plt.legend()\n",
    "plt.grid(True)\n",
    "plt.show()"
   ]
  },
  {
   "cell_type": "markdown",
   "metadata": {},
   "source": [
    "#### Lyrics Generator"
   ]
  },
  {
   "cell_type": "code",
   "execution_count": 21,
   "metadata": {},
   "outputs": [],
   "source": [
    "def LyricsGenerator(\n",
    "        starting_string, model, word_to_index, index_to_word,\n",
    "        max_words=avg_words,\n",
    "        strategy=\"\",\n",
    "        k= 10, p = 0.9, temperature = 1.0):\n",
    "    \n",
    "    model.eval()\n",
    "    max_words = int(max_words)\n",
    "    \n",
    "    if not starting_string.strip():\n",
    "        starting_word = random.choice(list(word_to_index.keys()))\n",
    "        words = [starting_word]\n",
    "    else:\n",
    "        words = starting_string.lower().split()\n",
    "    \n",
    "    for _ in range(max_words):\n",
    "        # Convert words to indices\n",
    "        encoded_input = [word_to_index.get(word, 0) for word in words][-SEQ_LENGTH:]\n",
    "        input_tensor = torch.tensor([encoded_input], dtype=torch.long).to(device)\n",
    "\n",
    "        # Predict next word\n",
    "        with torch.no_grad():\n",
    "            output = model(input_tensor)\n",
    "            output = output.squeeze(0)\n",
    "\n",
    "            logits = output / temperature\n",
    "            probabilities = torch.softmax(logits, dim=-1).cpu().numpy()\n",
    "\n",
    "            if strategy == \"top-k\":\n",
    "                top_k_indices = probabilities.argsort()[-k:][::-1]\n",
    "                top_k_probs = probabilities[top_k_indices]\n",
    "                top_k_probs = top_k_probs / top_k_probs.sum()  # Normalization to make a distribution\n",
    "                predicted_index = np.random.choice(top_k_indices, p=top_k_probs)\n",
    "            elif strategy == \"top-p\":\n",
    "                sorted_indices = np.argsort(probabilities)[::-1]\n",
    "                cumulative_probs = np.cumsum(probabilities[sorted_indices])\n",
    "                top_p_indices = sorted_indices[cumulative_probs <= p]\n",
    "\n",
    "                if len(top_p_indices) == 0:  # If no words remain, default to the word with highest probability\n",
    "                    top_p_indices = [sorted_indices[0]]\n",
    "\n",
    "                top_p_probs = probabilities[top_p_indices]\n",
    "                top_p_probs = top_p_probs / top_p_probs.sum()  # Normalize to make it a valid probability distribution\n",
    "                predicted_index = np.random.choice(top_p_indices, p=top_p_probs)\n",
    "            elif strategy == \"greedy\":\n",
    "                predicted_index = np.argmax(probabilities)\n",
    "            else:\n",
    "                predicted_index = np.random.choice(len(probabilities), p=probabilities)\n",
    "\n",
    "        # Convert index to word\n",
    "        next_word = index_to_word.get(predicted_index, \"<UNK>\")\n",
    "        words.append(next_word)\n",
    "\n",
    "    return \" \".join(words)\n"
   ]
  },
  {
   "cell_type": "markdown",
   "metadata": {},
   "source": [
    "#### Using top-k strategy"
   ]
  },
  {
   "cell_type": "code",
   "execution_count": 22,
   "metadata": {},
   "outputs": [
    {
     "name": "stdout",
     "output_type": "stream",
     "text": [
      "\n",
      "Generated Lyrics:\n",
      " it's not a silly little moment \n",
      " no matter what s life \n",
      " and i m off to the races \n",
      " cases and feeling as a whisper and the lord got out \n",
      " all the strangers are for this one \n",
      " got to meet that sign s old thing \n",
      " let s make it last \n",
      " \n",
      " let s go outside \n",
      " let s go outside to let you start away \n",
      " please let me start again cause we never all all wait for \n",
      " \n",
      " oh the weather is really die \n",
      " \n",
      " the best it s a living away \n",
      " \n",
      " there s the music here in the mother she has found \n",
      " i heard he can stay with me \n",
      " \n",
      " i loved your father he loved you at every word you leave the constitution \n",
      " and you better move the look back on the street \n",
      " oh what a friend she ll say the half woman \n",
      " can we talk like a window and no water \n",
      " but the blood went out tonight \n",
      " from the churches up in the cars \n",
      " they re just making the garden now \n",
      " last there s no going off again \n",
      " once they all have some friends in the dance but it s closing different last way for the met \n",
      " they re still the beer where our body are fixed already \n",
      " heaven are the only die been low \n",
      " i had to leave the day upon my heart and sure \n",
      " a nothing s better and the lord was sure and gone \n",
      " you ll never be alone \n",
      " and the young girls will be miles \n",
      " let\n"
     ]
    }
   ],
   "source": [
    "seed = \"it's not a silly little moment\"\n",
    "generated_text = LyricsGenerator(seed, model, word_to_index, index_to_word, strategy=\"top-k\", k=10)\n",
    "generated_text = generated_text.replace('<newline>', '\\n')\n",
    "print(\"\\nGenerated Lyrics:\\n\", generated_text)"
   ]
  },
  {
   "cell_type": "code",
   "execution_count": 23,
   "metadata": {},
   "outputs": [
    {
     "name": "stdout",
     "output_type": "stream",
     "text": [
      "\n",
      "Generated Lyrics:\n",
      " there is a house in the year \n",
      " with a country old days of them is so cold \n",
      " life for a fool when they call them a chance \n",
      " my friend is mine and in yours when the heavens are \n",
      " \n",
      " i am the entertainer \n",
      " \n",
      " i am an innocent man \n",
      " oh yes i am \n",
      " \n",
      " some people come from \n",
      " nothing else is awful \n",
      " got to check this feel you \n",
      " some people spend out to expectations \n",
      " fight if you don t know my name \n",
      " \n",
      " you and i do for you \n",
      " you are so good and you give me the blues \n",
      " when the moon s a different boy \n",
      " you ll find that life is still worthwhile \n",
      " if you don t have to cry alone \n",
      " you don t even see \n",
      " \n",
      " all the way to come back to em \n",
      " \n",
      " to the girl of the earth when you bring big \n",
      " every day was a singer \n",
      " with the music kisses the reach were red leg \n",
      " the radio on his type is plain \n",
      " and it s been so long fantasy \n",
      " all the way \n",
      " you hang the look on your face \n",
      " that someone is someone \n",
      " you were in the vestibule \n",
      " is the hurt \n",
      " i got your queen and start \n",
      " a bitter hands and the stars went out into his tree \n",
      " my old one got in the robbery place in the middle \n",
      " \n",
      " in the jingle lot has known know with them upper second \n",
      " \n",
      " they lowered up just lookin from standing cried \n",
      "\n"
     ]
    }
   ],
   "source": [
    "seed = \"There is a house in\"\n",
    "generated_text = LyricsGenerator(seed, model, word_to_index, index_to_word, strategy=\"top-k\", k=10)\n",
    "generated_text = generated_text.replace('<newline>', '\\n')\n",
    "print(\"\\nGenerated Lyrics:\\n\", generated_text)"
   ]
  },
  {
   "cell_type": "code",
   "execution_count": 36,
   "metadata": {},
   "outputs": [
    {
     "name": "stdout",
     "output_type": "stream",
     "text": [
      "\n",
      "Generated Lyrics:\n",
      " gasoline you \n",
      " making it all behind \n",
      " and that s all i love way from and \n",
      " it could have been you \n",
      " it s the time of submarines \n",
      " baby yes i won t be a long way \n",
      " thinking about all the world \n",
      " i pick a lot of yours \n",
      " i know that i don t know how to cuss \n",
      " i m with you \n",
      " i take it all behind \n",
      " all the time i was found \n",
      " \n",
      " oh people of the black star \n",
      " oh that a friend is mine \n",
      " oh these people have gone \n",
      " and i ll do i could just understand \n",
      " a song i ll never be strong \n",
      " when i place this i told you \n",
      " and in the moonlight then the next dead \n",
      " and i hope that i wasn t there \n",
      " \n",
      " let me let you go \n",
      " \n",
      " quiet pretending bleedin e \n",
      " though i m glad about you \n",
      " god knows if we were still too late until i ve seen \n",
      " \n",
      " i m a man so ever fear \n",
      " the old thing ever bought \n",
      " see scavengers for deadly \n",
      " i believe and i still feel you in my mind \n",
      " i would like to find through my feet \n",
      " but you won t feel warm \n",
      " and i d lie for you baby \n",
      " that s all i need the strength that make a child \n",
      " traveling if you re ready for some one of what you kept \n",
      " his claim is making me crazy it was right it ain t my doubt \n",
      " it\n"
     ]
    }
   ],
   "source": [
    "seed = \"\"\n",
    "generated_text = LyricsGenerator(seed, model, word_to_index, index_to_word, strategy=\"top-k\", k=15)\n",
    "generated_text = generated_text.replace('<newline>', '\\n')\n",
    "print(\"\\nGenerated Lyrics:\\n\", generated_text)"
   ]
  },
  {
   "cell_type": "markdown",
   "metadata": {},
   "source": [
    "#### Using top-p strategy"
   ]
  },
  {
   "cell_type": "code",
   "execution_count": 37,
   "metadata": {},
   "outputs": [
    {
     "name": "stdout",
     "output_type": "stream",
     "text": [
      "\n",
      "Generated Lyrics:\n",
      " it's not a silly little moment \n",
      " no one has to get near \n",
      " some lonely have died to show \n",
      " nothing do to sing now from hatred as the lie \n",
      " cursing my shoes i ll be here but i m gone \n",
      " i haven t met that why i m your man \n",
      " \n",
      " catch a good word now i ve got \n",
      " monsters almost just a scream \n",
      " who belonged to talk to the cops \n",
      " for some very very too cold in the room all night \n",
      " so meet him behind the ocean \n",
      " got our way on my red intentions ah \n",
      " \n",
      " and i would not leave you in \n",
      " \n",
      " and please loves me hey what \n",
      " high hammer out the world knocking here \n",
      " let s make it last \n",
      " hey boy jude else please \n",
      " really told me not \n",
      " he won t give us sold control to hold a lover \n",
      " i think i m just talk with yesterday \n",
      " \n",
      " cause she said casey can s not a reason \n",
      " she cries a small wife but the people go \n",
      " went down to his car \n",
      " and he likes to be known but i think it s valentine s late \n",
      " \n",
      " it s a kind of magic \n",
      " it s a kind of magic \n",
      " magic who still never seen the tears down \n",
      " his mother s lived is long \n",
      " it s gonna be the one who can be the way \n",
      " something comes in the cold \n",
      " that i done what it was \n",
      " \n",
      " with a lady who was his girl under his hands in \n",
      "\n"
     ]
    }
   ],
   "source": [
    "seed = \"it's not a silly little moment\"\n",
    "generated_text = LyricsGenerator(seed, model, word_to_index, index_to_word, strategy=\"top-p\", p=0.9)\n",
    "generated_text = generated_text.replace('<newline>', '\\n')\n",
    "print(\"\\nGenerated Lyrics:\\n\", generated_text)"
   ]
  },
  {
   "cell_type": "code",
   "execution_count": 39,
   "metadata": {},
   "outputs": [
    {
     "name": "stdout",
     "output_type": "stream",
     "text": [
      "\n",
      "Generated Lyrics:\n",
      " there is a house in her eyes \n",
      " and it seems to be a use on my hands \n",
      " that is when i knew something over \n",
      " \n",
      " and now i just sit in silence \n",
      " and now i just sit in silence \n",
      " and now i just sit \n",
      " some people take you you for no \n",
      " for anybody never love \n",
      " but when i m feeling for myself \n",
      " i ve been waiting without you \n",
      " i still care for you \n",
      " \n",
      " hear me out to think of something else \n",
      " who ll be standin in the sunshine \n",
      " you d never keep a chances \n",
      " cause she s a beautiful leader \n",
      " oh you could never win \n",
      " but if you hurt me well for people if i wanted \n",
      " if you re dark news \n",
      " \n",
      " and all the bridges know what you ve done \n",
      " and you re ready when you re no \n",
      " \n",
      " just the way you look with me \n",
      " when you are the champions to change the day \n",
      " but if the road leads to you \n",
      " everybody re just so joseph \n",
      " so can t make me love \n",
      " \n",
      " and when i m certain that i ve been out on that every week \n",
      " that first people can t be learned \n",
      " can t be deleted can t be repeated \n",
      " \n",
      " it s you there like it should be \n",
      " \n",
      " that s my mind \n",
      " that we write to people live of love \n",
      " \n",
      " and if you hurt me would you know \n",
      " what i mean who do she know \n",
      " oh that she s\n"
     ]
    }
   ],
   "source": [
    "seed = \"There is a house in\"\n",
    "generated_text = LyricsGenerator(seed, model, word_to_index, index_to_word, strategy=\"top-p\", p=0.9)\n",
    "generated_text = generated_text.replace('<newline>', '\\n')\n",
    "print(\"\\nGenerated Lyrics:\\n\", generated_text)"
   ]
  },
  {
   "cell_type": "code",
   "execution_count": 48,
   "metadata": {},
   "outputs": [
    {
     "name": "stdout",
     "output_type": "stream",
     "text": [
      "\n",
      "Generated Lyrics:\n",
      " behold my always roots \n",
      " my love on my mind \n",
      " my boy my boy \n",
      " my boy my love \n",
      " you save my ground \n",
      " i want you be this girl \n",
      " now you re lovely with your gold of sex \n",
      " that s how you need \n",
      " \n",
      " and i ll always be the first old guy \n",
      " i had to leave my life again \n",
      " right now i go and clear \n",
      " it is a sweet woman i ve ever known \n",
      " except about the lines \n",
      " planet goodbye \n",
      " is the color where the brand i did \n",
      " just like the same but the wave it flow \n",
      " all i found to go again \n",
      " \n",
      " the more that i left today \n",
      " my body wears mine at home \n",
      " i never heard pity through \n",
      " you were the money to make you feel okay \n",
      " \n",
      " the show will shake a reason not as dark \n",
      " my body had to cut a gazely window \n",
      " just as always as some other words but my brain babe \n",
      " more than just like love you would miss it too better \n",
      " so if i m living in a dream this man \n",
      " i used to get to you one of it \n",
      " to watch the start \n",
      " as i used to sell what laugh i m with you \n",
      " \n",
      " ooh \n",
      " listen \n",
      " nothing do you feel the answer \n",
      " the kind of bad and the light \n",
      " of desmond and friends jones and their american blue \n",
      " that was tapping behind the fire \n",
      " \n",
      " heaven is a real estate novelist\n"
     ]
    }
   ],
   "source": [
    "seed = \"\"\n",
    "generated_text = LyricsGenerator(seed, model, word_to_index, index_to_word, strategy=\"top-p\", p=0.86)\n",
    "generated_text = generated_text.replace('<newline>', '\\n')\n",
    "print(\"\\nGenerated Lyrics:\\n\", generated_text)"
   ]
  },
  {
   "cell_type": "markdown",
   "metadata": {},
   "source": [
    "#### Using Greedy"
   ]
  },
  {
   "cell_type": "code",
   "execution_count": 53,
   "metadata": {},
   "outputs": [
    {
     "name": "stdout",
     "output_type": "stream",
     "text": [
      "\n",
      "Generated Lyrics:\n",
      " it's not a silly little moment \n",
      " \n",
      " i left myself into a magazine and lonely lovely queen ha \n",
      " i heard them best n yes i took right down \n",
      " but mama it was quiet when i knew pity \n",
      " she said don t you know you d care \n",
      " with your life is a mess \n",
      " you ll be pretending and to find ourselves \n",
      " \n",
      " \n",
      " and if the night is gone and the days are the men we d come \n",
      " let s go here in this deep \n",
      " let s take the breaking this heart \n",
      " thank god i m a country boy \n",
      " no i m not your soul \n",
      " but i come through my face \n",
      " i miss the whole breath of art \n",
      " it s hard to be mad thinking \n",
      " ah but what are i see \n",
      " when i m low here \n",
      " with all the years that i learned from the saints \n",
      " i need a fix cause i m sure what s all right \n",
      " \n",
      " hey mr tambourine man play a song for me \n",
      " i m not sleepy and there is no place i m going to \n",
      " hey mr tambourine man play a song for me \n",
      " in the jingle jangle mornin i ll come followin you \n",
      " \n",
      " i will be king there i will be return \n",
      " but on my mind could come \n",
      " and i will be holding through \n",
      " is what you ve been with the sun \n",
      " wait for someone when you re gonna lose \n",
      " i ll come find you one of these days \n",
      " i ll always be there when\n"
     ]
    }
   ],
   "source": [
    "seed = \"it's not a silly little moment\"\n",
    "generated_text = LyricsGenerator(seed, model, word_to_index, index_to_word, strategy=\"greedy\")\n",
    "generated_text = generated_text.replace('<newline>', '\\n')\n",
    "print(\"\\nGenerated Lyrics:\\n\", generated_text)"
   ]
  },
  {
   "cell_type": "code",
   "execution_count": 54,
   "metadata": {},
   "outputs": [
    {
     "name": "stdout",
     "output_type": "stream",
     "text": [
      "\n",
      "Generated Lyrics:\n",
      " there is a house in the skin \n",
      " for them that he picked a fire \n",
      " he stood a nine and his size to learn in \n",
      " janey wants a new rose \n",
      " sounded like a new woman now \n",
      " when i knew that it s a hard \n",
      " but it would ve been looking to make it at without all all time \n",
      " cause i could tell you something son \n",
      " but i can t wait to go home \n",
      " \n",
      " i want to be part of the light \n",
      " i loved you \n",
      " til you know how i gotta have to say \n",
      " nothing left to do all now \n",
      " you know that i m with you \n",
      " \n",
      " i heard he spent was just a few \n",
      " but so count \n",
      " mary makes the diamond jive his hair \n",
      " he just need him from the garret and crown \n",
      " and a couple of summer she couldn t sleep but to survive \n",
      " it s the best great to stay with me \n",
      " \n",
      " and there s a place that i m thinking with you \n",
      " and you remember the news so now \n",
      " i wish there was something who knows \n",
      " that i used to scream i was a blackstar \n",
      " you re a tough guy \n",
      " might have looked what s growing and all that was so far with any song \n",
      " oh my life s still play love ain t right \n",
      " doing of times is mine \n",
      " that s my eyes \n",
      " \n",
      " there s no way out cause you re here for again \n",
      " \n",
      " do you play from the city yeah \n",
      "\n"
     ]
    }
   ],
   "source": [
    "seed = \"there is a house in\"\n",
    "generated_text = LyricsGenerator(seed, model, word_to_index, index_to_word, strategy=\"greedy\")\n",
    "generated_text = generated_text.replace('<newline>', '\\n')\n",
    "print(\"\\nGenerated Lyrics:\\n\", generated_text)"
   ]
  },
  {
   "cell_type": "code",
   "execution_count": 59,
   "metadata": {},
   "outputs": [
    {
     "name": "stdout",
     "output_type": "stream",
     "text": [
      "\n",
      "Generated Lyrics:\n",
      " been just up up for a moment \n",
      " think about the good times of my life \n",
      " \n",
      " i m in love with the shape of you \n",
      " we push and pull like a magnet where you made me \n",
      " hey boy let the need is mine \n",
      " it s there for one and all for love \n",
      " let us smile in the end \n",
      " he s not known \n",
      " at night when the whole world soon \n",
      " he s been so pretty \n",
      " but i m still at sleep as a kid about him \n",
      " and bethlehem she says i d tell a fragment and i want to sing all the shit i was for you \n",
      " and all the bridges are turned on the stairs i was miles \n",
      " in the garden where the stars are out with their empty hand \n",
      " and i miss the news we gave the news \n",
      " \n",
      " now come to me when i m with you \n",
      " oh darling can t you see all the other people \n",
      " we were both on the road \n",
      " all the young people \n",
      " i was the very reverend mind \n",
      " and their men and the thin now \n",
      " i flash the entertainer \n",
      " who is he long as they listening \n",
      " the night will many people \n",
      " \n",
      " how in the spiders \n",
      " they all play our babies \n",
      " the red they cried \n",
      " they say we re all fun around \n",
      " the holy our hand have torn their course \n",
      " \n",
      " that s good for one n left to make it coming \n",
      " the ride is playing but let i\n"
     ]
    }
   ],
   "source": [
    "seed = \"\"\n",
    "generated_text = LyricsGenerator(seed, model, word_to_index, index_to_word, strategy=\"greedy\")\n",
    "generated_text = generated_text.replace('<newline>', '\\n')\n",
    "print(\"\\nGenerated Lyrics:\\n\", generated_text)"
   ]
  }
 ],
 "metadata": {
  "kernelspec": {
   "display_name": "myenv",
   "language": "python",
   "name": "python3"
  },
  "language_info": {
   "codemirror_mode": {
    "name": "ipython",
    "version": 3
   },
   "file_extension": ".py",
   "mimetype": "text/x-python",
   "name": "python",
   "nbconvert_exporter": "python",
   "pygments_lexer": "ipython3",
   "version": "3.12.3"
  }
 },
 "nbformat": 4,
 "nbformat_minor": 2
}
