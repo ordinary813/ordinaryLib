{
 "cells": [
  {
   "cell_type": "code",
   "execution_count": 2,
   "metadata": {},
   "outputs": [],
   "source": [
    "import cv2\n",
    "import matplotlib.pyplot as plt\n",
    "import numpy as np"
   ]
  },
  {
   "cell_type": "code",
   "execution_count": 3,
   "metadata": {},
   "outputs": [],
   "source": [
    "path = '3.jpg'\n",
    "image = cv2.imread(path, cv2.IMREAD_GRAYSCALE)\n",
    "# cv2.imshow('Image', image)\n",
    "# cv2.waitKey(0)\n",
    "# cv2.destroyAllWindows()\n",
    "\n",
    "img_hist = cv2.calcHist([image], [0], None, [256], [0, 256]).flatten()\n",
    "\n",
    "# plt.figure(figsize=(8, 6))\n",
    "# plt.plot(img_hist, color='black', linewidth=1.5)\n",
    "# plt.title('Grayscale Histogram')\n",
    "# plt.xlabel('Pixel Intensity')\n",
    "# plt.ylabel('Frequency')\n",
    "# plt.grid(axis='y', linestyle='--', alpha=0.7)\n",
    "# plt.show()\n",
    "\n",
    "min_val = np.min(image)\n",
    "max_val = np.max(image)\n",
    "stretched_image = ((image - min_val) / (max_val - min_val) * 255).astype('uint8')\n",
    "\n",
    "cv2.imshow('Original Image', image)\n",
    "cv2.imshow('Contrast Stretched Image', stretched_image)\n",
    "cv2.waitKey(0)\n",
    "cv2.destroyAllWindows()\n",
    "\n",
    "# stretched_hist = cv2.calcHist([stretched_image], [0], None, [256], [0, 256]).flatten()\n",
    "\n",
    "# plt.figure(figsize=(10, 5))\n",
    "# plt.subplot(1, 2, 1)\n",
    "# plt.plot(img_hist, color='black')\n",
    "# plt.title('Original Histogram')\n",
    "# plt.xlabel('Pixel Intensity')\n",
    "# plt.ylabel('Frequency')\n",
    "\n",
    "# plt.subplot(1, 2, 2)\n",
    "# plt.plot(stretched_hist, color='black')\n",
    "# plt.title('Contrast Stretched Histogram')\n",
    "# plt.xlabel('Pixel Intensity')\n",
    "# plt.ylabel('Frequency')\n",
    "\n",
    "# plt.tight_layout()\n",
    "# plt.show()\n"
   ]
  },
  {
   "cell_type": "code",
   "execution_count": null,
   "metadata": {},
   "outputs": [],
   "source": [
    "import cv2\n",
    "import numpy as np\n",
    "import matplotlib.pyplot as plt\n",
    "\n",
    "# Load the image in grayscale\n",
    "path = '3.jpg'\n",
    "image = cv2.imread(path, cv2.IMREAD_GRAYSCALE)\n",
    "\n",
    "# Function to apply gamma correction\n",
    "def apply_gamma_correction(image, gamma):\n",
    "    # Normalize the image to [0, 1], apply gamma correction, and then scale back to [0, 255]\n",
    "    corrected_image = np.array(255 * (image / 255) ** gamma, dtype='uint8')\n",
    "    return corrected_image\n",
    "\n",
    "# Test with gamma < 1 (to brighten dark areas)\n",
    "gamma = 0.7  # You can try other values like 0.8 or 0.3 for different results\n",
    "gamma_corrected_image = apply_gamma_correction(image, gamma)\n",
    "\n",
    "# Show original and gamma-corrected image\n",
    "cv2.imshow('Original Image', image)\n",
    "cv2.imshow('Gamma Corrected Image', gamma_corrected_image)\n",
    "cv2.waitKey(0)\n",
    "cv2.destroyAllWindows()\n",
    "\n",
    "# # Plot histograms for comparison\n",
    "# original_hist = cv2.calcHist([image], [0], None, [256], [0, 256]).flatten()\n",
    "# gamma_corrected_hist = cv2.calcHist([gamma_corrected_image], [0], None, [256], [0, 256]).flatten()\n",
    "\n",
    "# plt.figure(figsize=(10, 5))\n",
    "# plt.subplot(1, 2, 1)\n",
    "# plt.plot(original_hist, color='black')\n",
    "# plt.title('Original Histogram')\n",
    "# plt.xlabel('Pixel Intensity')\n",
    "# plt.ylabel('Frequency')\n",
    "\n",
    "# plt.subplot(1, 2, 2)\n",
    "# plt.plot(gamma_corrected_hist, color='black')\n",
    "# plt.title('Gamma Corrected Histogram')\n",
    "# plt.xlabel('Pixel Intensity')\n",
    "# plt.ylabel('Frequency')\n",
    "\n",
    "# plt.tight_layout()\n",
    "# plt.show()\n"
   ]
  },
  {
   "cell_type": "code",
   "execution_count": null,
   "metadata": {},
   "outputs": [],
   "source": [
    "def apply_fix(image, id):\n",
    "\tif id == 1:\n",
    "\n",
    "\telif id == 2:\n",
    "\n",
    "\telif id == 3:\n",
    "\n",
    "\telse\n",
    "\t\tprint('Invalid image id.')"
   ]
  },
  {
   "cell_type": "code",
   "execution_count": null,
   "metadata": {},
   "outputs": [],
   "source": [
    "for i in range(1,4):\n",
    "\tpath = f'{i}.jpg'\n",
    "\timage = cv2.imread(path, cv2.IMREAD_GRAYSCALE)\n",
    "\tfixed_image = apply_fix(image, i)\n",
    "\tplt.imsave(f'{i}_fixed.jpg', fixed_image, cmap='gray', vmin=0, vmax=255)"
   ]
  }
 ],
 "metadata": {
  "kernelspec": {
   "display_name": "Python 3",
   "language": "python",
   "name": "python3"
  },
  "language_info": {
   "codemirror_mode": {
    "name": "ipython",
    "version": 3
   },
   "file_extension": ".py",
   "mimetype": "text/x-python",
   "name": "python",
   "nbconvert_exporter": "python",
   "pygments_lexer": "ipython3",
   "version": "3.10.6"
  }
 },
 "nbformat": 4,
 "nbformat_minor": 2
}
