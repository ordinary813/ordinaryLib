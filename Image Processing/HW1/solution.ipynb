{
 "cells": [
  {
   "cell_type": "code",
   "execution_count": 1,
   "metadata": {},
   "outputs": [],
   "source": [
    "import cv2\n",
    "import numpy as np\n",
    "import os\n",
    "import matplotlib.pyplot as plt\n",
    "from sklearn.cluster import KMeans\n",
    "\n",
    "import warnings\n",
    "warnings.filterwarnings(\"ignore\")"
   ]
  },
  {
   "cell_type": "code",
   "execution_count": null,
   "metadata": {},
   "outputs": [],
   "source": [
    "# Input: numpy array of images and number of gray levels to quantize the images down to\n",
    "# Output: numpy array of images, each with only n_colors gray levels\n",
    "def quantization(imgs_arr, n_colors=4):\n",
    "\timg_size = imgs_arr[0].shape\n",
    "\tres = []\n",
    "\t\n",
    "\tfor img in imgs_arr:\n",
    "\t\tX = img.reshape(img_size[0] * img_size[1], 1)\n",
    "\t\tkm = KMeans(n_clusters=n_colors)\n",
    "\t\tkm.fit(X)\n",
    "\t\t\n",
    "\t\timg_compressed = km.cluster_centers_[km.labels_]\n",
    "\t\timg_compressed = np.clip(img_compressed.astype('uint8'), 0, 255)\n",
    "\n",
    "\t\tres.append(img_compressed.reshape(img_size[0], img_size[1]))\n",
    "\t\n",
    "\treturn np.array(res)\n",
    "\n",
    "# Input: A path to a folder and formats of images to read\n",
    "# Output: numpy array of grayscale versions of images read from input folder, and also a list of their names\n",
    "def read_dir(folder, formats=(\".jpg\", \".png\")):\n",
    "\timage_arrays = []\n",
    "\tlst = [file for file in os.listdir(folder) if file.endswith(formats)]\n",
    "\tfor filename in lst:\n",
    "\t\tfile_path = os.path.join(folder, filename)\n",
    "\t\timage = cv2.imread(file_path)\n",
    "\t\tgray_image = cv2.cvtColor(image, cv2.COLOR_BGR2GRAY)\n",
    "\t\timage_arrays.append(gray_image)\n",
    "\treturn np.array(image_arrays), lst\n",
    "\n",
    "# Input: image object (as numpy array) and the index of the wanted bin (between 0 to 9)\n",
    "# Output: the height of the idx bin in pixels\n",
    "def get_bar_height(image, idx):\n",
    "\t# Assuming the image is of the same pixel proportions as images supplied in this exercise, the following values will work\n",
    "\tx_pos = 70 + 40 * idx\n",
    "\ty_pos = 274\n",
    "\twhile image[y_pos, x_pos] == 1:\n",
    "\t\ty_pos-=1\n",
    "\treturn 274 - y_pos\n",
    "\n",
    "# Sections c, d\n",
    "# Remember to uncomment compare_hist before using it!\n",
    "\n",
    "import matplotlib.pyplot as plt\n",
    "\n",
    "#  Input: 2 accumulated histograms\n",
    "# Output: their EMD\n",
    "def calculate_EMD(C_a, C_b):\n",
    "\treturn np.sum(np.abs(C_a - C_b))\n",
    "\n",
    "def compare_hist(src_image, target):\n",
    "\ttarget_hist = cv2.calcHist([target], [0], None, [256], [0, 256]).flatten()\n",
    "\ttarget_cumsum = np.cumsum(target_hist, dtype = np.float32)\n",
    "\n",
    "\theight, width = target.shape\n",
    "\twindows = np.lib.stride_tricks.sliding_window_view(src_image, (height, width))\n",
    "\n",
    "\t# offset range of the windows\n",
    "\t# x and y are the actual offset\n",
    "\thh, ww = windows.shape[:2]\n",
    "\tfor x in range(25, 50):\n",
    "\t\tfor y in range(100, 300):\n",
    "\t\t\twindow = windows[y, x]\n",
    "\t\t\twindow_hist = cv2.calcHist([window], [0], None, [256], [0, 256]).flatten()\n",
    "\t\t\twindow_cumsum = np.cumsum(window_hist, dtype = np.float32)\n",
    "\n",
    "\t\t\temd = calculate_EMD(target_cumsum, window_cumsum)\n",
    "\t\t\tif emd < 260:\n",
    "\t\t\t\treturn True\n",
    "\treturn False"
   ]
  },
  {
   "cell_type": "code",
   "execution_count": 3,
   "metadata": {},
   "outputs": [
    {
     "name": "stdout",
     "output_type": "stream",
     "text": [
      "i = 9: (False, -10000000)\n",
      "i = 8: (False, -10000000)\n",
      "i = 7: (True, 245.0)\n",
      "i = 6: (True, 257.0)\n",
      "i = 5: (True, 250.0)\n",
      "i = 4: (True, 241.0)\n",
      "i = 3: (True, 256.0)\n",
      "i = 2: (False, -10000000)\n",
      "i = 1: (True, 247.0)\n",
      "i = 0: (False, -10000000)\n"
     ]
    }
   ],
   "source": [
    "images, names = read_dir('data')\n",
    "numbers, numberNames = read_dir('numbers')\n",
    "\n",
    "target_img = numbers[0]\n",
    "img = images[0]\n",
    "\n",
    "# img_hist = cv2.calcHist([img], [0], None, [256], [0, 256]).flatten()\n",
    "# cumsum = np.cumsum(img_hist, dtype = np.float32)\n",
    "\n",
    "i = len(numbers) - 1\n",
    "while i >= 0:\n",
    "\tres = compare_hist(img, numbers[i])\n",
    "\tprint(f'i = {i}: {res}')\n",
    "\ti -= 1"
   ]
  }
 ],
 "metadata": {
  "kernelspec": {
   "display_name": "Python 3",
   "language": "python",
   "name": "python3"
  },
  "language_info": {
   "codemirror_mode": {
    "name": "ipython",
    "version": 3
   },
   "file_extension": ".py",
   "mimetype": "text/x-python",
   "name": "python",
   "nbconvert_exporter": "python",
   "pygments_lexer": "ipython3",
   "version": "3.12.2"
  }
 },
 "nbformat": 4,
 "nbformat_minor": 2
}
