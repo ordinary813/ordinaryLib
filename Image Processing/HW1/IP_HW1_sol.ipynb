{
 "cells": [
  {
   "cell_type": "code",
   "execution_count": 20,
   "metadata": {},
   "outputs": [],
   "source": [
    "import cv2\n",
    "import numpy as np\n",
    "import os\n",
    "from sklearn.cluster import KMeans\n",
    "\n",
    "import warnings\n",
    "warnings.filterwarnings(\"ignore\")"
   ]
  },
  {
   "cell_type": "code",
   "execution_count": 21,
   "metadata": {},
   "outputs": [],
   "source": [
    "# Input: numpy array of images and number of gray levels to quantize the images down to\n",
    "# Output: numpy array of images, each with only n_colors gray levels\n",
    "def quantization(imgs_arr, n_colors=4):\n",
    "\timg_size = imgs_arr[0].shape\n",
    "\tres = []\n",
    "\t\n",
    "\tfor img in imgs_arr:\n",
    "\t\tX = img.reshape(img_size[0] * img_size[1], 1)\n",
    "\t\tkm = KMeans(n_clusters=n_colors)\n",
    "\t\tkm.fit(X)\n",
    "\t\t\n",
    "\t\timg_compressed = km.cluster_centers_[km.labels_]\n",
    "\t\timg_compressed = np.clip(img_compressed.astype('uint8'), 0, 255)\n",
    "\n",
    "\t\tres.append(img_compressed.reshape(img_size[0], img_size[1]))\n",
    "\t\n",
    "\treturn np.array(res)\n",
    "\n",
    "# Input: A path to a folder and formats of images to read\n",
    "# Output: numpy array of grayscale versions of images read from input folder, and also a list of their names\n",
    "def read_dir(folder, formats=(\".jpg\", \".png\")):\n",
    "\timage_arrays = []\n",
    "\tlst = [file for file in os.listdir(folder) if file.endswith(formats)]\n",
    "\tfor filename in lst:\n",
    "\t\tfile_path = os.path.join(folder, filename)\n",
    "\t\timage = cv2.imread(file_path)\n",
    "\t\tgray_image = cv2.cvtColor(image, cv2.COLOR_BGR2GRAY)\n",
    "\t\timage_arrays.append(gray_image)\n",
    "\treturn np.array(image_arrays), lst\n",
    "\n",
    "# Input: image object (as numpy array) and the index of the wanted bin (between 0 to 9)\n",
    "# Output: the height of the idx bin in pixels\n",
    "def get_bar_height(image, idx):\n",
    "\t# Assuming the image is of the same pixel proportions as images supplied in this exercise, the following values will work\n",
    "\tx_pos = 70 + 40 * idx\n",
    "\ty_pos = 274\n",
    "\twhile image[y_pos, x_pos] == 0:\n",
    "\t\ty_pos -= 1\n",
    "\treturn 274 - y_pos\n",
    "\n",
    "# Sections c, d\n",
    "# Remember to uncomment compare_hist before using it!"
   ]
  },
  {
   "cell_type": "code",
   "execution_count": 22,
   "metadata": {},
   "outputs": [],
   "source": [
    "#a\n",
    "images, names = read_dir('data')\n",
    "numbers, numberNames = read_dir('numbers')\n",
    "\n",
    "img = images[0]\n",
    "\n",
    "cv2.imshow(names[0], img) \n",
    "cv2.waitKey(0)\n",
    "cv2.destroyAllWindows() \n",
    "# exit()"
   ]
  },
  {
   "cell_type": "code",
   "execution_count": 23,
   "metadata": {},
   "outputs": [],
   "source": [
    "#b\n",
    "img = numbers[0]\n",
    "\n",
    "cv2.imshow(numberNames[0], img) \n",
    "cv2.waitKey(0)\n",
    "cv2.destroyAllWindows()\n",
    "# exit()"
   ]
  },
  {
   "cell_type": "code",
   "execution_count": 24,
   "metadata": {},
   "outputs": [],
   "source": [
    "#c\n",
    "\n",
    "#  Input: 2 accumulated histograms\n",
    "# Output: their EMD\n",
    "def calculate_EMD(C_a, C_b):\n",
    "\treturn np.sum(np.abs(C_a - C_b))\n",
    "\n",
    "#  Input: source image and a target to find in it\n",
    "# Output: wether the target's histogram matches a window of the same size in the source image \n",
    "def compare_hist(src_image, target):\n",
    "\ttarget_hist = cv2.calcHist([target], [0], None, [256], [0, 256]).flatten()\n",
    "\ttarget_cumsum = np.cumsum(target_hist, dtype = np.float32)\n",
    "\n",
    "\theight, width = target.shape\n",
    "\twindows = np.lib.stride_tricks.sliding_window_view(src_image, (height, width))\n",
    "\n",
    "\t# offset range of the windows\n",
    "\t# x and y are the actual offset\n",
    "\t# we only check specific windows where the top number appears\n",
    "\thh, ww = windows.shape[:2]\n",
    "\tfor x in range(25, 50):\n",
    "\t\tfor y in range(100, 145):\n",
    "\t\t\twindow = windows[y, x]\n",
    "\t\t\twindow_hist = cv2.calcHist([window], [0], None, [256], [0, 256]).flatten()\n",
    "\t\t\twindow_cumsum = np.cumsum(window_hist, dtype = np.float32)\n",
    "\n",
    "\t\t\temd = calculate_EMD(target_cumsum, window_cumsum)\n",
    "\t\t\tif emd < 260:\n",
    "\t\t\t\treturn True\n",
    "\treturn False"
   ]
  },
  {
   "cell_type": "code",
   "execution_count": 25,
   "metadata": {},
   "outputs": [],
   "source": [
    "#  Input: source image and the numbers image array\n",
    "# Output: an integer of the top most number on the scale\n",
    "def top_num_on_scale(src_image, numbers):\n",
    "    i = len(numbers) - 1\n",
    "    while i >= 0:\n",
    "        res = compare_hist(src_image, numbers[i])\n",
    "        if res is True:\n",
    "            return i\n",
    "        i -= 1\n",
    "    return -1"
   ]
  },
  {
   "cell_type": "code",
   "execution_count": 26,
   "metadata": {},
   "outputs": [
    {
     "name": "stdout",
     "output_type": "stream",
     "text": [
      "Histogram a.jpg's top number: 6\n",
      "Histogram b.jpg's top number: 6\n",
      "Histogram c.jpg's top number: 1\n",
      "Histogram d.jpg's top number: 6\n",
      "Histogram e.jpg's top number: 5\n",
      "Histogram f.jpg's top number: 4\n",
      "Histogram g.jpg's top number: 9\n"
     ]
    }
   ],
   "source": [
    "#d\n",
    "top_nums = np.zeros(len(images))\n",
    "top_nums = np.zeros(len(images))\n",
    "top_nums -= 1\n",
    "\n",
    "for i in range(len(images)):\n",
    "    src_img = images[i]\n",
    "    res = top_num_on_scale(src_img, numbers)\n",
    "    print(f'Histogram {names[i]}\\'s top number: {res}')\n",
    "    top_nums[i] = res"
   ]
  },
  {
   "cell_type": "code",
   "execution_count": 27,
   "metadata": {},
   "outputs": [],
   "source": [
    "#e\n",
    "quantisized_imgs = quantization(images, 3)\n",
    "\n",
    "threshold = 215\n",
    "binary_imgs = []\n",
    "\n",
    "for img in quantisized_imgs:\n",
    "    if len(img.shape) == 3:  # check image dimensions\n",
    "        img = cv2.cvtColor(img, cv2.COLOR_BGR2GRAY)\n",
    "\n",
    "    _, binary_img = cv2.threshold(img, threshold, 255, cv2.THRESH_BINARY)\n",
    "    binary_imgs.append(binary_img)\n",
    "\n",
    "binary_imgs = np.array(binary_imgs)\n",
    "\n",
    "cv2.imshow(\"Thresholded Image\", binary_imgs[0])\n",
    "cv2.waitKey(0)\n",
    "cv2.destroyAllWindows()\n",
    "# exit()"
   ]
  },
  {
   "cell_type": "code",
   "execution_count": 28,
   "metadata": {},
   "outputs": [],
   "source": [
    "#f\n",
    "#  Input: binary image\n",
    "# Output: bar heights list\n",
    "def get_image_counts(bin_image):\n",
    "    bars = np.zeros([10])\n",
    "    for i in range(len(bars)):\n",
    "        bars[i] = get_bar_height(bin_image, i)\n",
    "    return bars"
   ]
  },
  {
   "cell_type": "code",
   "execution_count": 34,
   "metadata": {},
   "outputs": [
    {
     "name": "stdout",
     "output_type": "stream",
     "text": [
      "Histogram a.jpg gave [2, 2, 4, 2, 2, 6, 3, 2, 1, 1]\n",
      "Histogram b.jpg gave [6, 2, 1, 1, 3, 3, 6, 2, 2, 3]\n",
      "Histogram c.jpg gave [0, 0, 0, 0, 0, 0, 1, 1, 1, 1]\n",
      "Histogram d.jpg gave [1, 0, 2, 3, 4, 3, 5, 5, 6, 2]\n",
      "Histogram e.jpg gave [2, 1, 1, 3, 2, 5, 1, 1, 2, 3]\n",
      "Histogram f.jpg gave [1, 0, 1, 1, 1, 4, 1, 1, 2, 1]\n",
      "Histogram g.jpg gave [0, 0, 0, 0, 0, 9, 0, 0, 0, 0]\n"
     ]
    }
   ],
   "source": [
    "#g\n",
    "for i, bin_img in enumerate(binary_imgs):\n",
    "    bars = get_image_counts(bin_img)\n",
    "    max_height = np.max(bars)\n",
    "    top_num = top_num_on_scale(images[i], numbers)\n",
    "    counts = [int(np.round(top_num * bar_height / max_height)) for bar_height in bars]\n",
    "\n",
    "    print(f'Histogram {names[i]} gave {counts}')"
   ]
  }
 ],
 "metadata": {
  "kernelspec": {
   "display_name": "Python 3",
   "language": "python",
   "name": "python3"
  },
  "language_info": {
   "codemirror_mode": {
    "name": "ipython",
    "version": 3
   },
   "file_extension": ".py",
   "mimetype": "text/x-python",
   "name": "python",
   "nbconvert_exporter": "python",
   "pygments_lexer": "ipython3",
   "version": "3.10.6"
  }
 },
 "nbformat": 4,
 "nbformat_minor": 2
}
