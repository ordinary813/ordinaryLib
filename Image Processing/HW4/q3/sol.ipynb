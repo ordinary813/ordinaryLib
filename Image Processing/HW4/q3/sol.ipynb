{
 "cells": [
  {
   "cell_type": "code",
   "execution_count": 3,
   "metadata": {},
   "outputs": [],
   "source": [
    "import numpy as np\n",
    "from numpy.fft import fft2, ifft2, fftshift, ifftshift\n",
    "import cv2\n",
    "import matplotlib.pyplot as plt"
   ]
  },
  {
   "cell_type": "markdown",
   "metadata": {},
   "source": [
    "### <font color='aqua'>Windmill </font>"
   ]
  },
  {
   "cell_type": "code",
   "execution_count": 68,
   "metadata": {},
   "outputs": [],
   "source": [
    "def clean_windmill(im):\n",
    "\t# Compute the 2D Fourier Transform\n",
    "\tf = fft2(im)\n",
    "\tfshift = fftshift(f)\n",
    "\t\n",
    "\t# Get the magnitude spectrum\n",
    "\tmagnitude_spectrum = np.log(np.abs(fshift) + 1)\n",
    "\t\n",
    "\t# Display the magnitude spectrum\n",
    "\t# plt.figure(figsize=(5, 5))\n",
    "\t# plt.imshow(magnitude_spectrum, cmap='gray')\n",
    "\t# plt.title('Magnitude Spectrum')\n",
    "\t# plt.show()\n",
    "\t\n",
    "\trows, cols = im.shape\n",
    "\tcrow, ccol = rows // 2 , cols // 2\n",
    "\t\n",
    "\t# Find abnormally large coefficients in the magnitude spectrum\n",
    "\tmask = np.ones((rows, cols), np.uint8)\n",
    "\tthreshold = 200000\n",
    "\tfor i in range(rows):\n",
    "\t\tfor j in range(cols):\n",
    "\t\t\t# Skip the center of the magnitude spectrum (radius 10)\n",
    "\t\t\tif (i - crow)**2 + (j - ccol)**2 <= 10**2:\n",
    "\t\t\t\tcontinue\n",
    "\t\t\t# Check if the magnitude of the Fourier coefficient is greater than the threshold\n",
    "\t\t\tif np.abs(fshift[i, j]) > threshold:\n",
    "\t\t\t\tmask[i, j] = 0\n",
    "\t\n",
    "\t# Apply the mask\n",
    "\tfshift = fshift * mask\n",
    "\n",
    "\t# masked_magnitude_spectrum = np.log(np.abs(fshift) + 1)\n",
    "\t# plt.figure(figsize=(5, 5))\n",
    "\t# plt.imshow(masked_magnitude_spectrum, cmap='gray')\n",
    "\t# plt.title('Masked Magnitude Spectrum')\n",
    "\t# plt.show()\n",
    "\t\n",
    "\t# Inverse Fourier Transform to get the cleaned image\n",
    "\tf_ishift = ifftshift(fshift)\n",
    "\timg_back = ifft2(f_ishift)\n",
    "\timg_back = np.abs(img_back)\n",
    "\t\n",
    "\treturn img_back"
   ]
  },
  {
   "cell_type": "code",
   "execution_count": null,
   "metadata": {},
   "outputs": [],
   "source": [
    "im2 = cv2.imread(r'Images/windmill.tif')\n",
    "im2 = cv2.cvtColor(im2, cv2.COLOR_BGR2GRAY)\n",
    "im2_clean = clean_windmill(im2)\n",
    "\n",
    "plt.figure()\n",
    "plt.subplot(1, 2, 1)\n",
    "plt.imshow(im2, cmap='gray', vmin=0, vmax=255)\n",
    "plt.subplot(1, 2, 2)\n",
    "plt.imshow(im2_clean, cmap='gray', vmin=0, vmax=255)"
   ]
  },
  {
   "cell_type": "markdown",
   "metadata": {},
   "source": [
    "### <font color = 'aqua'>Umbrella </font>"
   ]
  },
  {
   "cell_type": "code",
   "execution_count": 143,
   "metadata": {},
   "outputs": [],
   "source": [
    "def construct_degradation_kernel(shape, shift):\n",
    "    # builds a degragation kernel with a predetermined shift\n",
    "    kernel = np.zeros(shape)\n",
    "    kernel[0, 0] = 1                # Unshifted component\n",
    "    kernel[shift[0], shift[1]] = 1  # Shifted component\n",
    "    return kernel / 2               # Normalize to preserve energy\n",
    "\n",
    "def clean_umbrella(im , custom_shift = (0,0)):\n",
    "    # application of the simpler filter inverse\n",
    "    lam = 0.0001\n",
    "    \n",
    "    # Construct kernel\n",
    "    h = construct_degradation_kernel(im.shape, custom_shift)\n",
    "\n",
    "    g = im\n",
    "\n",
    "    G = fft2(g)\n",
    "    H = fft2(h)\n",
    "    H_conj = np.conjugate(H)\n",
    "\n",
    "    F = (H_conj / (H*H_conj + lam))*G\n",
    "    f = ifft2(F)\n",
    "\n",
    "    return np.real(f)"
   ]
  },
  {
   "cell_type": "code",
   "execution_count": null,
   "metadata": {},
   "outputs": [],
   "source": [
    "im4 = cv2.imread(r'Images/umbrella.tif')\n",
    "im4 = cv2.cvtColor(im4, cv2.COLOR_BGR2GRAY)\n",
    "im4_clean = clean_umbrella(im4, custom_shift=(4,79))\n",
    "\n",
    "plt.figure()\n",
    "plt.subplot(1, 2, 1)\n",
    "plt.imshow(im4, cmap='gray', vmin=0, vmax=255)\n",
    "plt.subplot(1, 2, 2)\n",
    "plt.imshow(im4_clean, cmap='gray', vmin=0, vmax=255)"
   ]
  },
  {
   "cell_type": "markdown",
   "metadata": {},
   "source": [
    "### <font color = 'aqua'> Watermelon</font>"
   ]
  },
  {
   "cell_type": "code",
   "execution_count": 46,
   "metadata": {},
   "outputs": [],
   "source": [
    "def clean_watermelon(im):\n",
    "    # sharpen image\n",
    "    kernel = np.array([[-1, -1, -1, -1, -1],\n",
    "                       [-1,  2,  2,  2, -1],\n",
    "                       [-1,  2,  8,  2, -1],\n",
    "                       [-1,  2,  2,  2, -1],\n",
    "                       [-1, -1, -1, -1, -1]]) / 8.0\n",
    "    im_sharpened = cv2.filter2D(im, -1, kernel)\n",
    "    return im_sharpened\n"
   ]
  },
  {
   "cell_type": "code",
   "execution_count": null,
   "metadata": {},
   "outputs": [],
   "source": [
    "im3 = cv2.imread(r'Images\\watermelon.tif')\n",
    "im3 = cv2.cvtColor(im3, cv2.COLOR_BGR2GRAY)\n",
    "im3_clean = clean_watermelon(im3)\n",
    "\n",
    "plt.figure()\n",
    "plt.subplot(1, 2, 1)\n",
    "plt.imshow(im3, cmap='gray', vmin=0, vmax=255)\n",
    "plt.subplot(1, 2, 2)\n",
    "plt.imshow(im3_clean, cmap='gray', vmin=0, vmax=255)"
   ]
  },
  {
   "cell_type": "markdown",
   "metadata": {},
   "source": [
    "### <font color = 'aqua'> Flag</font>"
   ]
  },
  {
   "cell_type": "code",
   "execution_count": 169,
   "metadata": {},
   "outputs": [],
   "source": [
    "def get_neighbors(image, row, col):\n",
    "    neighbors = []\n",
    "    \n",
    "    # Add the 2 left pixels if valid\n",
    "    for i in range(1, 7):\n",
    "        if col - i >= 0:\n",
    "            neighbors.append(image[row, col - i])\n",
    "        else:\n",
    "            neighbors.append(0)  # out-of-bounds\n",
    "    \n",
    "    # Add the current pixel\n",
    "    neighbors.append(image[row, col])\n",
    "    \n",
    "    # Add the 2 right pixels if valid\n",
    "    for i in range(1, 7):\n",
    "        if col + i < image.shape[1]:\n",
    "            neighbors.append(image[row, col + i])\n",
    "        else:\n",
    "            neighbors.append(0)  # out-of-bounds\n",
    "    \n",
    "    return neighbors\n",
    "\n",
    "def clean_USAflag(image):\n",
    "    # application of median filter HORIZONTALLY starting at predetermined thresholds \n",
    "    filtered_image = np.copy(image)\n",
    "    \n",
    "    # Apply horizontal median filter only to rows > 75 and cols > 120\n",
    "    for x in range(image.shape[0]):  # Iterate over each row\n",
    "        if x < 85:\n",
    "            for y in range(140, image.shape[1]): \n",
    "                filtered_image[x, y] = np.median(get_neighbors(image, x, y))\n",
    "        else:\n",
    "            for y in range(image.shape[1]):\n",
    "                filtered_image[x, y] = np.median(get_neighbors(image, x, y))\n",
    "            \n",
    "    return filtered_image"
   ]
  },
  {
   "cell_type": "code",
   "execution_count": null,
   "metadata": {},
   "outputs": [],
   "source": [
    "im5 = cv2.imread(r'Images\\USAflag.tif')\n",
    "im5 = cv2.cvtColor(im5, cv2.COLOR_BGR2GRAY)\n",
    "im5_clean = clean_USAflag(im5)\n",
    "\n",
    "plt.figure()\n",
    "plt.subplot(1, 2, 1)\n",
    "plt.imshow(im5, cmap='gray', vmin=0, vmax=255)\n",
    "plt.subplot(1, 2, 2)\n",
    "plt.imshow(im5_clean, cmap='gray', vmin=0, vmax=255)"
   ]
  },
  {
   "cell_type": "markdown",
   "metadata": {},
   "source": [
    "### <font color = 'salmon'> House</font>"
   ]
  },
  {
   "cell_type": "code",
   "execution_count": null,
   "metadata": {},
   "outputs": [],
   "source": [
    "def fourier_mag(im):\n",
    "    f = fft2(im)\n",
    "    fshift = fftshift(f)\n",
    "\n",
    "    magnitude_spectrum = np.log(np.abs(f) + 1)\n",
    "    return magnitude_spectrum\n",
    "\n",
    "im6 = cv2.imread(r'Images\\house.tif')\n",
    "im6 = cv2.cvtColor(im6, cv2.COLOR_BGR2GRAY)\n",
    "magnitude_spectrum = fourier_mag(im6)\n",
    "\n",
    "# Plot the magnitude spectrum\n",
    "plt.figure(figsize=(6, 6))\n",
    "plt.imshow(magnitude_spectrum, cmap='gray')\n",
    "plt.title('Magnitude Spectrum of Fourier Transform')\n",
    "plt.colorbar()\n",
    "plt.show()"
   ]
  },
  {
   "cell_type": "code",
   "execution_count": null,
   "metadata": {},
   "outputs": [],
   "source": [
    "def clean_house(im):\n",
    "    boost_factor=10\n",
    "    boost_radius=20\n",
    "\n",
    "    f = fft2(im)\n",
    "    fshift = fftshift(f)\n",
    "    \n",
    "    # Step 2: Identify the low or missing frequency bands and amplify them\n",
    "    rows, cols = im.shape\n",
    "    crow, ccol = rows // 2, cols // 2\n",
    "\n",
    "    # Create a mask to amplify frequencies within a certain radius around the center\n",
    "    for i in range(-boost_radius, boost_radius+1):\n",
    "        for j in range(-boost_radius, boost_radius+1):\n",
    "            # Amplify the frequencies inside the defined radius\n",
    "            fshift[crow + i, ccol + j] *= boost_factor  # Boost the frequency components\n",
    "            fshift[crow - i, ccol - j] *= boost_factor  # Also mirror the boost in the other quadrant\n",
    "\n",
    "    # Step 3: Inverse FFT to get back to the spatial domain\n",
    "    fshift_restored = ifft2(np.fft.ifftshift(fshift))\n",
    "\n",
    "    # Step 4: Take the real part of the restored image\n",
    "    restored_image = np.abs(fshift_restored)\n",
    "\n",
    "    return restored_image\n",
    "\n",
    "im6 = cv2.imread(r'Images\\house.tif')\n",
    "im6 = cv2.cvtColor(im6, cv2.COLOR_BGR2GRAY)\n",
    "im6_clean = clean_house(im6)\n",
    "\n",
    "plt.figure()\n",
    "plt.subplot(1, 2, 1)\n",
    "plt.imshow(fourier_mag(im6), cmap='gray')\n",
    "plt.subplot(1, 2, 2)\n",
    "plt.imshow(fourier_mag(im6_clean), cmap='gray')"
   ]
  },
  {
   "cell_type": "code",
   "execution_count": null,
   "metadata": {},
   "outputs": [],
   "source": [
    "im6 = cv2.imread(r'Images\\house.tif')\n",
    "im6 = cv2.cvtColor(im6, cv2.COLOR_BGR2GRAY)\n",
    "im6_clean = clean_house(im6)\n",
    "\n",
    "plt.figure()\n",
    "plt.subplot(1, 2, 1)\n",
    "plt.imshow(im6, cmap='gray', vmin=0, vmax=255)\n",
    "plt.subplot(1, 2, 2)\n",
    "plt.imshow(im6_clean, cmap='gray', vmin=0, vmax=255)"
   ]
  },
  {
   "cell_type": "markdown",
   "metadata": {},
   "source": [
    "### <font color = 'salmon'> Bears</font>"
   ]
  },
  {
   "cell_type": "code",
   "execution_count": null,
   "metadata": {},
   "outputs": [],
   "source": [
    "im7 = cv2.imread(r'Images\\bears.tif')\n",
    "im7 = cv2.cvtColor(im7, cv2.COLOR_BGR2GRAY)\n",
    "im7_clean = clean_bears(im7)\n",
    "\n",
    "plt.figure()\n",
    "plt.subplot(1, 2, 1)\n",
    "plt.imshow(im7, cmap='gray', vmin=0, vmax=255)\n",
    "plt.subplot(1, 2, 2)\n",
    "plt.imshow(im7_clean, cmap='gray', vmin=0, vmax=255)\n",
    "\n",
    "plt.show()"
   ]
  }
 ],
 "metadata": {
  "kernelspec": {
   "display_name": "Python 3",
   "language": "python",
   "name": "python3"
  },
  "language_info": {
   "codemirror_mode": {
    "name": "ipython",
    "version": 3
   },
   "file_extension": ".py",
   "mimetype": "text/x-python",
   "name": "python",
   "nbconvert_exporter": "python",
   "pygments_lexer": "ipython3",
   "version": "3.12.2"
  }
 },
 "nbformat": 4,
 "nbformat_minor": 2
}
