{
  "cells": [
    {
      "cell_type": "markdown",
      "metadata": {
        "id": "ocR88ScnhZjt"
      },
      "source": [
        "# Introducrtion to Machine Learning: Assignment #3\n",
        "## Submission date: 13\\03\\2024, 23:55.\n",
        "### Topics:\n",
        "- PAC, VCdim\n",
        "- Decision Trees\n",
        "- Cross validation\n",
        "- Random forest\n",
        "- kernel regression"
      ]
    },
    {
      "cell_type": "markdown",
      "metadata": {
        "id": "k3_EWgIhhddu"
      },
      "source": [
        "Submitted by:\n",
        "\n",
        "Or Dinar 207035809"
      ]
    },
    {
      "cell_type": "markdown",
      "metadata": {
        "id": "Z8Atq8JqiCPl"
      },
      "source": [
        "**Assignment Instruction:**\n",
        "\n",
        "· Submissions in pairs only.\n",
        "\n",
        "· The code must be reasonably documented\n",
        "\n",
        "· Try to keep the code as clean, concise, and short as possible\n",
        "\n",
        "· Your submission must be entirely your own. Any attempts of plagiarism (including ChatGPT) will lead to disciplinary actions.\n",
        "\n",
        "· You should save a copy of the notebook to your Drive and answer all the questions inside the notebook, at the designated cells. Only the notebook will be submitted in moodle (in `.ipynb` format).\n",
        "\n",
        "· If you wish to work in your IDE, make a `.py` copy of the notebook, but as you finish insert the script back to the matching cells of the notebook.\n",
        "\n",
        "**Important:** All plots, results and outputs should be included in the notebook as the cells' outputs (run all cells and do not clear the output)."
      ]
    },
    {
      "cell_type": "markdown",
      "metadata": {
        "id": "loHiZy0lVzT0"
      },
      "source": [
        "## Question 1 - Decision tree"
      ]
    },
    {
      "cell_type": "markdown",
      "metadata": {
        "id": "34peWE4XiSmH"
      },
      "source": [
        "You are requested by the central bank of America to construct a classifier, for detection whether a banknote is real or fake. <br/>\n",
        "This will be done by decision tree model. <br/>\n",
        "The dataset consists of 4 features which were obtained from the digitized images of banknotes.<br/>\n",
        "\n",
        "Note that the features are continuous! Therefore, use only one threshold and split according to it.\n"
      ]
    },
    {
      "cell_type": "markdown",
      "metadata": {
        "id": "XJcvL4jyiSAP"
      },
      "source": [
        "import libraries"
      ]
    },
    {
      "cell_type": "code",
      "execution_count": 1,
      "metadata": {
        "id": "w8LUgNO8V1Ut"
      },
      "outputs": [],
      "source": [
        "import numpy as np\n",
        "import pandas as pd\n",
        "from sklearn.model_selection import train_test_split"
      ]
    },
    {
      "cell_type": "markdown",
      "metadata": {
        "id": "EOZUePvCjZjZ"
      },
      "source": [
        "load the data, print the first rows"
      ]
    },
    {
      "cell_type": "code",
      "execution_count": 2,
      "metadata": {
        "id": "-PZdW625WCTa"
      },
      "outputs": [
        {
          "data": {
            "text/html": [
              "<div>\n",
              "<style scoped>\n",
              "    .dataframe tbody tr th:only-of-type {\n",
              "        vertical-align: middle;\n",
              "    }\n",
              "\n",
              "    .dataframe tbody tr th {\n",
              "        vertical-align: top;\n",
              "    }\n",
              "\n",
              "    .dataframe thead th {\n",
              "        text-align: right;\n",
              "    }\n",
              "</style>\n",
              "<table border=\"1\" class=\"dataframe\">\n",
              "  <thead>\n",
              "    <tr style=\"text-align: right;\">\n",
              "      <th></th>\n",
              "      <th>var</th>\n",
              "      <th>skew</th>\n",
              "      <th>curt</th>\n",
              "      <th>entropy</th>\n",
              "      <th>class</th>\n",
              "    </tr>\n",
              "  </thead>\n",
              "  <tbody>\n",
              "    <tr>\n",
              "      <th>0</th>\n",
              "      <td>3.6216</td>\n",
              "      <td>8.6661</td>\n",
              "      <td>-2.8073</td>\n",
              "      <td>-0.44699</td>\n",
              "      <td>0</td>\n",
              "    </tr>\n",
              "    <tr>\n",
              "      <th>1</th>\n",
              "      <td>4.5459</td>\n",
              "      <td>8.1674</td>\n",
              "      <td>-2.4586</td>\n",
              "      <td>-1.46210</td>\n",
              "      <td>0</td>\n",
              "    </tr>\n",
              "    <tr>\n",
              "      <th>2</th>\n",
              "      <td>3.8660</td>\n",
              "      <td>-2.6383</td>\n",
              "      <td>1.9242</td>\n",
              "      <td>0.10645</td>\n",
              "      <td>0</td>\n",
              "    </tr>\n",
              "  </tbody>\n",
              "</table>\n",
              "</div>"
            ],
            "text/plain": [
              "      var    skew    curt  entropy  class\n",
              "0  3.6216  8.6661 -2.8073 -0.44699      0\n",
              "1  4.5459  8.1674 -2.4586 -1.46210      0\n",
              "2  3.8660 -2.6383  1.9242  0.10645      0"
            ]
          },
          "execution_count": 2,
          "metadata": {},
          "output_type": "execute_result"
        }
      ],
      "source": [
        "data = pd.read_csv('https://sharon.srworkspace.com/ml/datasets/hw3/banknote_authentication.csv')\n",
        "data.head(3)"
      ]
    },
    {
      "cell_type": "markdown",
      "metadata": {
        "id": "aISL11PniuiG"
      },
      "source": [
        "Complete this missing implementation of the following functions:\n",
        "- ```calculate_entropy(self, data)``` – given data, compute the entropy, where the distribution is over its labels (target class).\n",
        "- ```calculate_information_gain(self, data, feature)``` – given data and specific feature, compute the information gain given by selecting that feature.\n",
        "\n",
        "Algorithm: The data is continuous, so create 10 thresholds between the min and max values of that feature. For each threshold, split to left tree and right tree and calculate the gain. Choose the threshold which gives the highest gain, along with the gain itself (to later compare between features) <br/>\n",
        "\n",
        "Tip: To split the tree (represented by data df), use filter_data.\n",
        "For example, when calculating the gain of 'skew' with threshold 0.5, you can create the left tree by use ```filter_data(data, 'skew', '0.5', left=True)``` to obtain only those samples."
      ]
    },
    {
      "cell_type": "code",
      "execution_count": 3,
      "metadata": {
        "id": "-IqUorHMV-tr"
      },
      "outputs": [],
      "source": [
        "# Define the ID3 decision tree class\n",
        "class DecisionTree:\n",
        "\tdef __init__(self, criterion='entropy', thresholds=10):\n",
        "\t\tself.tree = {}\n",
        "\t\tself.criterion = criterion\n",
        "\t\tself.thresholds = thresholds\n",
        "\n",
        "\tdef calculate_entropy(self, data):\n",
        "\t\tlabels = data.iloc[:, -1]\n",
        "\t\tunique_labels, labels_counts = np.unique(labels, return_counts=True)\n",
        "\t\tprobs = labels_counts/ len(labels)\n",
        "\t\tentropy =  -np.sum(probs * np.log2(probs))\n",
        "\t\treturn entropy\n",
        "\t\n",
        "\tdef calculate_gini(self, data):\n",
        "\t\tlabels = data.iloc[:, -1]\n",
        "\t\tunique_labels, labels_counts = np.unique(labels, return_counts=True)\n",
        "\t\tprobs = labels_counts/ len(labels)\n",
        "\t\tgini =  1 - np.sum(probs ** 2)\n",
        "\t\treturn gini\n",
        "\t\n",
        "\t# calculate the information gain for a certain node, using a specific feature\n",
        "\tdef calculate_information_gain(self, data, feature):\n",
        "\t\ttotal_impurity = eval(f\"self.calculate_{self.criterion}(data)\")\n",
        "\n",
        "\t\t# values interval\n",
        "\t\tvalues = np.linspace(np.min(data[feature]), np.max(data[feature]), self.thresholds)\n",
        "\t\tbest_treshold = None\n",
        "\t\tbest_gain = 0\n",
        "\t\t\n",
        "\t\t# iterate over each interval and decide which one gives us the best information gain for the current node\n",
        "\t\tfor value in values:\n",
        "\t\t\t# split the current node's children into 2 sub-trees\n",
        "\t\t\t# features that are greater than value (right split) \n",
        "\t\t\t# features that are lower than value (left split)\n",
        "\t\t\tleft_split = self.filter_data(data, feature, value, left=True)\n",
        "\t\t\tright_split = self.filter_data(data, feature, value, left=False)\n",
        "\n",
        "\t\t\t# calculate impurity of each sub-tree, and add the weighted sum of them to 'current_entropy'\n",
        "\t\t\tleft_impurity = eval(f\"self.calculate_{self.criterion}(left_split)\")\n",
        "\t\t\tright_impurity = eval(f\"self.calculate_{self.criterion}(right_split)\")\n",
        "\t\t\tcurrent_impurity = (len(left_split)/len(data)) * left_impurity + (len(right_split)/len(data)) * right_impurity\n",
        "\n",
        "\t\t\t# calculate information gain for the current node\n",
        "\t\t\tgain = total_impurity - current_impurity\n",
        "\t\t\t\n",
        "\t\t\t# get the max gain and the coressponding value\n",
        "\t\t\tif(gain > best_gain):\n",
        "\t\t\t\tbest_gain = gain\n",
        "\t\t\t\tbest_treshold = value\n",
        "\t\treturn best_gain, best_treshold\n",
        "\n",
        "\tdef filter_data(self, data, feature, value, left=True):\n",
        "\t\tif left:\n",
        "\t\t\treturn data[data[feature] <= value].drop(feature, axis=1)\n",
        "\t\telse:\n",
        "\t\t\treturn data[data[feature] > value].drop(feature, axis=1)\n",
        "\n",
        "\tdef create_tree(self, data, depth=0):\n",
        "\t\t# Recursive function to create the decision tree\n",
        "\t\tlabels = data.iloc[:, -1]\n",
        "\n",
        "\t\t# Base case: if all labels are the same, return the label\n",
        "\t\tif len(np.unique(labels)) == 1:\n",
        "\t\t\treturn list(labels)[0]\n",
        "\n",
        "\t\tfeatures = data.columns.tolist()[:-1]\n",
        "\t\t# Base case: if there are no features left to split on, return the majority label\n",
        "\t\tif len(features) == 0:\n",
        "\t\t\tunique_labels, label_counts = np.unique(labels, return_counts=True)\n",
        "\t\t\tmajority_label = unique_labels[label_counts.argmax()]\n",
        "\t\t\treturn majority_label\n",
        "\n",
        "\t\tselected_feature = None\n",
        "\t\tbest_gain = 0\n",
        "\t\tbest_treshold = None\n",
        "\n",
        "\t\tfor feature in features:\n",
        "\t\t\tgain, treshold = self.calculate_information_gain(data, feature)\n",
        "\t\t\tif gain >= best_gain:\n",
        "\t\t\t\tselected_feature = feature\n",
        "\t\t\t\tbest_treshold = treshold\n",
        "\t\t\t\tbest_gain = gain\n",
        "\n",
        "\t\t# Create the tree node\n",
        "\t\ttree_node = {}\n",
        "\t\ttree_node[(selected_feature, f\"<={best_treshold}\")] = self.create_tree(self.filter_data(data, selected_feature, best_treshold, left=True), depth+1)\n",
        "\t\ttree_node[(selected_feature, f\">{best_treshold}\")] = self.create_tree(self.filter_data(data, selected_feature, best_treshold, left=False), depth+1)\n",
        "\n",
        "\t\t# check if can unite them.\n",
        "\t\tif not isinstance(tree_node[(selected_feature, f\"<={best_treshold}\")], dict) and \\\n",
        "\t\t\t\tnot isinstance(tree_node[(selected_feature, f\">{best_treshold}\")], dict):\n",
        "\t\t\tif tree_node[(selected_feature, f\"<={best_treshold}\")] == tree_node[(selected_feature, f\">{best_treshold}\")]:\n",
        "\t\t\t\treturn tree_node[(selected_feature, f\"<={best_treshold}\")]\n",
        "\n",
        "\t\treturn tree_node\n",
        "\n",
        "\tdef fit(self, data):\n",
        "\t\tself.tree = self.create_tree(data)\n",
        "\n",
        "\tdef predict(self, X):\n",
        "\t\tX = [row[1] for row in X.iterrows()]\n",
        "\n",
        "\t\t# Predict the labels for new data points\n",
        "\t\tpredictions = []\n",
        "\n",
        "\t\tfor row in X:\n",
        "\t\t\tcurrent_node = self.tree\n",
        "\t\t\twhile isinstance(current_node, dict):\n",
        "\t\t\t\tsplit_condition = next(iter(current_node))\n",
        "\t\t\t\tfeature, value = split_condition\n",
        "\t\t\t\ttreshold = float(value[2:])\n",
        "\t\t\t\tif row[feature] <= treshold:\n",
        "\t\t\t\t\tcurrent_node = current_node[feature, f\"<={treshold}\"]\n",
        "\t\t\t\telse:\n",
        "\t\t\t\t\tcurrent_node = current_node[feature, f\">{treshold}\"]\n",
        "\t\t\tpredictions.append(current_node)\n",
        "\n",
        "\t\treturn predictions\n",
        "\n",
        "\tdef _plot(self, tree, indent):\n",
        "\t\tdepth = 1\n",
        "\t\tfor key, value in tree.items():\n",
        "\t\t\tif isinstance(value, dict):\n",
        "\t\t\t\tprint(\" \" * indent + str(key) + \":\")\n",
        "\t\t\t\tdepth = max(depth, 1 + self._plot(value, indent + 2))\n",
        "\t\t\telse:\n",
        "\t\t\t\tprint(\" \" * indent + str(key) + \": \" + str(value))\n",
        "\t\treturn depth\n",
        "\n",
        "\tdef plot(self):\n",
        "\t\tdepth = self._plot(self.tree, 0)\n",
        "\t\tprint(f'depth is {depth}')"
      ]
    },
    {
      "cell_type": "markdown",
      "metadata": {
        "id": "IdezpzK9WHwv"
      },
      "source": [
        "You are ready - define DecisionTree, fit it on the entire data and plot the tree. <br/>\n",
        "The depth of the tree should be 4"
      ]
    },
    {
      "cell_type": "code",
      "execution_count": 4,
      "metadata": {
        "id": "HgSriNidWHW9"
      },
      "outputs": [
        {
          "name": "stdout",
          "output_type": "stream",
          "text": [
            "('var', '<=0.6617333333333333'):\n",
            "  ('skew', '<=4.043366666666667'): 1\n",
            "  ('skew', '>4.043366666666667'):\n",
            "    ('curt', '<=1.4297444444444443'):\n",
            "      ('entropy', '<=-3.12498'): 1\n",
            "      ('entropy', '>-3.12498'): 0\n",
            "    ('curt', '>1.4297444444444443'): 0\n",
            "('var', '>0.6617333333333333'):\n",
            "  ('curt', '<=-2.187766666666667'):\n",
            "    ('skew', '<=5.5070500000000004'): 1\n",
            "    ('skew', '>5.5070500000000004'): 0\n",
            "  ('curt', '>-2.187766666666667'): 0\n",
            "depth is 4\n"
          ]
        }
      ],
      "source": [
        "tree = DecisionTree()\n",
        "tree.fit(data)\n",
        "tree.plot()"
      ]
    },
    {
      "cell_type": "markdown",
      "metadata": {
        "id": "RL_ISCptkHCf"
      },
      "source": [
        "Now, we will use other method, instead of entropy, $$\\text{gini}(A)=1-\\sum_{i\\in C}p(i)^2$$\n",
        "We will modify our DecisionTree: <br/>\n",
        "```\n",
        "def __init__(self, criterion='entropy'):\n",
        "        self.tree = {} <br/>\n",
        "        self.criterion = criterion\n",
        "```\n",
        "\n",
        "Modify the rest of the code to support criterion, whether is gini or entropy.\n"
      ]
    },
    {
      "cell_type": "markdown",
      "metadata": {
        "id": "jlbxf36OWuEo"
      },
      "source": [
        "Train both criterions for 10 thresholds, print the train and test accuracy."
      ]
    },
    {
      "cell_type": "code",
      "execution_count": 5,
      "metadata": {
        "id": "yCV8Ia24WwBB"
      },
      "outputs": [
        {
          "name": "stdout",
          "output_type": "stream",
          "text": [
            "------------ entropy ------------\n",
            "Training accuracy is 0.9206927985414768\n",
            "Test accuracy is 0.9127272727272727\n",
            "\n",
            "------------ gini ------------\n",
            "Training accuracy is 0.9161349134001823\n",
            "Test accuracy is 0.9018181818181819\n",
            "\n"
          ]
        }
      ],
      "source": [
        "train, test = train_test_split(data, test_size=0.2, random_state=42, stratify=data['class'])\n",
        "\n",
        "for criterion in [\"entropy\", \"gini\"]:\n",
        "\tprint(f\"------------ {criterion} ------------\")\n",
        "\t# define a decision tree and fit the training data on it\n",
        "\ttree_train = DecisionTree(criterion)\n",
        "\ttree_train.fit(train)\n",
        "\n",
        "\t# compare true labels with predicted labels\n",
        "\ttrainLabels = train.iloc[:, -1]\n",
        "\ttrainPreds = tree_train.predict(train)\n",
        "\tacc = np.mean( trainPreds == trainLabels)\n",
        "\tprint(f'Training accuracy is {acc}')\n",
        "\n",
        "\t# test the trained decision tree with the test set\n",
        "\ttestLabels = test.iloc[:, -1]\n",
        "\ttestPreds = tree_train.predict(test)\n",
        "\tacc = np.mean( testPreds == testLabels)\n",
        "\tprint(f'Test accuracy is {acc}')\n",
        "\tprint()"
      ]
    },
    {
      "cell_type": "markdown",
      "metadata": {
        "id": "OZCQ4jl0mfOi"
      },
      "source": [
        "Train both criterions for 100 thresholds, print the train and test accuracy.<br/> Which criterion is considered better in ML terms? <br/>\n",
        "<font color='aqua'>The accuracy for train and test are similar, that means the classifier generalizes pretty good. If the definition of generalzation is `TestAcc > TrainAcc` than there isn't a big difference. However, entropy performs a little bit better than gini.</font>"
      ]
    },
    {
      "cell_type": "code",
      "execution_count": 6,
      "metadata": {
        "id": "_9iTcwtL2cZ8"
      },
      "outputs": [
        {
          "name": "stdout",
          "output_type": "stream",
          "text": [
            "------------ entropy ------------\n",
            "Training accuracy is 0.9307201458523245\n",
            "Test accuracy is 0.9090909090909091\n",
            "\n",
            "------------ gini ------------\n",
            "Training accuracy is 0.9243391066545124\n",
            "Test accuracy is 0.8981818181818182\n",
            "\n"
          ]
        }
      ],
      "source": [
        "for criterion in [\"entropy\", \"gini\"]:\n",
        "\tprint(f\"------------ {criterion} ------------\")\n",
        "\t# define a decision tree and fit the training data on it\n",
        "\ttree_train = DecisionTree(criterion, thresholds=100)\n",
        "\ttree_train.fit(train)\n",
        "\n",
        "\t# compare true labels with predicted labels\n",
        "\ttrainLabels = train.iloc[:, -1]\n",
        "\ttrainPreds = tree_train.predict(train)\n",
        "\tacc = np.mean( trainPreds == trainLabels)\n",
        "\tprint(f'Training accuracy is {acc}')\n",
        "\n",
        "\t# test the trained decision tree with the test set\n",
        "\ttestLabels = test.iloc[:, -1]\n",
        "\ttestPreds = tree_train.predict(test)\n",
        "\tacc = np.mean( testPreds == testLabels)\n",
        "\tprint(f'Test accuracy is {acc}')\n",
        "\tprint()"
      ]
    },
    {
      "cell_type": "markdown",
      "metadata": {
        "id": "3hAgcBEZ6unF"
      },
      "source": [
        "## Question 2 - Random forest"
      ]
    },
    {
      "cell_type": "markdown",
      "metadata": {
        "id": "itnGw5A3nGQ0"
      },
      "source": [
        "Ensemble learning is a general technique to combat overfitting, by combining the predictions of many varied models into a single prediction based on majority vote or their average.<br/>\n",
        "\n",
        "You will extend the tree from question 2 into Random Forest"
      ]
    },
    {
      "cell_type": "markdown",
      "metadata": {
        "id": "cEs-RMATnAlN"
      },
      "source": [
        "import libraries"
      ]
    },
    {
      "cell_type": "code",
      "execution_count": 7,
      "metadata": {
        "id": "QmSlRnw-6v1a"
      },
      "outputs": [],
      "source": [
        "import numpy as np\n",
        "import pandas as pd\n",
        "from sklearn.model_selection import train_test_split\n",
        "from collections import Counter\n",
        "import matplotlib.pyplot as plt\n",
        "import sys\n",
        "from tqdm import tqdm\n",
        "from sklearn.model_selection import KFold"
      ]
    },
    {
      "cell_type": "markdown",
      "metadata": {
        "id": "Lz1fcBb1s1z6"
      },
      "source": [
        "Split into train and test"
      ]
    },
    {
      "cell_type": "code",
      "execution_count": 8,
      "metadata": {
        "id": "9H_RiIZ_7_3v"
      },
      "outputs": [],
      "source": [
        "data = pd.read_csv('https://sharon.srworkspace.com/ml/datasets/hw3/banknote_authentication.csv')\n",
        "train, test = train_test_split(data, test_size=0.2, stratify=data['class'], random_state=42)"
      ]
    },
    {
      "cell_type": "markdown",
      "metadata": {
        "id": "YA69AoH9nP9k"
      },
      "source": [
        "Complete the missing implementation of the ```fit``` function. <br/>\n",
        "Algorithm: Learn n_estimators trees. Each tree draws data, using sample_data and then selects features randomly, by select_features function. Finally, fit each tree to it's data."
      ]
    },
    {
      "cell_type": "code",
      "execution_count": 9,
      "metadata": {
        "id": "9e_yk12e6wko"
      },
      "outputs": [],
      "source": [
        "# Define the ID3 decision tree class\n",
        "class RandomForest:\n",
        "\tdef __init__(self, n_estimators=3, method='simple', criterion='entropy'):\n",
        "\t\tself.forest = []\n",
        "\t\tself.criterion = criterion\n",
        "\t\tself.n_estimators = n_estimators\n",
        "\t\tself.method = method\n",
        "    \n",
        "    # this method selects a random n feature subset of the data and returns it\n",
        "\tdef select_features(self, data):\n",
        "\t\tnp.random.seed(40+len(self.forest))\n",
        "\n",
        "\t\tif self.method == 'sqrt':\n",
        "\t\t\tm = int(np.sqrt(len(data.columns)-1))\n",
        "\t\telif self.method == 'log':\n",
        "\t\t\tm = int(np.log2(len(data.columns)-1))\n",
        "\t\telse:\n",
        "\t\t\tm = np.random.randint(0, len(data.columns))\n",
        "\n",
        "        # select random m features for current classifier\n",
        "\t\tincidies = np.random.choice(np.arange(0, len(data.columns)-1), size=m, replace=False)\n",
        "\t\tfeatures = list(data.columns[incidies])\n",
        "\t\t\n",
        "        # returns the data only with the selected m features, and their class\n",
        "\t\treturn data[features + ['class']]\n",
        "\n",
        "\t# returns row indices of |selected features| to account\n",
        "\tdef sample_data(self, data):\n",
        "\t\tindices = np.random.choice(np.arange(0, len(data)-1), size=len(data)-1)\n",
        "\t\treturn indices\n",
        "\n",
        "\tdef fit(self, data):\n",
        "\t\tself.forest = []\n",
        "\t\tfor _ in range(self.n_estimators):\n",
        "\t\t\tsamp_data = data.iloc[self.sample_data(data)]\n",
        "\t\t\tfeatures = self.select_features(samp_data)\n",
        "\n",
        "\t\t\t# define a decision tree to add to the forest\n",
        "\t\t\ttree = DecisionTree(criterion=self.criterion, thresholds=100)\n",
        "\t\t\ttree.fit(features)\n",
        "\t\t\tself.forest.append(tree)\n",
        "\n",
        "\n",
        "\tdef _predict(self, X):\n",
        "\t\t# Predict the labels for new data points\n",
        "\t\tpredictions = []\n",
        "\n",
        "\t\tpreds = [tree.predict(X) for tree in self.forest]\n",
        "\t\tpreds = list(zip(*preds))\n",
        "\t\tpredictions = [Counter(est).most_common(1)[0][0] for est in preds]\n",
        "\n",
        "\t\treturn predictions\n",
        "\n",
        "\tdef score(self, X):\n",
        "\t\tpred = self._predict(X)\n",
        "\t\treturn (pred == X.iloc[:,-1]).sum() / len(X)\n"
      ]
    },
    {
      "cell_type": "markdown",
      "metadata": {
        "id": "tQEZsoqXtLBN"
      },
      "source": [
        "Compare Random Forest with 3 trees using entropy vs gini, on both train and test set. Each tree should use 100 thresholds.\n",
        "<br/> Which criterion is considered better in ML terms? <br/>\n",
        "<font color='aqua'>Honestly they both generalize almost the same so I I'd pick the one with better accuracy which is Entropy.</font>"
      ]
    },
    {
      "cell_type": "code",
      "execution_count": 12,
      "metadata": {
        "id": "Er_8x3Ls8CWP"
      },
      "outputs": [
        {
          "name": "stdout",
          "output_type": "stream",
          "text": [
            "using 3 estimators\n",
            "        entropy      gini\n",
            "train  0.810392  0.792160\n",
            "test   0.763636  0.745455\n"
          ]
        }
      ],
      "source": [
        "dict1 = {'entropy': [], 'gini': []}\n",
        "\n",
        "criterions = ['entropy', 'gini']\n",
        "for crt in criterions:\n",
        "  forest = RandomForest(n_estimators=3, method='simple', criterion=crt)\n",
        "  forest.fit(train)\n",
        "\n",
        "  acc = forest.score(train)\n",
        "  dict1[crt].append(acc)\n",
        "\n",
        "  acc = forest.score(test)\n",
        "  dict1[crt].append(acc)\n",
        "\n",
        "print('using 3 estimators')\n",
        "df = pd.DataFrame(dict1, columns=criterions, index=['train', 'test'])\n",
        "print(df)"
      ]
    },
    {
      "cell_type": "markdown",
      "metadata": {
        "id": "HrDmJRy_tc8j"
      },
      "source": [
        "You think that Sharon cheated and maybe by using another number of estimators you can get better accuracy. You will use cross validation.<br/>\n",
        "Complete the missing code in the KFold function.<br/>\n",
        "Tip: We saw a similar example code in the tutorials."
      ]
    },
    {
      "cell_type": "code",
      "execution_count": 13,
      "metadata": {
        "id": "7WecNNzA9mUE"
      },
      "outputs": [],
      "source": [
        "def KFold2(data, model, cv=5):\n",
        "  kf = KFold(n_splits=cv)\n",
        "  scores = []\n",
        "\n",
        "  for train_index, test_index in kf.split(data):\n",
        "    train_data, test_data = data.iloc[train_index], data.iloc[test_index]\n",
        "    model.fit(train_data)\n",
        "    score = model.score(test_data)\n",
        "    scores.append(score)\n",
        "\n",
        "  return np.mean(scores)"
      ]
    },
    {
      "cell_type": "markdown",
      "metadata": {
        "id": "aJy9GATkIy1O"
      },
      "source": [
        "Prepear graph to compare both criterions along different number of estimators.<br/>\n",
        "Tip: run it for one iteration first, to ensure your code works"
      ]
    },
    {
      "cell_type": "code",
      "execution_count": 14,
      "metadata": {
        "id": "qwpQwtdh9n4e"
      },
      "outputs": [
        {
          "name": "stderr",
          "output_type": "stream",
          "text": [
            "100%|██████████| 17/17 [15:46<00:00, 55.67s/it]\n"
          ]
        },
        {
          "data": {
            "image/png": "[encoded data removed]",
            "text/plain": [
              "<Figure size 640x480 with 1 Axes>"
            ]
          },
          "metadata": {},
          "output_type": "display_data"
        }
      ],
      "source": [
        "correct_entropy = []\n",
        "correct_gini = []\n",
        "\n",
        "# I made the range a variable for ease of use\n",
        "myRange = range(3,20,1)\n",
        "\n",
        "for i in tqdm(myRange):\n",
        "\tforest = RandomForest(n_estimators=i, method='simple', criterion='gini')\n",
        "\tcorrect_gini.append(KFold2(data=train, model=forest, cv=5))\n",
        "\tforest = RandomForest(n_estimators=i, method='simple', criterion='entropy')\n",
        "\tcorrect_entropy.append(KFold2(data=train, model=forest, cv=5))\n",
        "\n",
        "plt.plot(myRange, np.array(correct_entropy), label='entropy')\n",
        "plt.plot(myRange, np.array(correct_gini), label='gini')\n",
        "\n",
        "plt.legend(loc='upper left')\n",
        "plt.xlabel('trees num')\n",
        "plt.ylabel('avg accuracy')\n",
        "plt.show()"
      ]
    },
    {
      "cell_type": "markdown",
      "metadata": {
        "id": "NbalSjnfuoMA"
      },
      "source": [
        "Use the best number of estimators you found, retrain the model and print the accuracies on train and test. <br/>\n",
        "Now, which model is better generalizer? <br/>\n",
        "<font color='aqua'>It depends on how I pick the number of estimators, if I picked the number of estimators to be 6 (which is where gini excelled), then gini would be a better generalizer. BUT! in this dataset it seems entropy is a little bit better at generalizing it's predictions towards test sets.</font>"
      ]
    },
    {
      "cell_type": "code",
      "execution_count": 15,
      "metadata": {
        "id": "8cZpTzkIBoFq"
      },
      "outputs": [
        {
          "name": "stdout",
          "output_type": "stream",
          "text": [
            "using 6 estimators\n",
            "        entropy      gini\n",
            "train  0.925251  0.927985\n",
            "test   0.909091  0.916364\n"
          ]
        }
      ],
      "source": [
        "dict1 = {'entropy': [], 'gini': []}\n",
        "\n",
        "# best_n = int(np.max(correct_entropy))\n",
        "best_n = 6\n",
        "\n",
        "criterions = ['entropy', 'gini']\n",
        "for crt in criterions:\n",
        "  forest = RandomForest(n_estimators=best_n, method='simple', criterion=crt)\n",
        "  forest.fit(train)\n",
        "\n",
        "  acc = forest.score(train)\n",
        "  dict1[crt].append(acc)\n",
        "\n",
        "  acc = forest.score(test)\n",
        "  dict1[crt].append(acc)\n",
        "\n",
        "print(f'using {best_n} estimators')\n",
        "df = pd.DataFrame(dict1, columns=criterions, index=['train', 'test'])\n",
        "print(df)"
      ]
    },
    {
      "cell_type": "markdown",
      "metadata": {
        "id": "Qr4txG3BvJWm"
      },
      "source": [
        "Answer the following questions:\n",
        "- Compared to decision trees, what is the conclusion about the Random Forest model, in terms of generalization, overfitting and correlation?\n",
        "- In our task, we used only method='simple', but not 'square' nor 'log'. Without running, would they work? Why?<br/>\n",
        "\n",
        "<font color='aqua'>\n",
        "<ol>\n",
        "  <li>Random forest will generalize better, the probability of overfitting is really low since we select random features to account in each tree, and the correlation should be non-existent since in each tree we should use different samples and also different features.</li>\n",
        "  <li>It should work, the main difference is the amount of features we'll select in each decision tree in the forest.</li>\n",
        "</ol>\n",
        "</font>"
      ]
    },
    {
      "cell_type": "markdown",
      "metadata": {
        "id": "D6EK6Vxivmng"
      },
      "source": [
        "## Question 3 - Linear kernelization"
      ]
    },
    {
      "cell_type": "markdown",
      "metadata": {
        "id": "HOhAImvmvquP"
      },
      "source": [
        "You are given dataset for regression problem, with one feature (x) and prediction (y) and aim to build the best regressor."
      ]
    },
    {
      "cell_type": "markdown",
      "metadata": {
        "id": "XsZKAQpfvzSy"
      },
      "source": [
        "import libraries"
      ]
    },
    {
      "cell_type": "code",
      "execution_count": 16,
      "metadata": {
        "id": "OktEMhrFvz52"
      },
      "outputs": [],
      "source": [
        "import numpy as np\n",
        "import pandas as pd\n",
        "import matplotlib.pyplot as plt\n",
        "from sklearn.model_selection import train_test_split\n",
        "\n",
        "from mpl_toolkits.mplot3d import Axes3D\n",
        "import requests\n",
        "from io import BytesIO"
      ]
    },
    {
      "cell_type": "markdown",
      "metadata": {
        "id": "mQqpHuSAv7jQ"
      },
      "source": [
        "load the data"
      ]
    },
    {
      "cell_type": "code",
      "execution_count": 17,
      "metadata": {
        "id": "I1kacfdVOazn"
      },
      "outputs": [],
      "source": [
        "def load_npy_file(url):\n",
        "    response = requests.get(url)\n",
        "    if response.status_code == 200:\n",
        "        npy_data = np.load(BytesIO(response.content), allow_pickle=True).item()\n",
        "        return npy_data\n",
        "    else:\n",
        "        return None\n",
        "\n",
        "# Load the dictionary\n",
        "data_dict = load_npy_file('https://sharon.srworkspace.com/ml/datasets/hw3/linreg_data_2d.npy')\n",
        "\n",
        "# Access the data as needed\n",
        "x_train = data_dict['x_train']\n",
        "y_train = data_dict['y_train']\n",
        "x_test = data_dict['x_test']\n",
        "y_test = data_dict['y_test']"
      ]
    },
    {
      "cell_type": "markdown",
      "metadata": {
        "id": "-BQvjVJBv-XG"
      },
      "source": [
        "Look at the plot of the training data. <br/>"
      ]
    },
    {
      "cell_type": "code",
      "execution_count": 18,
      "metadata": {
        "id": "ElyUJojEwCa7"
      },
      "outputs": [
        {
          "data": {
            "image/png": "[encoded data removed]",
            "text/plain": [
              "<Figure size 640x480 with 1 Axes>"
            ]
          },
          "metadata": {},
          "output_type": "display_data"
        }
      ],
      "source": [
        "plt.scatter(x_train, y_train, color='blue', s=2)\n",
        "plt.xlabel('X')\n",
        "plt.ylabel('Y')\n",
        "plt.title('Generated Train')\n",
        "plt.show()"
      ]
    },
    {
      "cell_type": "markdown",
      "metadata": {
        "id": "_22-1IsvwPYN"
      },
      "source": [
        "You will use kernelized ridge regression (as learned in tutorial 6) and assume b=0. <br/>\n",
        "Implement the following functions:\n",
        "-\t```kernel(xi, xj, sigma)```: returns the gaussian kernel value $K(x_i,x_j)$.\n",
        "-\t```prepear_kernel_matrix(train)```: using the training, return the Kernel matrix, sized n x n.\n",
        "-\t```get_alphas(kernel, target)```: returns the alphas, as learned.\n",
        "-\t```predict(alphas, train, test)```: predict the regressor for one test sample.\n",
        "\n",
        "For efficiency, make sure ```kernel```,```predict``` won't contain any loops, and ```prepear_kernel``` will only contain one loop"
      ]
    },
    {
      "cell_type": "code",
      "execution_count": 23,
      "metadata": {
        "id": "GPe3CkKPTHpT"
      },
      "outputs": [],
      "source": [
        "def kernel(xi, xj, sigma):\n",
        "  return np.exp(-(np.linalg.norm(xi-xj) ** 2)/ 2 * (sigma ** 2))\n",
        "\n",
        "def prepear_kernel_matrix(train, sigma):\n",
        "  K = np.zeros((len(train), len(train)))\n",
        "  for i in range(len(train)):\n",
        "    for j in range(len(train)):\n",
        "      K[i,j] = kernel(train[i], train[j], sigma)\n",
        "  return K\n",
        "\n",
        "def get_alphas(kernel, target, lamda=0.01):\n",
        "  return (np.linalg.inv(kernel + lamda* np.identity(len(target))).dot(target))\n",
        "\n",
        "def predict(alphas, train, test, sigma):\n",
        "  pred = 0\n",
        "  for i, rowTrain in enumerate(train):\n",
        "    pred += alphas[i] * kernel(train[i], test, sigma)"
      ]
    },
    {
      "cell_type": "markdown",
      "metadata": {
        "id": "qwfgxc-FwqR8"
      },
      "source": [
        "Use $\\sigma=4$ and plot in black the regressor."
      ]
    },
    {
      "cell_type": "code",
      "execution_count": 24,
      "metadata": {
        "id": "kPdS472JVSkI"
      },
      "outputs": [
        {
          "data": {
            "image/png": "[encoded data removed]",
            "text/plain": [
              "<Figure size 640x480 with 1 Axes>"
            ]
          },
          "metadata": {},
          "output_type": "display_data"
        }
      ],
      "source": [
        "xx = np.arange(0, 100, 0.1).reshape((1000,1))\n",
        "yy = []\n",
        "train_kernel = prepear_kernel_matrix(x_train, sigma=4)\n",
        "alphas = get_alphas(train_kernel, y_train)\n",
        "\n",
        "for samp in xx:\n",
        "  yy.append(predict(alphas, x_train, samp, sigma=4))\n",
        "\n",
        "plt.scatter(x_train, y_train, color='blue', s=2, label='train')\n",
        "plt.scatter(x_test, y_test, color='red', s=2, label='test')\n",
        "plt.plot(xx, yy, color='black')\n",
        "plt.show()"
      ]
    },
    {
      "cell_type": "markdown",
      "metadata": {
        "id": "AHM-dbIBpeBi"
      },
      "source": [
        "Print MSE of train and test."
      ]
    },
    {
      "cell_type": "code",
      "execution_count": 25,
      "metadata": {
        "id": "ok1vyjsnpgft"
      },
      "outputs": [
        {
          "ename": "TypeError",
          "evalue": "unsupported operand type(s) for -: 'NoneType' and 'float'",
          "output_type": "error",
          "traceback": [
            "\u001b[1;31m---------------------------------------------------------------------------\u001b[0m",
            "\u001b[1;31mTypeError\u001b[0m                                 Traceback (most recent call last)",
            "Cell \u001b[1;32mIn[25], line 3\u001b[0m\n\u001b[0;32m      1\u001b[0m mse \u001b[38;5;241m=\u001b[39m \u001b[38;5;241m0\u001b[39m\n\u001b[0;32m      2\u001b[0m \u001b[38;5;28;01mfor\u001b[39;00m idx, samp \u001b[38;5;129;01min\u001b[39;00m \u001b[38;5;28menumerate\u001b[39m(x_train):\n\u001b[1;32m----> 3\u001b[0m   mse \u001b[38;5;241m+\u001b[39m\u001b[38;5;241m=\u001b[39m (\u001b[43mpredict\u001b[49m\u001b[43m(\u001b[49m\u001b[43malphas\u001b[49m\u001b[43m,\u001b[49m\u001b[43m \u001b[49m\u001b[43mx_train\u001b[49m\u001b[43m,\u001b[49m\u001b[43m \u001b[49m\u001b[43msamp\u001b[49m\u001b[43m,\u001b[49m\u001b[43m \u001b[49m\u001b[43msigma\u001b[49m\u001b[38;5;241;43m=\u001b[39;49m\u001b[38;5;241;43m4\u001b[39;49m\u001b[43m)\u001b[49m\u001b[43m \u001b[49m\u001b[38;5;241;43m-\u001b[39;49m\u001b[43m \u001b[49m\u001b[43my_train\u001b[49m\u001b[43m[\u001b[49m\u001b[43midx\u001b[49m\u001b[43m]\u001b[49m) \u001b[38;5;241m*\u001b[39m\u001b[38;5;241m*\u001b[39m \u001b[38;5;241m2\u001b[39m\n\u001b[0;32m      4\u001b[0m mse \u001b[38;5;241m=\u001b[39m mse \u001b[38;5;241m/\u001b[39m \u001b[38;5;28mlen\u001b[39m(x_train)\n\u001b[0;32m      5\u001b[0m \u001b[38;5;28mprint\u001b[39m(\u001b[38;5;124mf\u001b[39m\u001b[38;5;124m'\u001b[39m\u001b[38;5;124mtrain mse is \u001b[39m\u001b[38;5;132;01m{\u001b[39;00mmse\u001b[38;5;132;01m}\u001b[39;00m\u001b[38;5;124m'\u001b[39m)\n",
            "\u001b[1;31mTypeError\u001b[0m: unsupported operand type(s) for -: 'NoneType' and 'float'"
          ]
        }
      ],
      "source": [
        "mse = 0\n",
        "for idx, samp in enumerate(x_train):\n",
        "  mse += (predict(alphas, x_train, samp, sigma=4) - y_train[idx]) ** 2\n",
        "mse = mse / len(x_train)\n",
        "print(f'train mse is {mse}')\n",
        "\n",
        "mse = 0\n",
        "for idx, samp in enumerate(x_test):\n",
        "  mse += (predict(alphas, x_train, samp, sigma=4) - y_test[idx]) ** 2\n",
        "mse = mse / len(x_test)\n",
        "print(f'test mse is {mse}')"
      ]
    },
    {
      "cell_type": "markdown",
      "metadata": {
        "id": "GAxzUOamxeDV"
      },
      "source": [
        "Create validation set with 20 samples, using train_test_split and random search to tune better $λ,\\sigma$. <br/>"
      ]
    },
    {
      "cell_type": "code",
      "execution_count": null,
      "metadata": {
        "id": "iJkWjAWomB8z"
      },
      "outputs": [],
      "source": [
        "# Implement here"
      ]
    },
    {
      "cell_type": "markdown",
      "metadata": {
        "id": "CGS2ym1Dri20"
      },
      "source": [
        "Train the model again on all the training, on the best tuned hyperparamters. Don't forget to re-generate the alphas<br/>\n",
        "Print the new train and test MSE."
      ]
    },
    {
      "cell_type": "code",
      "execution_count": null,
      "metadata": {
        "id": "IW2VQEU9riiJ"
      },
      "outputs": [],
      "source": [
        "# Implement here"
      ]
    },
    {
      "cell_type": "markdown",
      "metadata": {
        "id": "JbUgLrYkykae"
      },
      "source": [
        "Plot new vs old regressor. Is the result better? (answer for yorselves)"
      ]
    },
    {
      "cell_type": "code",
      "execution_count": null,
      "metadata": {
        "id": "zXfUxzhGbztN"
      },
      "outputs": [],
      "source": [
        "xx = np.arange(0, 100, 0.1).reshape((1000,1))\n",
        "yy2 = []\n",
        "\n",
        "for samp in xx:\n",
        "  yy2.append(predict(alphas, x_train, samp, sigma=best_sigma))\n",
        "\n",
        "plt.scatter(x_train, y_train, color='blue', s=2, label='train')\n",
        "plt.scatter(x_test, y_test, color='red', s=2, label='test')\n",
        "plt.plot(xx, yy, color='black', label='origin plot')\n",
        "plt.plot(xx, yy2, color='green', label='tuned plot')\n",
        "plt.legend()\n",
        "plt.show()"
      ]
    },
    {
      "cell_type": "markdown",
      "metadata": {
        "id": "VumpPbweXEmp"
      },
      "source": [
        "## Question 4 - PAC\n",
        "See attached pdf in moodle assignment!"
      ]
    },
    {
      "cell_type": "markdown",
      "metadata": {
        "id": "Qp6MpK5Ivj8y"
      },
      "source": [
        "## Question 5 - 3 points bonus"
      ]
    },
    {
      "cell_type": "markdown",
      "metadata": {
        "id": "WeAwl1Ipvtfh"
      },
      "source": [
        "Recall the data you've worked with in hw1. Now we are going to look at it again but apply ridge regression"
      ]
    },
    {
      "cell_type": "code",
      "execution_count": null,
      "metadata": {
        "id": "ZuUauQv5vjjw"
      },
      "outputs": [],
      "source": [
        "import numpy as np\n",
        "import matplotlib.pyplot as plt\n",
        "data = np.array([[0.4, 3.4], [0.95, 5.8], [0.16, 2.9], [0.7, 3.6], [0.59, 3.27], [0.11, 1.89], [0.05, 4.5], [0.6, 5.0]])"
      ]
    },
    {
      "cell_type": "markdown",
      "metadata": {
        "id": "Ds3fx2SbvwZi"
      },
      "source": [
        "solve and plot the regular line. Bad line, bad!"
      ]
    },
    {
      "cell_type": "code",
      "execution_count": null,
      "metadata": {
        "id": "3rNoTulUvy6q"
      },
      "outputs": [],
      "source": [
        "from sklearn.linear_model import LinearRegression\n",
        "\n",
        "reg = LinearRegression().fit(data[:,:1], data[:,1])\n",
        "\n",
        "print(\"MSE IS \", reg.score(data[:,:1], data[:,1]))\n",
        "\n",
        "x = np.arange(-0.01, 1, 0.01)\n",
        "y = reg.coef_ * x + reg.intercept_\n",
        "plt.plot(x,y)\n",
        "\n",
        "plt.scatter(data[:,0], data[:,1], color='blue', label='Data')\n",
        "plt.show()"
      ]
    },
    {
      "cell_type": "markdown",
      "metadata": {
        "id": "Sxex6NgDv6v4"
      },
      "source": [
        "Now, do the same with ridge. Better?"
      ]
    },
    {
      "cell_type": "code",
      "execution_count": null,
      "metadata": {
        "id": "FShXMzY1v6fN"
      },
      "outputs": [],
      "source": [
        "from sklearn.linear_model import Ridge\n",
        "\n",
        "reg = Ridge(alpha=1).fit(data[:,:1], data[:,1])\n",
        "\n",
        "print(\"MSE IS \", reg.score(data[:,:1], data[:,1]))\n",
        "\n",
        "x = np.arange(-0.01, 1, 0.01)\n",
        "y = reg.coef_ * x + reg.intercept_\n",
        "plt.plot(x,y)\n",
        "\n",
        "plt.scatter(data[:,0], data[:,1], color='blue', label='Data')\n",
        "plt.show()"
      ]
    },
    {
      "cell_type": "markdown",
      "metadata": {
        "id": "ykZxBR3Kv9hp"
      },
      "source": [
        "Robust linear regression!"
      ]
    },
    {
      "cell_type": "code",
      "execution_count": null,
      "metadata": {
        "id": "IXoV2Elyv_F4"
      },
      "outputs": [],
      "source": [
        "from sklearn.linear_model import RANSACRegressor\n",
        "\n",
        "reg = RANSACRegressor(random_state=0).fit(data[:,:1], data[:,1])\n",
        "\n",
        "print(\"MSE IS \", reg.score(data[:,:1], data[:,1]))\n",
        "\n",
        "x = np.arange(-0.01, 1, 0.01)\n",
        "y = reg.predict(x[:,np.newaxis])\n",
        "plt.plot(x,y)\n",
        "\n",
        "plt.scatter(data[:,0], data[:,1], color='blue', label='Data')\n",
        "plt.show()"
      ]
    },
    {
      "cell_type": "markdown",
      "metadata": {
        "id": "8fxeiUanwHaK"
      },
      "source": [
        "Actually, robust linear regression has the following objective:\n",
        "$$ w,b=\\text{arg}\\min_{w,b} ||\\bar{X}w-b||_2^2+x^\\top P x$$\n",
        "$U$ is random noise, $\\mathbb{E}[U]=0$ and $P=U^\\top U$. Moreover, $\\bar{X}=X+U$.\n",
        "where $X$ is our original data. We already saw that regular linear regression works under the assumption of gaussian noise, but what happens when $P=\\delta I$? <br/>\n",
        "<font color='red'>Write here your answer and explain it</font>"
      ]
    }
  ],
  "metadata": {
    "colab": {
      "collapsed_sections": [
        "loHiZy0lVzT0",
        "3hAgcBEZ6unF",
        "D6EK6Vxivmng",
        "Qp6MpK5Ivj8y"
      ],
      "provenance": []
    },
    "gpuClass": "standard",
    "kernelspec": {
      "display_name": "Python 3",
      "name": "python3"
    },
    "language_info": {
      "codemirror_mode": {
        "name": "ipython",
        "version": 3
      },
      "file_extension": ".py",
      "mimetype": "text/x-python",
      "name": "python",
      "nbconvert_exporter": "python",
      "pygments_lexer": "ipython3",
      "version": "3.12.1"
    }
  },
  "nbformat": 4,
  "nbformat_minor": 0
}
