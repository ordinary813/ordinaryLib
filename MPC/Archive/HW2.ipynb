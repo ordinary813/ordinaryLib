{
 "cells": [
  {
   "cell_type": "markdown",
   "metadata": {},
   "source": [
    "Dealer class:"
   ]
  },
  {
   "cell_type": "code",
   "execution_count": null,
   "metadata": {},
   "outputs": [],
   "source": [
    "class Dealer:\n",
    "    def __init__(self):\n",
    "        self.output = 0\n",
    "        \n",
    "    def RandA():\n",
    "        return 1\n",
    "    \n",
    "    def RandB():\n",
    "        return 1"
   ]
  },
  {
   "cell_type": "markdown",
   "metadata": {},
   "source": [
    "a random party's class:"
   ]
  },
  {
   "cell_type": "code",
   "execution_count": null,
   "metadata": {},
   "outputs": [],
   "source": [
    "class Alice:\n",
    "    def __init__(self,input, randomized):\n",
    "        self.input = input\n",
    "        self.randomized = randomized\n",
    "        \n",
    "    def Send(value):\n",
    "        # DO SOMETHING\n",
    "        \n",
    "    def Receive(value):\n",
    "        # DO SOMETHING\n",
    "        \n",
    "    def Output():\n",
    "        # DO SOMETHING"
   ]
  },
  {
   "cell_type": "markdown",
   "metadata": {},
   "source": [
    "test:"
   ]
  },
  {
   "cell_type": "code",
   "execution_count": null,
   "metadata": {},
   "outputs": [],
   "source": [
    "dealer = Dealer()\n",
    "alice = Alice(x, dealer.RandA())\n",
    "bob = Bob(y, dealer.RandB())\n",
    "bob.Receive(alice.Send())\n",
    "alice.Receive(bob.Send())\n",
    "z = alice.Output()"
   ]
  }
 ],
 "metadata": {
  "kernelspec": {
   "display_name": "Python 3",
   "language": "python",
   "name": "python3"
  },
  "language_info": {
   "name": "python",
   "version": "3.10.12"
  }
 },
 "nbformat": 4,
 "nbformat_minor": 2
}
